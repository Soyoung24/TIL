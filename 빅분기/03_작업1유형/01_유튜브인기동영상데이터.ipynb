{
 "cells": [
  {
   "cell_type": "code",
   "execution_count": 2,
   "id": "ed858272",
   "metadata": {},
   "outputs": [
    {
     "data": {
      "text/html": [
       "<div>\n",
       "<style scoped>\n",
       "    .dataframe tbody tr th:only-of-type {\n",
       "        vertical-align: middle;\n",
       "    }\n",
       "\n",
       "    .dataframe tbody tr th {\n",
       "        vertical-align: top;\n",
       "    }\n",
       "\n",
       "    .dataframe thead th {\n",
       "        text-align: right;\n",
       "    }\n",
       "</style>\n",
       "<table border=\"1\" class=\"dataframe\">\n",
       "  <thead>\n",
       "    <tr style=\"text-align: right;\">\n",
       "      <th></th>\n",
       "      <th>title</th>\n",
       "      <th>channelTitle</th>\n",
       "      <th>categoryId</th>\n",
       "      <th>view_count</th>\n",
       "      <th>likes</th>\n",
       "      <th>dislikes</th>\n",
       "      <th>comment_count</th>\n",
       "      <th>channelId</th>\n",
       "      <th>trending_date2</th>\n",
       "    </tr>\n",
       "  </thead>\n",
       "  <tbody>\n",
       "    <tr>\n",
       "      <th>0</th>\n",
       "      <td>[신병] 물자창고</td>\n",
       "      <td>장삐쭈</td>\n",
       "      <td>23</td>\n",
       "      <td>1893473</td>\n",
       "      <td>38249</td>\n",
       "      <td>730</td>\n",
       "      <td>8595</td>\n",
       "      <td>UChbE5OZQ6dRHECsX0tEPEZQ</td>\n",
       "      <td>2021-01-01</td>\n",
       "    </tr>\n",
       "    <tr>\n",
       "      <th>1</th>\n",
       "      <td>RAIN(비) - 나로 바꾸자 Switch to me (duet with JYP) MV</td>\n",
       "      <td>RAIN's Official Channel</td>\n",
       "      <td>10</td>\n",
       "      <td>2600864</td>\n",
       "      <td>0</td>\n",
       "      <td>0</td>\n",
       "      <td>20129</td>\n",
       "      <td>UCxXgIeE5hxWxHG6dz9Scg2w</td>\n",
       "      <td>2021-01-01</td>\n",
       "    </tr>\n",
       "    <tr>\n",
       "      <th>2</th>\n",
       "      <td>2020년 제야의 종 온라인 타종행사 | 보신각 현장 행사는 진행하지 않습니다.</td>\n",
       "      <td>서울시 · Seoul</td>\n",
       "      <td>29</td>\n",
       "      <td>347049</td>\n",
       "      <td>3564</td>\n",
       "      <td>120</td>\n",
       "      <td>178</td>\n",
       "      <td>UCZUPZW5idAxYp-Asj__lVAA</td>\n",
       "      <td>2021-01-01</td>\n",
       "    </tr>\n",
       "    <tr>\n",
       "      <th>3</th>\n",
       "      <td>고기남자의 칠면조 파티</td>\n",
       "      <td>고기남자 MeatMan</td>\n",
       "      <td>26</td>\n",
       "      <td>528458</td>\n",
       "      <td>15372</td>\n",
       "      <td>280</td>\n",
       "      <td>3470</td>\n",
       "      <td>UCT3CumbFIJiW33uq0UI3zlg</td>\n",
       "      <td>2021-01-01</td>\n",
       "    </tr>\n",
       "    <tr>\n",
       "      <th>4</th>\n",
       "      <td>골목 3mc를 분노하게 만든 마음고생이 심했을 공릉 백반집 사장님의 푸념?! [예능...</td>\n",
       "      <td>스브스밥집</td>\n",
       "      <td>24</td>\n",
       "      <td>494904</td>\n",
       "      <td>3918</td>\n",
       "      <td>111</td>\n",
       "      <td>3142</td>\n",
       "      <td>UCdWgRSfttvDucq4ApcCg5Mw</td>\n",
       "      <td>2021-01-01</td>\n",
       "    </tr>\n",
       "  </tbody>\n",
       "</table>\n",
       "</div>"
      ],
      "text/plain": [
       "                                               title             channelTitle  \\\n",
       "0                                          [신병] 물자창고                      장삐쭈   \n",
       "1   RAIN(비) - 나로 바꾸자 Switch to me (duet with JYP) MV  RAIN's Official Channel   \n",
       "2       2020년 제야의 종 온라인 타종행사 | 보신각 현장 행사는 진행하지 않습니다.              서울시 · Seoul   \n",
       "3                                       고기남자의 칠면조 파티             고기남자 MeatMan   \n",
       "4  골목 3mc를 분노하게 만든 마음고생이 심했을 공릉 백반집 사장님의 푸념?! [예능...                    스브스밥집   \n",
       "\n",
       "   categoryId  view_count  likes  dislikes  comment_count  \\\n",
       "0          23     1893473  38249       730           8595   \n",
       "1          10     2600864      0         0          20129   \n",
       "2          29      347049   3564       120            178   \n",
       "3          26      528458  15372       280           3470   \n",
       "4          24      494904   3918       111           3142   \n",
       "\n",
       "                  channelId trending_date2  \n",
       "0  UChbE5OZQ6dRHECsX0tEPEZQ     2021-01-01  \n",
       "1  UCxXgIeE5hxWxHG6dz9Scg2w     2021-01-01  \n",
       "2  UCZUPZW5idAxYp-Asj__lVAA     2021-01-01  \n",
       "3  UCT3CumbFIJiW33uq0UI3zlg     2021-01-01  \n",
       "4  UCdWgRSfttvDucq4ApcCg5Mw     2021-01-01  "
      ]
     },
     "execution_count": 2,
     "metadata": {},
     "output_type": "execute_result"
    }
   ],
   "source": [
    "import pandas as pd\n",
    "df = pd.read_csv(\"https://raw.githubusercontent.com/Datamanim/datarepo/main/youtube/youtube.csv\",index_col=0)\n",
    "df.head()"
   ]
  },
  {
   "cell_type": "markdown",
   "id": "e6f48057",
   "metadata": {},
   "source": [
    "### Question \n",
    "인기동영상 제작횟수가 많은 채널 상위 10개명을 출력하라 (날짜기준, 중복포함)"
   ]
  },
  {
   "cell_type": "code",
   "execution_count": 14,
   "id": "bc12b30b",
   "metadata": {},
   "outputs": [
    {
     "name": "stdout",
     "output_type": "stream",
     "text": [
      "['장삐쭈', '총몇명', '파뿌리', '짤툰', '런닝맨 - 스브스 공식 채널', '엠뚜루마뚜루 : MBC 공식 종합 채널', 'SPOTV', '채널 십오야', '이과장', 'BANGTANTV']\n"
     ]
    }
   ],
   "source": [
    "ans=list(df.loc[df.channelId.isin(df.channelId.value_counts().head(10).index)].channelTitle.unique())\n",
    "print(ans)"
   ]
  },
  {
   "cell_type": "code",
   "execution_count": 13,
   "id": "bf2bcf68",
   "metadata": {},
   "outputs": [
    {
     "data": {
      "text/plain": [
       "UCszFjh7CEfwDb7UUGb4RzCQ    372\n",
       "UClzB2iZ5jPoTNz0S-QU6Wiw    318\n",
       "UCtm_QoN2SIxwCE-59shX7Qg    318\n",
       "UCaKod3X1Tn4c7Ci0iUKcvzQ    313\n",
       "UCiwQRG2sCcfjKkgxMEdJGPg    293\n",
       "UChbE5OZQ6dRHECsX0tEPEZQ    283\n",
       "UCLkAepWjdylmXSltofFvsYQ    275\n",
       "UCQ2O-iftmnlfrBuNsUUTofQ    274\n",
       "UCtfriFvIe5gIe8wRWb8UTMg    258\n",
       "UCRuSxVu4iqTK5kCh90ntAgA    255\n",
       "Name: channelId, dtype: int64"
      ]
     },
     "execution_count": 13,
     "metadata": {},
     "output_type": "execute_result"
    }
   ],
   "source": [
    "df.channelId.value_counts().head(10)"
   ]
  },
  {
   "cell_type": "code",
   "execution_count": 11,
   "id": "195b05d5",
   "metadata": {},
   "outputs": [
    {
     "data": {
      "text/plain": [
       "Index(['UCszFjh7CEfwDb7UUGb4RzCQ', 'UClzB2iZ5jPoTNz0S-QU6Wiw',\n",
       "       'UCtm_QoN2SIxwCE-59shX7Qg', 'UCaKod3X1Tn4c7Ci0iUKcvzQ',\n",
       "       'UCiwQRG2sCcfjKkgxMEdJGPg', 'UChbE5OZQ6dRHECsX0tEPEZQ',\n",
       "       'UCLkAepWjdylmXSltofFvsYQ', 'UCQ2O-iftmnlfrBuNsUUTofQ',\n",
       "       'UCtfriFvIe5gIe8wRWb8UTMg', 'UCRuSxVu4iqTK5kCh90ntAgA'],\n",
       "      dtype='object')"
      ]
     },
     "execution_count": 11,
     "metadata": {},
     "output_type": "execute_result"
    }
   ],
   "source": [
    "df.channelId.value_counts().head(10).index"
   ]
  },
  {
   "cell_type": "markdown",
   "id": "43db7269",
   "metadata": {},
   "source": [
    "### Question\n",
    "논란으로 인기동영상이 된 케이스를 확인하고 싶다. dislikes수가 like 수보다 높은 동영상을 제작한 채널을 모두 출력하라\n",
    "\n"
   ]
  },
  {
   "cell_type": "code",
   "execution_count": 18,
   "id": "a3f46279",
   "metadata": {},
   "outputs": [
    {
     "name": "stdout",
     "output_type": "stream",
     "text": [
      "['핫도그TV' 'ASMR 애정TV' '하얀트리HayanTree' '양팡 YangPang' '철구형 (CHULTUBE)'\n",
      " '왜냐맨하우스' '(MUTUBE)와꾸대장봉준' '오메킴TV' '육지담' 'MapleStory_KR'\n",
      " 'ROAD FIGHTING CHAMPIONSHIP' '사나이 김기훈' '나혼자산다 STUDIO' 'Gen.G esports']\n"
     ]
    }
   ],
   "source": [
    "print(df.loc[df.dislikes>df.likes].channelTitle.unique())"
   ]
  },
  {
   "cell_type": "markdown",
   "id": "eb3d8c88",
   "metadata": {},
   "source": [
    "### Question\n",
    "채널명을 바꾼 케이스가 있는지 확인하고 싶다. channelId의 경우 고유값이므로 이를 통해 채널명을 한번이라도 바꾼 채널의 갯수를 구하여라\n",
    "\n"
   ]
  },
  {
   "cell_type": "code",
   "execution_count": 34,
   "id": "32ad4e42",
   "metadata": {},
   "outputs": [
    {
     "name": "stdout",
     "output_type": "stream",
     "text": [
      "71\n"
     ]
    }
   ],
   "source": [
    "change=df[['channelId', 'channelTitle']].drop_duplicates().channelId.value_counts()\n",
    "ans = change[change>1]\n",
    "print(len(ans))"
   ]
  },
  {
   "cell_type": "markdown",
   "id": "04ccc6ec",
   "metadata": {},
   "source": [
    "### Question\n",
    "일요일에 인기있었던 영상들중 가장많은 영상 종류(categoryId)는 무엇인가?"
   ]
  },
  {
   "cell_type": "code",
   "execution_count": 41,
   "id": "596bf615",
   "metadata": {},
   "outputs": [],
   "source": [
    "df['trending_date3']= pd.to_datetime(df['trending_date2'])"
   ]
  },
  {
   "cell_type": "code",
   "execution_count": 52,
   "id": "4774b895",
   "metadata": {},
   "outputs": [],
   "source": [
    "df['dayname']=df['trending_date3'].dt.day_name()"
   ]
  },
  {
   "cell_type": "code",
   "execution_count": 58,
   "id": "7e7efccc",
   "metadata": {},
   "outputs": [
    {
     "name": "stdout",
     "output_type": "stream",
     "text": [
      "24\n"
     ]
    }
   ],
   "source": [
    "print(df[df['dayname']=='Sunday'].categoryId.value_counts().index[0])"
   ]
  },
  {
   "cell_type": "markdown",
   "id": "8fd1d17a",
   "metadata": {},
   "source": [
    "### Question\n",
    "각 요일별 인기 영상들의 categoryId는 각각 몇개 씩인지 하나의 데이터 프레임으로 표현하라"
   ]
  },
  {
   "cell_type": "code",
   "execution_count": 68,
   "id": "90c692b2",
   "metadata": {},
   "outputs": [],
   "source": [
    "group = df.groupby(['dayname', 'categoryId'], as_index=False).size()"
   ]
  },
  {
   "cell_type": "code",
   "execution_count": 69,
   "id": "209facc2",
   "metadata": {},
   "outputs": [
    {
     "data": {
      "text/html": [
       "<div>\n",
       "<style scoped>\n",
       "    .dataframe tbody tr th:only-of-type {\n",
       "        vertical-align: middle;\n",
       "    }\n",
       "\n",
       "    .dataframe tbody tr th {\n",
       "        vertical-align: top;\n",
       "    }\n",
       "\n",
       "    .dataframe thead th {\n",
       "        text-align: right;\n",
       "    }\n",
       "</style>\n",
       "<table border=\"1\" class=\"dataframe\">\n",
       "  <thead>\n",
       "    <tr style=\"text-align: right;\">\n",
       "      <th></th>\n",
       "      <th>dayname</th>\n",
       "      <th>categoryId</th>\n",
       "      <th>size</th>\n",
       "    </tr>\n",
       "  </thead>\n",
       "  <tbody>\n",
       "    <tr>\n",
       "      <th>0</th>\n",
       "      <td>Friday</td>\n",
       "      <td>1</td>\n",
       "      <td>243</td>\n",
       "    </tr>\n",
       "    <tr>\n",
       "      <th>1</th>\n",
       "      <td>Friday</td>\n",
       "      <td>2</td>\n",
       "      <td>120</td>\n",
       "    </tr>\n",
       "    <tr>\n",
       "      <th>2</th>\n",
       "      <td>Friday</td>\n",
       "      <td>10</td>\n",
       "      <td>833</td>\n",
       "    </tr>\n",
       "    <tr>\n",
       "      <th>3</th>\n",
       "      <td>Friday</td>\n",
       "      <td>15</td>\n",
       "      <td>187</td>\n",
       "    </tr>\n",
       "    <tr>\n",
       "      <th>4</th>\n",
       "      <td>Friday</td>\n",
       "      <td>17</td>\n",
       "      <td>633</td>\n",
       "    </tr>\n",
       "    <tr>\n",
       "      <th>...</th>\n",
       "      <td>...</td>\n",
       "      <td>...</td>\n",
       "      <td>...</td>\n",
       "    </tr>\n",
       "    <tr>\n",
       "      <th>100</th>\n",
       "      <td>Wednesday</td>\n",
       "      <td>25</td>\n",
       "      <td>468</td>\n",
       "    </tr>\n",
       "    <tr>\n",
       "      <th>101</th>\n",
       "      <td>Wednesday</td>\n",
       "      <td>26</td>\n",
       "      <td>385</td>\n",
       "    </tr>\n",
       "    <tr>\n",
       "      <th>102</th>\n",
       "      <td>Wednesday</td>\n",
       "      <td>27</td>\n",
       "      <td>212</td>\n",
       "    </tr>\n",
       "    <tr>\n",
       "      <th>103</th>\n",
       "      <td>Wednesday</td>\n",
       "      <td>28</td>\n",
       "      <td>165</td>\n",
       "    </tr>\n",
       "    <tr>\n",
       "      <th>104</th>\n",
       "      <td>Wednesday</td>\n",
       "      <td>29</td>\n",
       "      <td>12</td>\n",
       "    </tr>\n",
       "  </tbody>\n",
       "</table>\n",
       "<p>105 rows × 3 columns</p>\n",
       "</div>"
      ],
      "text/plain": [
       "       dayname  categoryId  size\n",
       "0       Friday           1   243\n",
       "1       Friday           2   120\n",
       "2       Friday          10   833\n",
       "3       Friday          15   187\n",
       "4       Friday          17   633\n",
       "..         ...         ...   ...\n",
       "100  Wednesday          25   468\n",
       "101  Wednesday          26   385\n",
       "102  Wednesday          27   212\n",
       "103  Wednesday          28   165\n",
       "104  Wednesday          29    12\n",
       "\n",
       "[105 rows x 3 columns]"
      ]
     },
     "execution_count": 69,
     "metadata": {},
     "output_type": "execute_result"
    }
   ],
   "source": [
    "group"
   ]
  },
  {
   "cell_type": "code",
   "execution_count": 71,
   "id": "e257b56b",
   "metadata": {},
   "outputs": [
    {
     "data": {
      "text/html": [
       "<div>\n",
       "<style scoped>\n",
       "    .dataframe tbody tr th:only-of-type {\n",
       "        vertical-align: middle;\n",
       "    }\n",
       "\n",
       "    .dataframe tbody tr th {\n",
       "        vertical-align: top;\n",
       "    }\n",
       "\n",
       "    .dataframe thead th {\n",
       "        text-align: right;\n",
       "    }\n",
       "</style>\n",
       "<table border=\"1\" class=\"dataframe\">\n",
       "  <thead>\n",
       "    <tr style=\"text-align: right;\">\n",
       "      <th>dayname</th>\n",
       "      <th>Friday</th>\n",
       "      <th>Monday</th>\n",
       "      <th>Saturday</th>\n",
       "      <th>Sunday</th>\n",
       "      <th>Thursday</th>\n",
       "      <th>Tuesday</th>\n",
       "      <th>Wednesday</th>\n",
       "    </tr>\n",
       "    <tr>\n",
       "      <th>categoryId</th>\n",
       "      <th></th>\n",
       "      <th></th>\n",
       "      <th></th>\n",
       "      <th></th>\n",
       "      <th></th>\n",
       "      <th></th>\n",
       "      <th></th>\n",
       "    </tr>\n",
       "  </thead>\n",
       "  <tbody>\n",
       "    <tr>\n",
       "      <th>1</th>\n",
       "      <td>243</td>\n",
       "      <td>263</td>\n",
       "      <td>255</td>\n",
       "      <td>274</td>\n",
       "      <td>246</td>\n",
       "      <td>257</td>\n",
       "      <td>234</td>\n",
       "    </tr>\n",
       "    <tr>\n",
       "      <th>2</th>\n",
       "      <td>120</td>\n",
       "      <td>105</td>\n",
       "      <td>119</td>\n",
       "      <td>99</td>\n",
       "      <td>128</td>\n",
       "      <td>119</td>\n",
       "      <td>129</td>\n",
       "    </tr>\n",
       "    <tr>\n",
       "      <th>10</th>\n",
       "      <td>833</td>\n",
       "      <td>837</td>\n",
       "      <td>776</td>\n",
       "      <td>830</td>\n",
       "      <td>890</td>\n",
       "      <td>894</td>\n",
       "      <td>917</td>\n",
       "    </tr>\n",
       "    <tr>\n",
       "      <th>15</th>\n",
       "      <td>187</td>\n",
       "      <td>215</td>\n",
       "      <td>198</td>\n",
       "      <td>217</td>\n",
       "      <td>207</td>\n",
       "      <td>208</td>\n",
       "      <td>207</td>\n",
       "    </tr>\n",
       "    <tr>\n",
       "      <th>17</th>\n",
       "      <td>633</td>\n",
       "      <td>668</td>\n",
       "      <td>592</td>\n",
       "      <td>636</td>\n",
       "      <td>682</td>\n",
       "      <td>708</td>\n",
       "      <td>706</td>\n",
       "    </tr>\n",
       "    <tr>\n",
       "      <th>19</th>\n",
       "      <td>90</td>\n",
       "      <td>92</td>\n",
       "      <td>87</td>\n",
       "      <td>91</td>\n",
       "      <td>92</td>\n",
       "      <td>89</td>\n",
       "      <td>85</td>\n",
       "    </tr>\n",
       "    <tr>\n",
       "      <th>20</th>\n",
       "      <td>283</td>\n",
       "      <td>298</td>\n",
       "      <td>296</td>\n",
       "      <td>289</td>\n",
       "      <td>282</td>\n",
       "      <td>285</td>\n",
       "      <td>291</td>\n",
       "    </tr>\n",
       "    <tr>\n",
       "      <th>22</th>\n",
       "      <td>1288</td>\n",
       "      <td>1373</td>\n",
       "      <td>1289</td>\n",
       "      <td>1337</td>\n",
       "      <td>1341</td>\n",
       "      <td>1375</td>\n",
       "      <td>1333</td>\n",
       "    </tr>\n",
       "    <tr>\n",
       "      <th>23</th>\n",
       "      <td>568</td>\n",
       "      <td>594</td>\n",
       "      <td>570</td>\n",
       "      <td>556</td>\n",
       "      <td>560</td>\n",
       "      <td>569</td>\n",
       "      <td>566</td>\n",
       "    </tr>\n",
       "    <tr>\n",
       "      <th>24</th>\n",
       "      <td>2976</td>\n",
       "      <td>3148</td>\n",
       "      <td>3066</td>\n",
       "      <td>3096</td>\n",
       "      <td>2954</td>\n",
       "      <td>3084</td>\n",
       "      <td>3090</td>\n",
       "    </tr>\n",
       "    <tr>\n",
       "      <th>25</th>\n",
       "      <td>444</td>\n",
       "      <td>453</td>\n",
       "      <td>422</td>\n",
       "      <td>437</td>\n",
       "      <td>470</td>\n",
       "      <td>452</td>\n",
       "      <td>468</td>\n",
       "    </tr>\n",
       "    <tr>\n",
       "      <th>26</th>\n",
       "      <td>369</td>\n",
       "      <td>378</td>\n",
       "      <td>364</td>\n",
       "      <td>363</td>\n",
       "      <td>375</td>\n",
       "      <td>394</td>\n",
       "      <td>385</td>\n",
       "    </tr>\n",
       "    <tr>\n",
       "      <th>27</th>\n",
       "      <td>183</td>\n",
       "      <td>205</td>\n",
       "      <td>183</td>\n",
       "      <td>199</td>\n",
       "      <td>194</td>\n",
       "      <td>194</td>\n",
       "      <td>212</td>\n",
       "    </tr>\n",
       "    <tr>\n",
       "      <th>28</th>\n",
       "      <td>171</td>\n",
       "      <td>160</td>\n",
       "      <td>173</td>\n",
       "      <td>167</td>\n",
       "      <td>166</td>\n",
       "      <td>161</td>\n",
       "      <td>165</td>\n",
       "    </tr>\n",
       "    <tr>\n",
       "      <th>29</th>\n",
       "      <td>12</td>\n",
       "      <td>10</td>\n",
       "      <td>10</td>\n",
       "      <td>9</td>\n",
       "      <td>13</td>\n",
       "      <td>11</td>\n",
       "      <td>12</td>\n",
       "    </tr>\n",
       "  </tbody>\n",
       "</table>\n",
       "</div>"
      ],
      "text/plain": [
       "dayname     Friday  Monday  Saturday  Sunday  Thursday  Tuesday  Wednesday\n",
       "categoryId                                                                \n",
       "1              243     263       255     274       246      257        234\n",
       "2              120     105       119      99       128      119        129\n",
       "10             833     837       776     830       890      894        917\n",
       "15             187     215       198     217       207      208        207\n",
       "17             633     668       592     636       682      708        706\n",
       "19              90      92        87      91        92       89         85\n",
       "20             283     298       296     289       282      285        291\n",
       "22            1288    1373      1289    1337      1341     1375       1333\n",
       "23             568     594       570     556       560      569        566\n",
       "24            2976    3148      3066    3096      2954     3084       3090\n",
       "25             444     453       422     437       470      452        468\n",
       "26             369     378       364     363       375      394        385\n",
       "27             183     205       183     199       194      194        212\n",
       "28             171     160       173     167       166      161        165\n",
       "29              12      10        10       9        13       11         12"
      ]
     },
     "execution_count": 71,
     "metadata": {},
     "output_type": "execute_result"
    }
   ],
   "source": [
    "group.pivot(index='categoryId', columns='dayname', values='size')"
   ]
  },
  {
   "cell_type": "markdown",
   "id": "ea47c6d2",
   "metadata": {},
   "source": [
    "### Question\n",
    "댓글의 수로 (comment_count) 영상 반응에 대한 판단을 할 수 있다. viewcount대비 댓글수가 가장 높은 영상을 확인하라 (view_count값이 0인 경우는 제외한다)\n",
    "\n"
   ]
  },
  {
   "cell_type": "code",
   "execution_count": 92,
   "id": "fd8655ab",
   "metadata": {},
   "outputs": [
    {
     "name": "stdout",
     "output_type": "stream",
     "text": [
      "50830    60분 동안 댓글이 달리지 않으면, 영상이 삭제됩니다. (챌린지)\n",
      "Name: title, dtype: object\n"
     ]
    }
   ],
   "source": [
    "aa=df[df.view_count!=0]\n",
    "ans=aa[aa.comment_count/aa.view_count==max(aa.comment_count/aa.view_count)].title\n",
    "print(ans)"
   ]
  },
  {
   "cell_type": "code",
   "execution_count": 103,
   "id": "eb6b1962",
   "metadata": {},
   "outputs": [
    {
     "name": "stdout",
     "output_type": "stream",
     "text": [
      "60분 동안 댓글이 달리지 않으면, 영상이 삭제됩니다. (챌린지)\n"
     ]
    },
    {
     "name": "stderr",
     "output_type": "stream",
     "text": [
      "/var/folders/2w/p0pl3hm93j79mtz1wnlcgq1c0000gn/T/ipykernel_1920/988039640.py:2: SettingWithCopyWarning: \n",
      "A value is trying to be set on a copy of a slice from a DataFrame.\n",
      "Try using .loc[row_indexer,col_indexer] = value instead\n",
      "\n",
      "See the caveats in the documentation: https://pandas.pydata.org/pandas-docs/stable/user_guide/indexing.html#returning-a-view-versus-a-copy\n",
      "  aa['ratio']=(df.comment_count/df.view_count).dropna()\n"
     ]
    }
   ],
   "source": [
    "aa=df[df.view_count!=0]\n",
    "aa['ratio']=(df.comment_count/df.view_count).dropna()\n",
    "abc=aa[aa['ratio']!=0]\n",
    "print(abc.sort_values(by='ratio', ascending=False).iloc[0].title)"
   ]
  },
  {
   "cell_type": "markdown",
   "id": "2ace312f",
   "metadata": {},
   "source": [
    "### Question\n",
    "댓글의 수로 (comment_count) 영상 반응에 대한 판단을 할 수 있다.viewcount대비 댓글수가 가장 낮은 영상을 확인하라 (view_counts, ratio값이 0인경우는 제외한다.)\n",
    "\n"
   ]
  },
  {
   "cell_type": "code",
   "execution_count": 102,
   "id": "60c34ecc",
   "metadata": {},
   "outputs": [
    {
     "name": "stdout",
     "output_type": "stream",
     "text": [
      "Join the BTS #PermissiontoDance Challenge only on YouTube #Shorts\n"
     ]
    },
    {
     "name": "stderr",
     "output_type": "stream",
     "text": [
      "/var/folders/2w/p0pl3hm93j79mtz1wnlcgq1c0000gn/T/ipykernel_1920/897715836.py:2: SettingWithCopyWarning: \n",
      "A value is trying to be set on a copy of a slice from a DataFrame.\n",
      "Try using .loc[row_indexer,col_indexer] = value instead\n",
      "\n",
      "See the caveats in the documentation: https://pandas.pydata.org/pandas-docs/stable/user_guide/indexing.html#returning-a-view-versus-a-copy\n",
      "  aa['ratio']=(aa.comment_count/aa.view_count).dropna()\n"
     ]
    }
   ],
   "source": [
    "aa=df[df.view_count!=0]\n",
    "aa['ratio']=(aa.comment_count/aa.view_count).dropna()\n",
    "abc = aa[aa['ratio']!=0]\n",
    "print(abc.sort_values(by='ratio', ascending=True).iloc[0].title)"
   ]
  },
  {
   "cell_type": "markdown",
   "id": "8385d247",
   "metadata": {},
   "source": [
    "### Question\n",
    "like 대비 dislike의 수가 가장 적은 영상은 무엇인가? (like, dislike 값이 0인경우는 제외한다)\n",
    "\n"
   ]
  },
  {
   "cell_type": "code",
   "execution_count": 104,
   "id": "8d331056",
   "metadata": {},
   "outputs": [
    {
     "name": "stdout",
     "output_type": "stream",
     "text": [
      "[줌터뷰] *최초공개* 사부작즈🐰🐶의 비공식 이름은 아이라인즈? 꿀조합 티키타카 가득한 NCT 127 도영&정우의 줌터뷰\n"
     ]
    },
    {
     "name": "stderr",
     "output_type": "stream",
     "text": [
      "/var/folders/2w/p0pl3hm93j79mtz1wnlcgq1c0000gn/T/ipykernel_1920/3278474853.py:2: SettingWithCopyWarning: \n",
      "A value is trying to be set on a copy of a slice from a DataFrame.\n",
      "Try using .loc[row_indexer,col_indexer] = value instead\n",
      "\n",
      "See the caveats in the documentation: https://pandas.pydata.org/pandas-docs/stable/user_guide/indexing.html#returning-a-view-versus-a-copy\n",
      "  dd['ratio']=(dd['dislikes']/dd['likes']).dropna()\n"
     ]
    }
   ],
   "source": [
    "dd = df[df.likes!=0]\n",
    "dd['ratio']=(dd['dislikes']/dd['likes']).dropna()\n",
    "dd=dd[dd['ratio']!=0]\n",
    "print(dd.sort_values(by='ratio', ascending=True).iloc[0].title)"
   ]
  },
  {
   "cell_type": "markdown",
   "id": "7a482a6a",
   "metadata": {},
   "source": [
    "### Question\n",
    "가장많은 트렌드 영상을 제작한 채널의 이름은 무엇인가? (날짜기준, 중복포함)"
   ]
  },
  {
   "cell_type": "code",
   "execution_count": 108,
   "id": "9667387d",
   "metadata": {},
   "outputs": [
    {
     "name": "stdout",
     "output_type": "stream",
     "text": [
      "짤툰\n"
     ]
    }
   ],
   "source": [
    "print(df.channelTitle.value_counts().index[0])"
   ]
  },
  {
   "cell_type": "code",
   "execution_count": 109,
   "id": "94a2c565",
   "metadata": {},
   "outputs": [],
   "source": [
    "answer = df.loc[df.channelId ==df.channelId.value_counts().index[0]].channelTitle.unique()[0]"
   ]
  },
  {
   "cell_type": "markdown",
   "id": "7c40881d",
   "metadata": {},
   "source": [
    "### Question\n",
    "20회(20일)이상 인기동영상 리스트에 포함된 동영상의 숫자는?\n",
    "\n"
   ]
  },
  {
   "cell_type": "code",
   "execution_count": 135,
   "id": "d9f59ab9",
   "metadata": {},
   "outputs": [
    {
     "data": {
      "text/plain": [
       "title                                                           channelId               \n",
       "컵라면 먹을 때 절대 일어날리 없는 상황들 ㅋㅋㅋ                                     UCmzMtXrJgfCqA0rfhz8_P4A     True\n",
       "대한민국 VS 투르크메니스탄 : FIFA 카타르 월드컵 2차 예선 하이라이트 - 2021.06.05         UCpjOmwiy88a9EV3Rv8ukJgw     True\n",
       "극과 극을 살고 있는 인도의 갑부와 빈곤층들!                                       UCi9Sl8GnFdYoqEVXnojBPJw     True\n",
       "2주더놀릴예정                                                         UCaKod3X1Tn4c7Ci0iUKcvzQ     True\n",
       "대박... 멧돼지를 아들로 삼은 할아버지｜KBS 주주클럽 050410 방송                       UCAhKKbDO9-ymWZ_7iAFLBQQ     True\n",
       "                                                                                            ...  \n",
       "천재 친구 황봉황 [총몇명 스토리2]                                            UCRuSxVu4iqTK5kCh90ntAgA    False\n",
       "담배충 [병맛더빙/웃긴영상]                                                 UCUK4YjvUvHrFQwTFXwkUIng    False\n",
       "Official Trailer | The Falcon and The Winter Soldier | Disney+  UCvC4D8onUfXzvjTOM-dBfEA    False\n",
       "[월드컵최종예선] 오만 VS 베트남 4차전 H/LㅣAFC 아시아지역 월드컵 최종예선                  UCtybqqaTj6Nx74Azdz1KrsA    False\n",
       "깐부끼리는 니꺼 내꺼가 없는거야                                               UCu9BCtGIEr73LXZsKmoujKw    False\n",
       "Length: 7867, dtype: bool"
      ]
     },
     "execution_count": 135,
     "metadata": {},
     "output_type": "execute_result"
    }
   ],
   "source": [
    "df[['title','channelId']].value_counts()>=20"
   ]
  },
  {
   "cell_type": "code",
   "execution_count": 132,
   "id": "cdf9df3d",
   "metadata": {},
   "outputs": [
    {
     "name": "stdout",
     "output_type": "stream",
     "text": [
      "40\n"
     ]
    }
   ],
   "source": [
    "answer= (df[['title','channelId']].value_counts()>=20).sum()\n",
    "print(answer)"
   ]
  }
 ],
 "metadata": {
  "kernelspec": {
   "display_name": "Python 3 (ipykernel)",
   "language": "python",
   "name": "python3"
  },
  "language_info": {
   "codemirror_mode": {
    "name": "ipython",
    "version": 3
   },
   "file_extension": ".py",
   "mimetype": "text/x-python",
   "name": "python",
   "nbconvert_exporter": "python",
   "pygments_lexer": "ipython3",
   "version": "3.9.7"
  }
 },
 "nbformat": 4,
 "nbformat_minor": 5
}
