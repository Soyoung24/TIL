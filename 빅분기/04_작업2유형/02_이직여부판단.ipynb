{
 "cells": [
  {
   "cell_type": "code",
   "execution_count": 1,
   "id": "997f4137",
   "metadata": {},
   "outputs": [],
   "source": [
    "import pandas as pd\n",
    "import numpy as np\n",
    "\n",
    "from sklearn.preprocessing import MinMaxScaler, LabelEncoder\n",
    "from sklearn.ensemble import RandomForestClassifier\n",
    "from sklearn.model_selection import GridSearchCV"
   ]
  },
  {
   "cell_type": "code",
   "execution_count": 26,
   "id": "2829ac4c",
   "metadata": {},
   "outputs": [],
   "source": [
    "x_train = pd.read_csv(\"https://raw.githubusercontent.com/Datamanim/datarepo/main/HRdata/X_train.csv\")\n",
    "y_train = pd.read_csv(\"https://raw.githubusercontent.com/Datamanim/datarepo/main/HRdata/y_train.csv\")\n",
    "x_test = pd.read_csv(\"https://raw.githubusercontent.com/Datamanim/datarepo/main/HRdata/X_test.csv\")\n",
    "y_test = pd.read_csv(\"https://raw.githubusercontent.com/Datamanim/datarepo/main/HRdata/y_test.csv\")"
   ]
  },
  {
   "cell_type": "code",
   "execution_count": 3,
   "id": "0721104f",
   "metadata": {},
   "outputs": [
    {
     "data": {
      "text/html": [
       "<div>\n",
       "<style scoped>\n",
       "    .dataframe tbody tr th:only-of-type {\n",
       "        vertical-align: middle;\n",
       "    }\n",
       "\n",
       "    .dataframe tbody tr th {\n",
       "        vertical-align: top;\n",
       "    }\n",
       "\n",
       "    .dataframe thead th {\n",
       "        text-align: right;\n",
       "    }\n",
       "</style>\n",
       "<table border=\"1\" class=\"dataframe\">\n",
       "  <thead>\n",
       "    <tr style=\"text-align: right;\">\n",
       "      <th></th>\n",
       "      <th>enrollee_id</th>\n",
       "      <th>city</th>\n",
       "      <th>city_development_index</th>\n",
       "      <th>gender</th>\n",
       "      <th>relevent_experience</th>\n",
       "      <th>enrolled_university</th>\n",
       "      <th>education_level</th>\n",
       "      <th>major_discipline</th>\n",
       "      <th>experience</th>\n",
       "      <th>company_size</th>\n",
       "      <th>company_type</th>\n",
       "      <th>last_new_job</th>\n",
       "      <th>training_hours</th>\n",
       "    </tr>\n",
       "  </thead>\n",
       "  <tbody>\n",
       "    <tr>\n",
       "      <th>0</th>\n",
       "      <td>25298</td>\n",
       "      <td>city_138</td>\n",
       "      <td>0.836</td>\n",
       "      <td>Male</td>\n",
       "      <td>No relevent experience</td>\n",
       "      <td>Full time course</td>\n",
       "      <td>High School</td>\n",
       "      <td>NaN</td>\n",
       "      <td>5</td>\n",
       "      <td>100-500</td>\n",
       "      <td>Pvt Ltd</td>\n",
       "      <td>1</td>\n",
       "      <td>45</td>\n",
       "    </tr>\n",
       "    <tr>\n",
       "      <th>1</th>\n",
       "      <td>4241</td>\n",
       "      <td>city_160</td>\n",
       "      <td>0.920</td>\n",
       "      <td>Male</td>\n",
       "      <td>No relevent experience</td>\n",
       "      <td>Full time course</td>\n",
       "      <td>High School</td>\n",
       "      <td>NaN</td>\n",
       "      <td>5</td>\n",
       "      <td>NaN</td>\n",
       "      <td>NaN</td>\n",
       "      <td>1</td>\n",
       "      <td>17</td>\n",
       "    </tr>\n",
       "    <tr>\n",
       "      <th>2</th>\n",
       "      <td>24086</td>\n",
       "      <td>city_57</td>\n",
       "      <td>0.866</td>\n",
       "      <td>Male</td>\n",
       "      <td>No relevent experience</td>\n",
       "      <td>no_enrollment</td>\n",
       "      <td>Graduate</td>\n",
       "      <td>STEM</td>\n",
       "      <td>10</td>\n",
       "      <td>NaN</td>\n",
       "      <td>NaN</td>\n",
       "      <td>1</td>\n",
       "      <td>50</td>\n",
       "    </tr>\n",
       "    <tr>\n",
       "      <th>3</th>\n",
       "      <td>26773</td>\n",
       "      <td>city_16</td>\n",
       "      <td>0.910</td>\n",
       "      <td>Male</td>\n",
       "      <td>Has relevent experience</td>\n",
       "      <td>no_enrollment</td>\n",
       "      <td>Graduate</td>\n",
       "      <td>STEM</td>\n",
       "      <td>&gt;20</td>\n",
       "      <td>50-99</td>\n",
       "      <td>Pvt Ltd</td>\n",
       "      <td>&gt;4</td>\n",
       "      <td>135</td>\n",
       "    </tr>\n",
       "    <tr>\n",
       "      <th>4</th>\n",
       "      <td>32325</td>\n",
       "      <td>city_143</td>\n",
       "      <td>0.740</td>\n",
       "      <td>NaN</td>\n",
       "      <td>No relevent experience</td>\n",
       "      <td>Full time course</td>\n",
       "      <td>Graduate</td>\n",
       "      <td>STEM</td>\n",
       "      <td>5</td>\n",
       "      <td>NaN</td>\n",
       "      <td>NaN</td>\n",
       "      <td>never</td>\n",
       "      <td>17</td>\n",
       "    </tr>\n",
       "  </tbody>\n",
       "</table>\n",
       "</div>"
      ],
      "text/plain": [
       "   enrollee_id      city  city_development_index gender  \\\n",
       "0        25298  city_138                   0.836   Male   \n",
       "1         4241  city_160                   0.920   Male   \n",
       "2        24086   city_57                   0.866   Male   \n",
       "3        26773   city_16                   0.910   Male   \n",
       "4        32325  city_143                   0.740    NaN   \n",
       "\n",
       "       relevent_experience enrolled_university education_level  \\\n",
       "0   No relevent experience    Full time course     High School   \n",
       "1   No relevent experience    Full time course     High School   \n",
       "2   No relevent experience       no_enrollment        Graduate   \n",
       "3  Has relevent experience       no_enrollment        Graduate   \n",
       "4   No relevent experience    Full time course        Graduate   \n",
       "\n",
       "  major_discipline experience company_size company_type last_new_job  \\\n",
       "0              NaN          5      100-500      Pvt Ltd            1   \n",
       "1              NaN          5          NaN          NaN            1   \n",
       "2             STEM         10          NaN          NaN            1   \n",
       "3             STEM        >20        50-99      Pvt Ltd           >4   \n",
       "4             STEM          5          NaN          NaN        never   \n",
       "\n",
       "   training_hours  \n",
       "0              45  \n",
       "1              17  \n",
       "2              50  \n",
       "3             135  \n",
       "4              17  "
      ]
     },
     "execution_count": 3,
     "metadata": {},
     "output_type": "execute_result"
    }
   ],
   "source": [
    "x_train.head()"
   ]
  },
  {
   "cell_type": "code",
   "execution_count": 8,
   "id": "47091965",
   "metadata": {},
   "outputs": [
    {
     "name": "stdout",
     "output_type": "stream",
     "text": [
      "<class 'pandas.core.frame.DataFrame'>\n",
      "RangeIndex: 12452 entries, 0 to 12451\n",
      "Data columns (total 13 columns):\n",
      " #   Column                  Non-Null Count  Dtype  \n",
      "---  ------                  --------------  -----  \n",
      " 0   enrollee_id             12452 non-null  int64  \n",
      " 1   city                    12452 non-null  object \n",
      " 2   city_development_index  12452 non-null  float64\n",
      " 3   gender                  9535 non-null   object \n",
      " 4   relevent_experience     12452 non-null  object \n",
      " 5   enrolled_university     12195 non-null  object \n",
      " 6   education_level         12137 non-null  object \n",
      " 7   major_discipline        10586 non-null  object \n",
      " 8   experience              12415 non-null  object \n",
      " 9   company_size            8600 non-null   object \n",
      " 10  company_type            8471 non-null   object \n",
      " 11  last_new_job            12179 non-null  object \n",
      " 12  training_hours          12452 non-null  int64  \n",
      "dtypes: float64(1), int64(2), object(10)\n",
      "memory usage: 1.2+ MB\n"
     ]
    }
   ],
   "source": [
    "x_train.info()"
   ]
  },
  {
   "cell_type": "code",
   "execution_count": 6,
   "id": "9fccf537",
   "metadata": {},
   "outputs": [
    {
     "data": {
      "text/html": [
       "<div>\n",
       "<style scoped>\n",
       "    .dataframe tbody tr th:only-of-type {\n",
       "        vertical-align: middle;\n",
       "    }\n",
       "\n",
       "    .dataframe tbody tr th {\n",
       "        vertical-align: top;\n",
       "    }\n",
       "\n",
       "    .dataframe thead th {\n",
       "        text-align: right;\n",
       "    }\n",
       "</style>\n",
       "<table border=\"1\" class=\"dataframe\">\n",
       "  <thead>\n",
       "    <tr style=\"text-align: right;\">\n",
       "      <th></th>\n",
       "      <th>enrollee_id</th>\n",
       "      <th>target</th>\n",
       "    </tr>\n",
       "  </thead>\n",
       "  <tbody>\n",
       "    <tr>\n",
       "      <th>0</th>\n",
       "      <td>25298</td>\n",
       "      <td>0.0</td>\n",
       "    </tr>\n",
       "    <tr>\n",
       "      <th>1</th>\n",
       "      <td>4241</td>\n",
       "      <td>1.0</td>\n",
       "    </tr>\n",
       "    <tr>\n",
       "      <th>2</th>\n",
       "      <td>24086</td>\n",
       "      <td>0.0</td>\n",
       "    </tr>\n",
       "    <tr>\n",
       "      <th>3</th>\n",
       "      <td>26773</td>\n",
       "      <td>0.0</td>\n",
       "    </tr>\n",
       "    <tr>\n",
       "      <th>4</th>\n",
       "      <td>32325</td>\n",
       "      <td>1.0</td>\n",
       "    </tr>\n",
       "  </tbody>\n",
       "</table>\n",
       "</div>"
      ],
      "text/plain": [
       "   enrollee_id  target\n",
       "0        25298     0.0\n",
       "1         4241     1.0\n",
       "2        24086     0.0\n",
       "3        26773     0.0\n",
       "4        32325     1.0"
      ]
     },
     "execution_count": 6,
     "metadata": {},
     "output_type": "execute_result"
    }
   ],
   "source": [
    "y_train.head()"
   ]
  },
  {
   "cell_type": "code",
   "execution_count": 7,
   "id": "a048ed64",
   "metadata": {},
   "outputs": [
    {
     "data": {
      "text/plain": [
       "(12452, 13)"
      ]
     },
     "execution_count": 7,
     "metadata": {},
     "output_type": "execute_result"
    }
   ],
   "source": [
    "x_train.shape"
   ]
  },
  {
   "cell_type": "code",
   "execution_count": 27,
   "id": "0e998811",
   "metadata": {},
   "outputs": [],
   "source": [
    "x_train = x_train.fillna('unknown')\n",
    "x_test = x_test.fillna('unknown')"
   ]
  },
  {
   "cell_type": "code",
   "execution_count": 13,
   "id": "ac9409ff",
   "metadata": {},
   "outputs": [
    {
     "name": "stdout",
     "output_type": "stream",
     "text": [
      "<class 'pandas.core.frame.DataFrame'>\n",
      "RangeIndex: 6706 entries, 0 to 6705\n",
      "Data columns (total 13 columns):\n",
      " #   Column                  Non-Null Count  Dtype  \n",
      "---  ------                  --------------  -----  \n",
      " 0   enrollee_id             6706 non-null   int64  \n",
      " 1   city                    6706 non-null   object \n",
      " 2   city_development_index  6706 non-null   float64\n",
      " 3   gender                  6706 non-null   object \n",
      " 4   relevent_experience     6706 non-null   object \n",
      " 5   enrolled_university     6706 non-null   object \n",
      " 6   education_level         6706 non-null   object \n",
      " 7   major_discipline        6706 non-null   object \n",
      " 8   experience              6706 non-null   object \n",
      " 9   company_size            6706 non-null   object \n",
      " 10  company_type            6706 non-null   object \n",
      " 11  last_new_job            6706 non-null   object \n",
      " 12  training_hours          6706 non-null   int64  \n",
      "dtypes: float64(1), int64(2), object(10)\n",
      "memory usage: 681.2+ KB\n"
     ]
    }
   ],
   "source": [
    "x_test.info()"
   ]
  },
  {
   "cell_type": "code",
   "execution_count": 28,
   "id": "728e6615",
   "metadata": {},
   "outputs": [],
   "source": [
    "object_col=x_train.select_dtypes(include ='object').columns.to_list()"
   ]
  },
  {
   "cell_type": "code",
   "execution_count": 29,
   "id": "e08b2688",
   "metadata": {},
   "outputs": [
    {
     "name": "stdout",
     "output_type": "stream",
     "text": [
      "['city_138' 'city_160' 'city_57' 'city_16' 'city_143' 'city_105'\n",
      " 'city_102' 'city_136' 'city_103' 'city_21' 'city_114' 'city_81' 'city_64'\n",
      " 'city_67' 'city_1' 'city_75' 'city_144' 'city_100' 'city_12' 'city_50'\n",
      " 'city_118' 'city_61' 'city_97' 'city_71' 'city_70' 'city_90' 'city_11'\n",
      " 'city_149' 'city_98' 'city_73' 'city_23' 'city_99' 'city_9' 'city_162'\n",
      " 'city_14' 'city_40' 'city_77' 'city_7' 'city_104' 'city_65' 'city_89'\n",
      " 'city_173' 'city_152' 'city_28' 'city_123' 'city_91' 'city_145'\n",
      " 'city_159' 'city_116' 'city_150' 'city_19' 'city_83' 'city_45' 'city_78'\n",
      " 'city_115' 'city_76' 'city_155' 'city_74' 'city_101' 'city_46' 'city_24'\n",
      " 'city_146' 'city_44' 'city_111' 'city_42' 'city_158' 'city_128'\n",
      " 'city_165' 'city_36' 'city_79' 'city_18' 'city_93' 'city_20' 'city_2'\n",
      " 'city_10' 'city_141' 'city_72' 'city_41' 'city_134' 'city_27' 'city_107'\n",
      " 'city_175' 'city_37' 'city_94' 'city_62' 'city_13' 'city_53' 'city_69'\n",
      " 'city_176' 'city_84' 'city_30' 'city_126' 'city_26' 'city_167' 'city_25'\n",
      " 'city_48' 'city_59' 'city_131' 'city_8' 'city_33' 'city_142' 'city_109'\n",
      " 'city_157' 'city_80' 'city_43' 'city_82' 'city_133' 'city_120' 'city_139'\n",
      " 'city_180' 'city_117' 'city_54' 'city_121' 'city_129' 'city_31' 'city_39'\n",
      " 'city_127' 'city_179' 'city_55' 'city_106' 'city_166' 'city_140']\n",
      "122\n",
      "['Male' 'unknown' 'Female' 'Other']\n",
      "4\n",
      "['No relevent experience' 'Has relevent experience']\n",
      "2\n",
      "['Full time course' 'no_enrollment' 'Part time course' 'unknown']\n",
      "4\n",
      "['High School' 'Graduate' 'Primary School' 'Masters' 'Phd' 'unknown']\n",
      "6\n",
      "['unknown' 'STEM' 'Other' 'Humanities' 'No Major' 'Business Degree' 'Arts']\n",
      "7\n",
      "['5' '10' '>20' '6' '14' '20' '7' '9' '8' '4' '3' '13' '16' '2' '12' '15'\n",
      " '11' '1' '<1' '17' '18' 'unknown' '19']\n",
      "23\n",
      "['100-500' 'unknown' '50-99' '10/49' '10000+' '1000-4999' '<10' '500-999'\n",
      " '5000-9999']\n",
      "9\n",
      "['Pvt Ltd' 'unknown' 'Public Sector' 'NGO' 'Funded Startup'\n",
      " 'Early Stage Startup' 'Other']\n",
      "7\n",
      "['1' '>4' 'never' '2' '4' '3' 'unknown']\n",
      "7\n"
     ]
    }
   ],
   "source": [
    "for col in object_col:\n",
    "    print(x_train[col].unique())\n",
    "    print(len(x_train[col].unique()))"
   ]
  },
  {
   "cell_type": "code",
   "execution_count": 30,
   "id": "02956781",
   "metadata": {},
   "outputs": [],
   "source": [
    "x_train = x_train.drop(['enrollee_id', 'city'], axis=1)\n",
    "x_test= x_test.drop(['enrollee_id', 'city'], axis=1)"
   ]
  },
  {
   "cell_type": "code",
   "execution_count": 32,
   "id": "850b343e",
   "metadata": {},
   "outputs": [],
   "source": [
    "for col in object_col[1:]:\n",
    "    le = LabelEncoder()\n",
    "    le.fit(x_train[col])\n",
    "    x_train[col] = le.transform(x_train[col])\n",
    "    x_test[col] = le.transform(x_test[col])    "
   ]
  },
  {
   "cell_type": "code",
   "execution_count": null,
   "id": "d6689c79",
   "metadata": {},
   "outputs": [],
   "source": []
  },
  {
   "cell_type": "code",
   "execution_count": 34,
   "id": "cb8c73ce",
   "metadata": {},
   "outputs": [],
   "source": [
    "scaler = ['city_development_index', 'training_hours']\n",
    "minmax = MinMaxScaler()\n",
    "minmax.fit(x_train[scaler])\n",
    "x_train[scaler] = minmax.transform(x_train[scaler])\n",
    "x_test[scaler] = minmax.transform(x_test[scaler])"
   ]
  },
  {
   "cell_type": "markdown",
   "id": "ee8284fe",
   "metadata": {},
   "source": [
    "### model"
   ]
  },
  {
   "cell_type": "code",
   "execution_count": 41,
   "id": "8046b287",
   "metadata": {},
   "outputs": [
    {
     "data": {
      "text/plain": [
       "GridSearchCV(cv=3, estimator=RandomForestClassifier(), n_jobs=-1,\n",
       "             param_grid={'max_depth': [6, 8, 10, 12],\n",
       "                         'min_samples_leaf': [8, 12, 16],\n",
       "                         'min_samples_split': [8, 16, 20],\n",
       "                         'n_estimators': [10, 100]})"
      ]
     },
     "execution_count": 41,
     "metadata": {},
     "output_type": "execute_result"
    }
   ],
   "source": [
    "model = RandomForestClassifier()\n",
    "params = {'n_estimators':[10,100],\n",
    "          'max_depth':[6,8,10,12],\n",
    "         'min_samples_leaf': [8, 12, 16],\n",
    "         'min_samples_split': [8,16,20]}\n",
    "\n",
    "grid_cv = GridSearchCV(model, param_grid=params, cv = 3, n_jobs=-1)\n",
    "grid_cv.fit(x_train, y_train['target'])"
   ]
  },
  {
   "cell_type": "code",
   "execution_count": 42,
   "id": "c4bd51e7",
   "metadata": {},
   "outputs": [
    {
     "name": "stdout",
     "output_type": "stream",
     "text": [
      "RandomForestClassifier(max_depth=8, min_samples_leaf=16, min_samples_split=20)\n",
      "0.7985860086938938\n"
     ]
    }
   ],
   "source": [
    "print(grid_cv.best_estimator_)\n",
    "print(grid_cv.best_score_)"
   ]
  },
  {
   "cell_type": "code",
   "execution_count": 43,
   "id": "1d7b1377",
   "metadata": {},
   "outputs": [
    {
     "data": {
      "text/plain": [
       "RandomForestClassifier(max_depth=8, min_samples_leaf=16, min_samples_split=20)"
      ]
     },
     "execution_count": 43,
     "metadata": {},
     "output_type": "execute_result"
    }
   ],
   "source": [
    "model = RandomForestClassifier(max_depth=8, min_samples_leaf=16, min_samples_split=20)\n",
    "model.fit(x_train, y_train['target'])"
   ]
  },
  {
   "cell_type": "code",
   "execution_count": 45,
   "id": "7edff5c8",
   "metadata": {},
   "outputs": [
    {
     "data": {
      "text/plain": [
       "0.81215868936717"
      ]
     },
     "execution_count": 45,
     "metadata": {},
     "output_type": "execute_result"
    }
   ],
   "source": [
    "model.score(x_train, y_train['target'])"
   ]
  },
  {
   "cell_type": "code",
   "execution_count": 46,
   "id": "4765e72b",
   "metadata": {},
   "outputs": [],
   "source": [
    "pred=model.predict_proba(x_test)"
   ]
  },
  {
   "cell_type": "code",
   "execution_count": 47,
   "id": "26ad17d5",
   "metadata": {},
   "outputs": [
    {
     "data": {
      "text/plain": [
       "array([[0.58338457, 0.41661543],\n",
       "       [0.64397012, 0.35602988],\n",
       "       [0.53104235, 0.46895765],\n",
       "       ...,\n",
       "       [0.86560701, 0.13439299],\n",
       "       [0.64458234, 0.35541766],\n",
       "       [0.83743347, 0.16256653]])"
      ]
     },
     "execution_count": 47,
     "metadata": {},
     "output_type": "execute_result"
    }
   ],
   "source": [
    "pred"
   ]
  },
  {
   "cell_type": "code",
   "execution_count": 54,
   "id": "81215ff4",
   "metadata": {},
   "outputs": [],
   "source": [
    "pd.DataFrame({'enrollee_id': y_test['enrollee_id'], 'target':pred[:,1]}).to_csv('222.csv', index=False)"
   ]
  },
  {
   "cell_type": "code",
   "execution_count": 55,
   "id": "7b65a658",
   "metadata": {},
   "outputs": [
    {
     "name": "stdout",
     "output_type": "stream",
     "text": [
      "      enrollee_id    target\n",
      "0            7129  0.416615\n",
      "1           31037  0.356030\n",
      "2           22179  0.468958\n",
      "3           29724  0.401969\n",
      "4           17977  0.119143\n",
      "...           ...       ...\n",
      "6701         3601  0.110775\n",
      "6702         2745  0.457592\n",
      "6703        18520  0.134393\n",
      "6704        10067  0.355418\n",
      "6705         8203  0.162567\n",
      "\n",
      "[6706 rows x 2 columns]\n"
     ]
    }
   ],
   "source": [
    "df = pd.read_csv('222.csv')\n",
    "print(df)"
   ]
  },
  {
   "cell_type": "code",
   "execution_count": 59,
   "id": "81621272",
   "metadata": {},
   "outputs": [
    {
     "data": {
      "text/plain": [
       "0.7467974353344625"
      ]
     },
     "execution_count": 59,
     "metadata": {},
     "output_type": "execute_result"
    }
   ],
   "source": [
    "from sklearn.metrics import roc_auc_score\n",
    "roc_auc_score(y_test['target'], df['target'])"
   ]
  }
 ],
 "metadata": {
  "kernelspec": {
   "display_name": "Python 3 (ipykernel)",
   "language": "python",
   "name": "python3"
  },
  "language_info": {
   "codemirror_mode": {
    "name": "ipython",
    "version": 3
   },
   "file_extension": ".py",
   "mimetype": "text/x-python",
   "name": "python",
   "nbconvert_exporter": "python",
   "pygments_lexer": "ipython3",
   "version": "3.9.7"
  }
 },
 "nbformat": 4,
 "nbformat_minor": 5
}
