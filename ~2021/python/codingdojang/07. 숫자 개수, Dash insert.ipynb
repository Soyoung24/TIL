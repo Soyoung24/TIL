{
 "cells": [
  {
   "cell_type": "markdown",
   "metadata": {},
   "source": [
    "# 코딩도장\n",
    "## 1~1000에서 각 숫자의 개수 구하기\n",
    "예로 10 ~ 15 까지의 각 숫자의 개수를 구해보자\n",
    "\n",
    "10 = 1, 0  \n",
    "11 = 1, 1  \n",
    "12 = 1, 2  \n",
    "13 = 1, 3  \n",
    "14 = 1, 4  \n",
    "15 = 1, 5  \n",
    "\n",
    "그러므로 이 경우의 답은 0:1개, 1:7개, 2:1개, 3:1개, 4:1개, 5:1개\n"
   ]
  },
  {
   "cell_type": "code",
   "execution_count": 97,
   "metadata": {},
   "outputs": [
    {
     "name": "stdout",
     "output_type": "stream",
     "text": [
      "0: 1 개\n",
      "1: 7 개\n",
      "2: 1 개\n",
      "3: 1 개\n",
      "4: 1 개\n",
      "5: 1 개\n",
      "6: 0 개\n",
      "7: 0 개\n",
      "8: 0 개\n",
      "9: 0 개\n"
     ]
    }
   ],
   "source": [
    "import sys\n",
    "import numpy as np\n",
    "\n",
    "\n",
    "def countnumber(a,b):\n",
    "    total=list()\n",
    "    mod=sys.modules[__name__]\n",
    "    for idx in range(10):\n",
    "        setattr(mod, 'c{}'.format(idx),0)\n",
    "        global c0,c1, c2,c3,c4,c5,c6,c7,c8,c9\n",
    "    for i in range(a,b+1):\n",
    "        lst=list(str(i))\n",
    "        for i in lst:\n",
    "            total.append(int(i))\n",
    "    for n in total:\n",
    "        if n==0:\n",
    "            c0=c0+1\n",
    "        elif n==1:\n",
    "            c1=c1+1\n",
    "        elif n==2:\n",
    "            c2=c2+1\n",
    "        elif n==3:\n",
    "            c3=c3+1\n",
    "        elif n==4:\n",
    "            c4=c4+1\n",
    "        elif n==5:\n",
    "            c5=c5+1\n",
    "        elif n==6:\n",
    "            c6=c6+1\n",
    "        elif n==7:\n",
    "            c7=c7+1\n",
    "        elif n==8:\n",
    "            c8=c8+1\n",
    "        else:\n",
    "            c9=c9+1\n",
    "    print('0:',c0, '개') \n",
    "    print('1:',c1, '개')\n",
    "    print('2:',c2, '개')\n",
    "    print('3:',c3, '개')\n",
    "    print('4:',c4, '개')\n",
    "    print('5:',c5, '개')\n",
    "    print('6:',c6, '개')\n",
    "    print('7:',c7, '개')\n",
    "    print('8:',c8, '개')\n",
    "    print('9:',c9, '개')\n",
    "    \n",
    "\n",
    "        \n",
    "countnumber(10,15)"
   ]
  },
  {
   "cell_type": "code",
   "execution_count": 77,
   "metadata": {},
   "outputs": [
    {
     "name": "stdout",
     "output_type": "stream",
     "text": [
      "0: 192 개\n",
      "1: 301 개\n",
      "2: 300 개\n",
      "3: 300 개\n",
      "4: 300 개\n",
      "5: 300 개\n",
      "6: 300 개\n",
      "7: 300 개\n",
      "8: 300 개\n",
      "9: 300 개\n"
     ]
    }
   ],
   "source": [
    "countnumber(1,1000)"
   ]
  },
  {
   "cell_type": "code",
   "execution_count": 78,
   "metadata": {},
   "outputs": [
    {
     "name": "stdout",
     "output_type": "stream",
     "text": [
      "{0: 192, 1: 301, 2: 300, 3: 300, 4: 300, 5: 300, 6: 300, 7: 300, 8: 300, 9: 300}\n"
     ]
    }
   ],
   "source": [
    "# 코딩도장에 올라온 정답\n",
    "# 원하는 숫자를 찾으면 딕셔너리 값을 하나씩 올려서 개수 세는 방식\n",
    "\n",
    "count={x:0 for x in range(0,10)}\n",
    "\n",
    "for x in range(1,1001):\n",
    "    for i in str(x):\n",
    "        count[int(i)]+=1\n",
    "        \n",
    "print(count)\n"
   ]
  },
  {
   "cell_type": "code",
   "execution_count": 96,
   "metadata": {},
   "outputs": [
    {
     "name": "stdout",
     "output_type": "stream",
     "text": [
      "{1: 301, 2: 300, 3: 300, 4: 300, 5: 300, 6: 300, 7: 300, 8: 300, 9: 300, 0: 192}\n"
     ]
    }
   ],
   "source": [
    "counts=dict()\n",
    "total=list()\n",
    "\n",
    "for i in range(1,1001):\n",
    "    lst=list(str(i))\n",
    "    for i in lst:\n",
    "        total.append(int(i))\n",
    "for n in total:\n",
    "    counts[n]=counts.get(n,0)+1\n",
    "print(counts)"
   ]
  },
  {
   "cell_type": "markdown",
   "metadata": {},
   "source": [
    "## Dash Insert\n",
    "DashInsert 함수는 숫자로 구성된 문자열을 입력받은 뒤, 문자열 내에서 홀수가 연속되면 두 수 사이에 - 를 추가하고, 짝수가 연속되면 * 를 추가하는 기능을 갖고 있다. (예, 454 => 454, 4546793 => 454*67-9-3) DashInsert 함수를 완성하자. \n",
    "\n",
    "- 입력 - 화면에서 숫자로 된 문자열을 입력받는다.   \n",
    "\"4546793\"\n",
    "- 출력 - *, -가 적절히 추가된 문자열을 화면에 출력한다.  \n",
    "\"454*67-9-3\""
   ]
  },
  {
   "cell_type": "code",
   "execution_count": 111,
   "metadata": {},
   "outputs": [
    {
     "name": "stdout",
     "output_type": "stream",
     "text": [
      "입력: 4546793\n",
      "454*67-9-3\n"
     ]
    }
   ],
   "source": [
    "number=input('입력: ')\n",
    "aa=list()\n",
    "\n",
    "for n in range(0,len(number)-1):\n",
    "    if int(number[n])%2==0 and int(number[n+1])%2==0 :\n",
    "        aa.append(number[n]+'*')\n",
    "    elif int(number[n])%2==1 and int(number[n+1])%2==1 :\n",
    "        aa.append(number[n]+'-')\n",
    "    else:\n",
    "        aa.append(number[n])\n",
    "        \n",
    "print(\"\".join(aa)+number[len(number)-1])"
   ]
  }
 ],
 "metadata": {
  "kernelspec": {
   "display_name": "Python 3",
   "language": "python",
   "name": "python3"
  },
  "language_info": {
   "codemirror_mode": {
    "name": "ipython",
    "version": 3
   },
   "file_extension": ".py",
   "mimetype": "text/x-python",
   "name": "python",
   "nbconvert_exporter": "python",
   "pygments_lexer": "ipython3",
   "version": "3.7.3"
  }
 },
 "nbformat": 4,
 "nbformat_minor": 2
}
