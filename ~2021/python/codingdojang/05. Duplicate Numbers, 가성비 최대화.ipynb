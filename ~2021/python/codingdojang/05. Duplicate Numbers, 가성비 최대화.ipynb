{
 "cells": [
  {
   "cell_type": "markdown",
   "metadata": {},
   "source": [
    "# 코딩도장\n",
    "## Duplicate Numbers\n",
    "일전에 뭐 게임 회사에서 본 간단한 퀴즈 테스트 입니다.\n",
    "\n",
    "0-9까지의 문자로 된 숫자를 입력 받았을 때, 이 입력 값이 0~9까지의 숫자가 각각 한 번 씩만 사용된 것인지 확인하는 함수를 구하시오.\n",
    "\n",
    "sample inputs: 0123456789 01234 01234567890 6789012345 012322456789\n",
    "\n",
    "sample outputs: true false false true false"
   ]
  },
  {
   "cell_type": "code",
   "execution_count": 50,
   "metadata": {},
   "outputs": [
    {
     "name": "stdout",
     "output_type": "stream",
     "text": [
      "숫자 입력하세요: 1111\n",
      "False\n"
     ]
    }
   ],
   "source": [
    "numbers=input('숫자 입력하세요: ')\n",
    "\n",
    "lst=list()\n",
    "for i in numbers:\n",
    "    if i not in lst:\n",
    "        lst.append(i)\n",
    "    else:\n",
    "        print(False)\n",
    "        break"
   ]
  },
  {
   "cell_type": "code",
   "execution_count": 1,
   "metadata": {},
   "outputs": [
    {
     "name": "stdout",
     "output_type": "stream",
     "text": [
      "숫자 입력하세요: 12345\n"
     ]
    }
   ],
   "source": [
    "numbers=input('숫자 입력하세요: ')\n",
    "\n",
    "lst=list()\n",
    "for i in numbers:\n",
    "    if i not in lst:\n",
    "        lst.append(i)\n",
    "    else:\n",
    "        print(False)\n",
    "        break\n",
    "        \n",
    "# 이렇게 하면 true가 출력이 안됨"
   ]
  },
  {
   "cell_type": "code",
   "execution_count": 49,
   "metadata": {},
   "outputs": [
    {
     "name": "stdout",
     "output_type": "stream",
     "text": [
      "숫자 입력하세요: 0123456789\n",
      "True\n"
     ]
    }
   ],
   "source": [
    "numbers=input('숫자 입력하세요: ')\n",
    "\n",
    "lst=list()\n",
    "for i in numbers:\n",
    "    if i not in lst:\n",
    "        lst.append(i)\n",
    "\n",
    "\n",
    "if len(lst)==len(numbers):\n",
    "    print(True)\n",
    "else:\n",
    "    print(False)"
   ]
  },
  {
   "cell_type": "code",
   "execution_count": 2,
   "metadata": {},
   "outputs": [
    {
     "name": "stdout",
     "output_type": "stream",
     "text": [
      "숫자 입력하세요: 01234567890\n",
      "False\n"
     ]
    }
   ],
   "source": [
    "numbers=input('숫자 입력하세요: ')\n",
    "\n",
    "lst=list()\n",
    "for i in numbers:\n",
    "    if i not in lst:\n",
    "        lst.append(i)\n",
    "\n",
    "\n",
    "if len(lst)==len(numbers):\n",
    "    print(True)\n",
    "else:\n",
    "    print(False)"
   ]
  },
  {
   "cell_type": "markdown",
   "metadata": {},
   "source": [
    "## 가성비 최대화\n",
    "기계를 구입하려 하는데 이 기계는 추가 부품을 장착할 수 있다. 추가 부품은 종류당 하나씩만 장착 가능하고, 모든 추가 부품은 동일한 가격을 가진다.\n",
    "\n",
    "원래 기계의 가격과 성능, 추가 부품의 가격과 각 부품의 성능이 주어졌을 때, 추가 부품을 장착하여 얻을 수 있는 최대 가성비를 정수 부분까지 구하시오(가격 및 성능은 상대적인 값으로 수치화되어 주어진다).\n",
    "\n",
    "e.g.)\n",
    "\n",
    "원래 기계의 가격 : 10\n",
    "\n",
    "원래 기계의 성능 : 150\n",
    "\n",
    "추가 부품의 가격 : 3\n",
    "\n",
    "추가 부품의 성능 : 각각 30, 70, 15, 40, 65\n",
    "\n",
    "추가 부품을 장착하여 얻을 수 있는 최대 가성비 : 17.81... → 17\n",
    "\n",
    "(성능이 70과 65인 부품을 장착하면 됨)"
   ]
  },
  {
   "cell_type": "code",
   "execution_count": 19,
   "metadata": {},
   "outputs": [
    {
     "name": "stdout",
     "output_type": "stream",
     "text": [
      "성능이 [70, 65] 인 부품을 장착하면 됨\n",
      "추가 부품을 장착하여 얻을 수 있는 최대 가성비:  17\n"
     ]
    }
   ],
   "source": [
    "import math\n",
    "oc=10\n",
    "op=150\n",
    "ac=3\n",
    "ap=[30, 70, 15, 40, 65]\n",
    "\n",
    "ap.sort(reverse=True)\n",
    "\n",
    "\n",
    "lst=list()\n",
    "count=0\n",
    "for i in ap:\n",
    "    if op/oc < (op+i)/(oc+ac):\n",
    "        lst.append(i)\n",
    "        count=count+1\n",
    "    else:\n",
    "        break\n",
    "\n",
    "ccc=0\n",
    "for n in lst:\n",
    "    ccc=ccc+n\n",
    "\n",
    "print('성능이', lst, '인 부품을 장착하면 됨')    \n",
    "print('추가 부품을 장착하여 얻을 수 있는 최대 가성비: ', int((ccc+op)/(oc+ac*count)))"
   ]
  }
 ],
 "metadata": {
  "kernelspec": {
   "display_name": "Python 3",
   "language": "python",
   "name": "python3"
  },
  "language_info": {
   "codemirror_mode": {
    "name": "ipython",
    "version": 3
   },
   "file_extension": ".py",
   "mimetype": "text/x-python",
   "name": "python",
   "nbconvert_exporter": "python",
   "pygments_lexer": "ipython3",
   "version": "3.7.3"
  }
 },
 "nbformat": 4,
 "nbformat_minor": 2
}
