{
 "cells": [
  {
   "cell_type": "markdown",
   "metadata": {},
   "source": [
    "# 코딩도장 \n",
    "## 자릿수를 출력하는 프로그램 \n",
    "양의 정수만 입력으로 받고 그 수의 자릿수를 출력해보자. ex1) 3 > 1자리수, ex2) 649 > 3자리수 ....\n",
    "\n"
   ]
  },
  {
   "cell_type": "code",
   "execution_count": 1,
   "metadata": {},
   "outputs": [
    {
     "name": "stdout",
     "output_type": "stream",
     "text": [
      "양의 정수를 입력해주세요:649\n",
      "3 자리수\n"
     ]
    }
   ],
   "source": [
    "n=input('양의 정수를 입력해주세요:')\n",
    "try:\n",
    "    n_i=int(n)\n",
    "    if n_i<=0:\n",
    "        print('양의 정수를 입력해주세요')\n",
    "except:\n",
    "    print('양의 정수를 입력해주세요')\n",
    "\n",
    "n_s=str(n_i)\n",
    "print(len(n_s),'자리수')"
   ]
  },
  {
   "cell_type": "markdown",
   "metadata": {},
   "source": [
    "## 공백을 제외한 글자수 세기\n",
    "\n",
    "네이버 글자수세기 등 특정 글의 글자를 세는 프로그램은 일반적으로 공백을 제외한 글자수만을 세는 기능도 가지고 있다.\n",
    "\n",
    "어떠한 문자열을 입력받았을 때 줄바꿈과 공백을 제외한 글자수만을 리턴하는 코드를 작성하시오."
   ]
  },
  {
   "cell_type": "code",
   "execution_count": 6,
   "metadata": {},
   "outputs": [
    {
     "name": "stdout",
     "output_type": "stream",
     "text": [
      "공백을 제외한 글자수만을 세는 코드 테스트\n",
      "18\n"
     ]
    }
   ],
   "source": [
    "words=input()\n",
    "c=0\n",
    "words=words.rstrip()\n",
    "for i in words:\n",
    "    if i is not ' ':\n",
    "        c+=1\n",
    "    else:\n",
    "        pass\n",
    "print(c)"
   ]
  }
 ],
 "metadata": {
  "kernelspec": {
   "display_name": "Python 3",
   "language": "python",
   "name": "python3"
  },
  "language_info": {
   "codemirror_mode": {
    "name": "ipython",
    "version": 3
   },
   "file_extension": ".py",
   "mimetype": "text/x-python",
   "name": "python",
   "nbconvert_exporter": "python",
   "pygments_lexer": "ipython3",
   "version": "3.7.3"
  }
 },
 "nbformat": 4,
 "nbformat_minor": 2
}
