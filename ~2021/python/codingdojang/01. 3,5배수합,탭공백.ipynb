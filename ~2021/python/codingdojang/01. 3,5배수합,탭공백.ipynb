{
 "cells": [
  {
   "cell_type": "markdown",
   "metadata": {},
   "source": [
    "# 코딩도장\n",
    "## Multiples of 3 and 5\n",
    "\n",
    "10미만의 자연수에서 3과 5의 배수를 구하면 3,5,6,9이다. 이들의 총합은 23이다.\n",
    "\n",
    "1000미만의 자연수에서 3,5의 배수의 총합을 구하라."
   ]
  },
  {
   "cell_type": "code",
   "execution_count": 8,
   "metadata": {
    "scrolled": true
   },
   "outputs": [
    {
     "name": "stdout",
     "output_type": "stream",
     "text": [
      "233168\n"
     ]
    }
   ],
   "source": [
    "# lst=list()\n",
    "s=0\n",
    "for x in range(1,1000):\n",
    "    if x%3==0 or x%5==0:\n",
    "        #lst.append(x)    # 이건 없어도 됨ㅎㅎ\n",
    "        s=s+x\n",
    "  \n",
    "print(s)"
   ]
  },
  {
   "cell_type": "markdown",
   "metadata": {},
   "source": [
    "## 탭을 공백 문자로 바꾸기\n",
    "\n",
    "A씨는 개발된 소스코드를 특정업체에 납품하려고 한다. 개발된 소스코드들은 탭으로 들여쓰기가 된것, 공백으로 들여쓰기가 된 것들이 섞여 있다고 한다. A씨는 탭으로 들여쓰기가 된 모든 소스를 공백 4개로 수정한 후 납품할 예정이다.\n",
    "\n",
    "A씨를 도와줄 수 있도록 소스코드내에 사용된 탭(Tab) 문자를 공백 4개(4 space)로 바꾸어 주는 프로그램을 작성하시오."
   ]
  },
  {
   "cell_type": "code",
   "execution_count": 15,
   "metadata": {},
   "outputs": [
    {
     "name": "stdout",
     "output_type": "stream",
     "text": [
      "Your file name: a.txt\n",
      "Life\tis  too short\n",
      "You need\tpython\n"
     ]
    }
   ],
   "source": [
    "name=input('Your file name: ')\n",
    "file=open(name)\n",
    "file=file.read()\n",
    "print(file)\n",
    "file_str=file.replace('\\t', '    ')\n",
    "file=open(name,'w')\n",
    "file.write(file_str)\n",
    "file.close()"
   ]
  },
  {
   "cell_type": "code",
   "execution_count": 16,
   "metadata": {},
   "outputs": [
    {
     "name": "stdout",
     "output_type": "stream",
     "text": [
      "Life    is  too short\n",
      "You need    python\n"
     ]
    }
   ],
   "source": [
    "# 탭이 공백 4개로 바뀜\n",
    "\n",
    "file=open('a.txt')\n",
    "file=file.read()\n",
    "print(file)"
   ]
  }
 ],
 "metadata": {
  "kernelspec": {
   "display_name": "Python 3",
   "language": "python",
   "name": "python3"
  },
  "language_info": {
   "codemirror_mode": {
    "name": "ipython",
    "version": 3
   },
   "file_extension": ".py",
   "mimetype": "text/x-python",
   "name": "python",
   "nbconvert_exporter": "python",
   "pygments_lexer": "ipython3",
   "version": "3.7.3"
  }
 },
 "nbformat": 4,
 "nbformat_minor": 2
}
