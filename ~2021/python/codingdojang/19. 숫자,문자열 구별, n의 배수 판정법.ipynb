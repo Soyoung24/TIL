{
 "cells": [
  {
   "cell_type": "markdown",
   "metadata": {},
   "source": [
    "# 코딩도장 \n",
    "## 문자와 숫자가섞인 문자열을 입력받을때 구별하여출력해라\n",
    "\n",
    "\n",
    "\n",
    "input:\n",
    "\n",
    "\"c910m6ia 1ho\"\n",
    "\n",
    "output:\n",
    "\n",
    "str : cma ho\n",
    "\n",
    "int : 91061"
   ]
  },
  {
   "cell_type": "code",
   "execution_count": 7,
   "metadata": {},
   "outputs": [
    {
     "name": "stdout",
     "output_type": "stream",
     "text": [
      "c910m6ia 1ho\n",
      "int= 91061\n",
      "str= cmiaho\n"
     ]
    }
   ],
   "source": [
    "import re\n",
    "inp=input()\n",
    "y=re.findall('[0-9]+',inp) \n",
    "x=re.findall('[a-zA-Z]+',inp)\n",
    "print('int=',''.join(y))\n",
    "print('str=',''.join(x))"
   ]
  },
  {
   "cell_type": "markdown",
   "metadata": {},
   "source": [
    "## n의 배수 판정법\n",
    "\n",
    "어떤 수 x와 n이 주어졌을때 조건에 따라 x가 n의 배수인지 판별하는 코드를 작성하라.\n",
    "\n",
    "x는 0 이상의 정수이며 조건에 맞지 않는 입력은 주어지지 않는다.\n",
    "\n",
    "여기서 하나의 함수인지 여러 함수인지는 본인이 선택하면 된다.\n",
    "\n",
    "단 절대 산술연산자 중 %와 /는 코드에 없도록 한다.\n",
    "\n",
    "그리고 divmod() 함수를 쓰는것도 금지한다\n",
    "\n",
    "코드는 창의적으로 하는 것을 목적으로 한다. 속도는 크게 중점을 두지 않는다.\n",
    "\n",
    "n의 종류는 2,3,5,7,11,13이다.\n",
    "\n",
    "원하는 n만 선택해서 풀 수도 있다."
   ]
  },
  {
   "cell_type": "markdown",
   "metadata": {},
   "source": [
    "### 입력   \n",
    "입력으로 주어질 자연수의 종류를 입력받고 차례로 그 수만큼 정수를 입력받는다.\n",
    "\n",
    "6  \n",
    "432 2  \n",
    "4 3  \n",
    "635 5  \n",
    "421 7  \n",
    "122 11  \n",
    "143 13  \n",
    "\n",
    "### 출력  \n",
    "1  \n",
    "0  \n",
    "1  \n",
    "0  \n",
    "0  \n",
    "1  \n",
    "\n"
   ]
  },
  {
   "cell_type": "code",
   "execution_count": 10,
   "metadata": {},
   "outputs": [
    {
     "name": "stdout",
     "output_type": "stream",
     "text": [
      "True\n",
      "True\n",
      "False\n",
      "False\n",
      "False\n",
      "True\n"
     ]
    }
   ],
   "source": [
    "def nn (a,b):\n",
    "    while a >= b: a = a - b\n",
    "    return a == 0\n",
    "print(nn(432,2))\n",
    "print(nn(635,5))\n",
    "print(nn(4,3))\n",
    "print(nn(421,7))\n",
    "print(nn(122,11))\n",
    "print(nn(143,13))"
   ]
  }
 ],
 "metadata": {
  "kernelspec": {
   "display_name": "Python 3",
   "language": "python",
   "name": "python3"
  },
  "language_info": {
   "codemirror_mode": {
    "name": "ipython",
    "version": 3
   },
   "file_extension": ".py",
   "mimetype": "text/x-python",
   "name": "python",
   "nbconvert_exporter": "python",
   "pygments_lexer": "ipython3",
   "version": "3.7.3"
  }
 },
 "nbformat": 4,
 "nbformat_minor": 2
}
