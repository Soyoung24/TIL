{
 "cells": [
  {
   "cell_type": "markdown",
   "metadata": {},
   "source": [
    "# 코딩도장 \n",
    "## 문자열을 제거한뒤 숫자만반환\n",
    "\n",
    "난이도:(쉬움) 현우는 축구를보다가 우리나라선수들의몸값을 알고싶었다\n",
    "\n",
    "그래서 검색을해서 메모장에 적는데 키보드가 조그만하고 안좋은지라\n",
    "\n",
    "자꾸 숫자가아닌 문자를 같이입력해버린다\n",
    "\n",
    "ex: xxx : 1627000000 > xxx : 1w627r00o00p00 만 (특수문자제외)\n",
    "\n",
    "현우는 왜인지모르지만 뜻대로안되는것에\n",
    "\n",
    "너무화가나서 자신이수량을입력하면 문자열만 딱빼서 숫자만 반환하는 코드를 만들고싶어한다\n",
    "\n",
    "화가난 현우를위해 코드를 만들어보자!"
   ]
  },
  {
   "cell_type": "code",
   "execution_count": 25,
   "metadata": {},
   "outputs": [
    {
     "name": "stdout",
     "output_type": "stream",
     "text": [
      "1w627r00o00p00\n",
      "['1', '6', '2', '7', '0', '0', '0', '0', '0', '0']\n",
      "1627000000\n"
     ]
    }
   ],
   "source": [
    "xxx=input()\n",
    "lst=[]\n",
    "for i in xxx:\n",
    "    if i=='0':\n",
    "        lst.append(i)\n",
    "    elif i=='1':\n",
    "        lst.append(i)\n",
    "    elif i=='2':\n",
    "        lst.append(i)\n",
    "    elif i=='3':\n",
    "        lst.append(i)\n",
    "    elif i=='4':\n",
    "        lst.append(i)\n",
    "    elif i=='5':\n",
    "        lst.append(i)\n",
    "    elif i=='6':\n",
    "        lst.append(i)\n",
    "    elif i=='7':\n",
    "        lst.append(i)\n",
    "    elif i=='8':\n",
    "        lst.append(i)\n",
    "    elif i=='9':\n",
    "        lst.append(i)\n",
    "    else:\n",
    "        pass\n",
    "print(lst)\n",
    "a=''.join(lst)\n",
    "print(a)"
   ]
  },
  {
   "cell_type": "code",
   "execution_count": 28,
   "metadata": {},
   "outputs": [
    {
     "name": "stdout",
     "output_type": "stream",
     "text": [
      "숫자를입력하시오 : 1w627r00o00p00\n",
      "1627000000\n"
     ]
    }
   ],
   "source": [
    "#코딩도장에 올라온 정답\n",
    "\n",
    "print(''.join(x for x in input('숫자를입력하시오 : ') if x.isdigit()))"
   ]
  },
  {
   "cell_type": "code",
   "execution_count": 31,
   "metadata": {},
   "outputs": [
    {
     "name": "stdout",
     "output_type": "stream",
     "text": [
      "1w627r00o00p00\n",
      "1627000000\n"
     ]
    }
   ],
   "source": [
    "aa=input()\n",
    "lst=[]\n",
    "for x in aa:\n",
    "    if x.isdigit():\n",
    "        lst.append(x)\n",
    "print(''.join(lst))    "
   ]
  },
  {
   "cell_type": "markdown",
   "metadata": {},
   "source": [
    "## 숫자를입력받으면 그에맞는자릿수 출력\n",
    "숫자를 입력받으면 그에해당하는 자릿수를 출력하는 코드를 작성하라.\n",
    "\n",
    "입력 : 156 출력 : 100의자리수\n",
    "\n",
    "입력 : 18961 출력 : 10000의자릿수"
   ]
  },
  {
   "cell_type": "code",
   "execution_count": 36,
   "metadata": {},
   "outputs": [
    {
     "name": "stdout",
     "output_type": "stream",
     "text": [
      "100의자리수\n",
      "10000의자리수\n"
     ]
    }
   ],
   "source": [
    "def nc(num):\n",
    "    num=str(num)\n",
    "    count=0\n",
    "    for i in num:\n",
    "        count+=1\n",
    "    print('1'+'0'*(count-1)+'의자리수')\n",
    "\n",
    "nc(156)\n",
    "nc(18961)"
   ]
  }
 ],
 "metadata": {
  "kernelspec": {
   "display_name": "Python 3",
   "language": "python",
   "name": "python3"
  },
  "language_info": {
   "codemirror_mode": {
    "name": "ipython",
    "version": 3
   },
   "file_extension": ".py",
   "mimetype": "text/x-python",
   "name": "python",
   "nbconvert_exporter": "python",
   "pygments_lexer": "ipython3",
   "version": "3.7.3"
  }
 },
 "nbformat": 4,
 "nbformat_minor": 2
}
