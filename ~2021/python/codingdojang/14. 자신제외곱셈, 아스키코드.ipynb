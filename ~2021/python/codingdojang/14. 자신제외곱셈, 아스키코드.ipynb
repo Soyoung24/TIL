{
 "cells": [
  {
   "cell_type": "markdown",
   "metadata": {},
   "source": [
    "# 코딩도장  \n",
    "## 자신을 제외한 곱셈\n",
    "\n",
    "배열 [a, b, c, d]를 입력하면 배열[bcd, acd, abd, abc]를 출력하는 코드를 작성하시오.\n",
    "\n",
    "(단, 나눗셈 사용 금지)\n",
    "\n",
    "입출력되는 배열은 어떤 형식이든 상관없습니다.\n",
    "\n",
    "입력예시:  \n",
    "2,6,4,7  \n",
    "\n",
    "출력예시:  \n",
    "168, 56, 84, 48"
   ]
  },
  {
   "cell_type": "code",
   "execution_count": 34,
   "metadata": {},
   "outputs": [
    {
     "name": "stdout",
     "output_type": "stream",
     "text": [
      "2,6,4,7\n",
      "['2', '6', '4', '7']\n",
      "[2, 6, 4, 7]\n",
      "[168, 56, 84, 48]\n"
     ]
    }
   ],
   "source": [
    "a=input().split(',')\n",
    "print(a)\n",
    "lst=list()\n",
    "\n",
    "clst=list()\n",
    "for i in a:\n",
    "    lst.append(int(i))\n",
    "print(lst)\n",
    "\n",
    "for i in range(len(lst)):\n",
    "    c=1\n",
    "    for j in range(len(lst)):\n",
    "        if i==j:\n",
    "            pass\n",
    "        else:\n",
    "            c=c*lst[j]\n",
    "    clst.append(c)\n",
    "print(clst)"
   ]
  },
  {
   "cell_type": "markdown",
   "metadata": {},
   "source": [
    "## 아스키코드\n",
    "철이는 아스키코드에 대해 공부하고있었습니다.\n",
    "\n",
    "하지만 기억력이 좋지않아 순서를 잊어먹게되는탓에 프로그램을 하나 만들어두려합니다.\n",
    "\n",
    "문자를 입력받으면 그 문자에 해당하는 아스키코드를 출력하는 코드를 작성해주세요.\n",
    "\n",
    "출력조건  \n",
    "\n",
    "a는 아스키코드로 97입니다.\n",
    "\n",
    "d는 아스키코드로 100입니다.\n",
    "\n",
    "A는 아스키코드로 65입니다."
   ]
  },
  {
   "cell_type": "code",
   "execution_count": 48,
   "metadata": {},
   "outputs": [
    {
     "name": "stdout",
     "output_type": "stream",
     "text": [
      "a 는 아스키코드로 97 입니다.\n",
      "d 는 아스키코드로 100 입니다.\n",
      "A 는 아스키코드로 65 입니다.\n"
     ]
    }
   ],
   "source": [
    "def askii (i):\n",
    "    a=ord(i)\n",
    "    print(i,'는 아스키코드로',a, '입니다.')\n",
    "askii('a')\n",
    "askii('d')\n",
    "askii('A')"
   ]
  }
 ],
 "metadata": {
  "kernelspec": {
   "display_name": "Python 3",
   "language": "python",
   "name": "python3"
  },
  "language_info": {
   "codemirror_mode": {
    "name": "ipython",
    "version": 3
   },
   "file_extension": ".py",
   "mimetype": "text/x-python",
   "name": "python",
   "nbconvert_exporter": "python",
   "pygments_lexer": "ipython3",
   "version": "3.7.3"
  }
 },
 "nbformat": 4,
 "nbformat_minor": 2
}
