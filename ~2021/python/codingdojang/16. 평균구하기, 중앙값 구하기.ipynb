{
 "cells": [
  {
   "cell_type": "markdown",
   "metadata": {},
   "source": [
    "# 코딩도장\n",
    "## 평균구하기\n",
    "리스트에 있는 숫자들의 평균을 구하는 프로그램을 만들어라.\n",
    "\n",
    "\n",
    "\n",
    "[4, 6, 8] = 6   \n",
    "[11, 17, 20, 24] = 18   \n",
    "[26, 33, 45, 51, 60] = 43   \n",
    "\n",
    "평균 : 자료의 값의 총합을 자료의 개수로 나눈 값"
   ]
  },
  {
   "cell_type": "code",
   "execution_count": 14,
   "metadata": {},
   "outputs": [
    {
     "name": "stdout",
     "output_type": "stream",
     "text": [
      "숫자 입력하시오:11,17,20,24\n",
      "18\n"
     ]
    }
   ],
   "source": [
    "a=input('숫자 입력하시오:')\n",
    "\n",
    "lst=a.split(',')\n",
    "lst_i=[int(x) for x in lst]\n",
    "c=0\n",
    "for i in lst_i:\n",
    "    c=c+i\n",
    "print(int(c/len(lst_i)))"
   ]
  },
  {
   "cell_type": "markdown",
   "metadata": {},
   "source": [
    "## 중앙값 구하기\n",
    "리스트에 있는 숫자들의 중앙값을 구하는 프로그램을 만들어라.\n",
    "\n",
    "[7, 9, 14] = 9   \n",
    "[24, 31, 35, 49] = 33   \n",
    "[17, 37, 37, 47, 57] = 37   \n",
    "\n",
    "중앙값 : 자료를 작은 값에서부터 크기순으로 나열할 때 중앙에 위치한 값   \n",
    "① 자료의 개수가 홀수이면 가운데 위치한 값이 중앙값이다.   \n",
    "② 자료의 개수가 짝수이면 가운데 위치한 두 값의 평균이 중앙값이다.   "
   ]
  },
  {
   "cell_type": "code",
   "execution_count": 20,
   "metadata": {},
   "outputs": [
    {
     "name": "stdout",
     "output_type": "stream",
     "text": [
      "숫자를 입력하세요:24,31,35,49\n",
      "33.0\n"
     ]
    }
   ],
   "source": [
    "a=input('숫자를 입력하세요:')\n",
    "lst=a.split(',')\n",
    "lst_i=[int(x) for x in lst]\n",
    "\n",
    "if len(lst_i)%2==0:\n",
    "    pos=len(lst_i)//2\n",
    "    print((lst_i[pos-1]+lst_i[pos])/2)\n",
    "else:\n",
    "    pos=len(lst_i)//2\n",
    "    print(lst_i[pos])"
   ]
  }
 ],
 "metadata": {
  "kernelspec": {
   "display_name": "Python 3",
   "language": "python",
   "name": "python3"
  },
  "language_info": {
   "codemirror_mode": {
    "name": "ipython",
    "version": 3
   },
   "file_extension": ".py",
   "mimetype": "text/x-python",
   "name": "python",
   "nbconvert_exporter": "python",
   "pygments_lexer": "ipython3",
   "version": "3.7.3"
  }
 },
 "nbformat": 4,
 "nbformat_minor": 2
}
