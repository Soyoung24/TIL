{
 "cells": [
  {
   "cell_type": "markdown",
   "metadata": {},
   "source": [
    "# 코딩도장\n",
    "## 구글 전화면접 문제\n",
    "\n",
    "  \n",
    "n개의 정수를 가진 배열이 있다. 이 배열은 양의정수와 음의 정수를 모두 가지고 있다. 이제 당신은 이 배열을 좀 특별한 방법으로 정렬해야 한다..\n",
    "\n",
    "정렬이 되고 난 후, 음의 정수는 앞쪽에 양의정수는 뒷쪽에 있어야 한다. 또한 양의정수와 음의정수의 순서에는 변함이 없어야 한다.  \n",
    "\n",
    "> 예. -1 1 3 -2 2 ans: -1 -2 1 3 2."
   ]
  },
  {
   "cell_type": "code",
   "execution_count": 4,
   "metadata": {},
   "outputs": [
    {
     "name": "stdout",
     "output_type": "stream",
     "text": [
      "[-1, -4, -3, -2, 1, 3, 4, 2, 2, 2]\n"
     ]
    }
   ],
   "source": [
    "nlst=list()\n",
    "plst=list()\n",
    "lst=[-1,1,3,4,-4,2,-3,2,-2,2]\n",
    "for i in lst:\n",
    "    if i <0 :\n",
    "        nlst.append(i)\n",
    "    else:\n",
    "        plst.append(i)\n",
    "    aa=nlst+plst\n",
    "    \n",
    "\n",
    "print(aa)"
   ]
  },
  {
   "cell_type": "markdown",
   "metadata": {},
   "source": [
    "## 피보나치 수열 구하기  \n",
    "피보나치 수열이란, 첫 번째 항의 값이 0이고 두 번째 항의 값이 1일 때, 이후의 항들은 이전의 두 항을 더한 값으로 이루어지는 수열을 말한다.\n",
    "\n",
    "예) 0, 1, 1, 2, 3, 5, 8, 13\n",
    "\n",
    "인풋을 정수 n으로 받았을때, n 이하까지의 피보나치 수열을 출력하는 프로그램을 작성하세요"
   ]
  },
  {
   "cell_type": "code",
   "execution_count": 33,
   "metadata": {},
   "outputs": [
    {
     "name": "stdout",
     "output_type": "stream",
     "text": [
      "55\n",
      "[0, 1, 1, 2, 3, 5, 8, 13, 21, 34]\n"
     ]
    }
   ],
   "source": [
    "n=int(input())\n",
    "plst=[0,1]\n",
    "\n",
    "while True:\n",
    "    p=plst[-1]+plst[-2]\n",
    "    if p<n:\n",
    "        plst.append(p)\n",
    "    else:\n",
    "        break\n",
    "print(plst)\n"
   ]
  },
  {
   "cell_type": "code",
   "execution_count": 38,
   "metadata": {},
   "outputs": [
    {
     "name": "stdout",
     "output_type": "stream",
     "text": [
      "33\n",
      "[0, 1, 1]\n",
      "[0, 1, 1, 2]\n",
      "[0, 1, 1, 2, 3]\n",
      "[0, 1, 1, 2, 3, 5]\n",
      "[0, 1, 1, 2, 3, 5, 8]\n",
      "[0, 1, 1, 2, 3, 5, 8, 13]\n",
      "[0, 1, 1, 2, 3, 5, 8, 13, 21]\n"
     ]
    }
   ],
   "source": [
    "n=int(input())\n",
    "plst=[0,1]\n",
    "\n",
    "while True:\n",
    "    p=plst[-1]+plst[-2]\n",
    "    plst.append(p)\n",
    "    if plst[-1]>n:\n",
    "        break\n",
    "    print(plst)\n"
   ]
  }
 ],
 "metadata": {
  "kernelspec": {
   "display_name": "Python 3",
   "language": "python",
   "name": "python3"
  },
  "language_info": {
   "codemirror_mode": {
    "name": "ipython",
    "version": 3
   },
   "file_extension": ".py",
   "mimetype": "text/x-python",
   "name": "python",
   "nbconvert_exporter": "python",
   "pygments_lexer": "ipython3",
   "version": "3.7.3"
  }
 },
 "nbformat": 4,
 "nbformat_minor": 2
}
