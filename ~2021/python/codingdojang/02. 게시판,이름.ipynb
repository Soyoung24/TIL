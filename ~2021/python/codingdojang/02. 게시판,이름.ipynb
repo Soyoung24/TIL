{
 "cells": [
  {
   "cell_type": "markdown",
   "metadata": {},
   "source": [
    "# 코딩도장\n",
    "## 게시판 페이징 \n",
    "\n",
    "A씨는 게시판 프로그램을 작성하고 있다.\n",
    "\n",
    "A씨는 게시물의 총 건수와 한 페이지에 보여줄 게시물수를 입력으로 주었을 때 총 페이지수를 리턴하는 프로그램이 필요하다고 한다.\n",
    "\n",
    "> 입력 : 총건수(m), 한페이지에 보여줄 게시물수(n) (단 n은 1보다 크거나 같다. n >= 1)    \n",
    "출력 : 총페이지수\n",
    "\n",
    "A씨가 필요한 프로그램을 작성하시오.    \n",
    "\n",
    "|m|\tn|\t출력|\n",
    "|-|-|-|\n",
    "|0\t|1\t|0|\n",
    "|1\t|1\t|1|\n",
    "|2\t|1\t|2|\n",
    "|1\t|10\t|1|\n",
    "|10\t|10\t|1|\n",
    "|11\t|10\t|2|\n"
   ]
  },
  {
   "cell_type": "code",
   "execution_count": 7,
   "metadata": {},
   "outputs": [
    {
     "name": "stdout",
     "output_type": "stream",
     "text": [
      "총 건수: 1\n",
      "한페이지에 보여줄 게시물 수: 10\n",
      "1\n"
     ]
    }
   ],
   "source": [
    "m=input(\"총 건수: \")\n",
    "n=input(\"한페이지에 보여줄 게시물 수: \")\n",
    "m=int(m)\n",
    "n=int(n)\n",
    "\n",
    "if m%n==0:\n",
    "    print(m//n)\n",
    "else:\n",
    "    print(m//n+1)"
   ]
  },
  {
   "cell_type": "markdown",
   "metadata": {},
   "source": [
    "## 사이냅소프트 면접문제\n",
    "\n",
    "주어진 문자열(공백 없이 쉼표로 구분되어 있음)을 가지고 아래 문제에 대한 프로그램을 작성하세요.\n",
    "\n",
    "> 이유덕,이재영,권종표,이재영,박민호,강상희,이재영,김지완,최승혁,이성연,박영서,박민호,전경헌,송정환,김재성,이유덕,전경헌\n",
    "\n",
    "1. 김씨와 이씨는 각각 몇 명 인가요?   \n",
    "2. \"이재영\"이란 이름이 몇 번 반복되나요?   \n",
    "3. 중복을 제거한 이름을 출력하세요.   \n",
    "4. 중복을 제거한 이름을 오름차순으로 정렬하여 출력하세요.   "
   ]
  },
  {
   "cell_type": "code",
   "execution_count": 39,
   "metadata": {},
   "outputs": [
    {
     "name": "stdout",
     "output_type": "stream",
     "text": [
      "이씨는 6 명\n",
      "김씨는 2 명\n",
      "이재영은 3 번 반복된다.\n"
     ]
    }
   ],
   "source": [
    "names='이유덕,이재영,권종표,이재영,박민호,강상희,이재영,김지완,최승혁,이성연,박영서,박민호,전경헌,송정환,김재성,이유덕,전경헌'\n",
    "\n",
    "names=names.split(',')\n",
    "#print(names)\n",
    "#names\n",
    "\n",
    "cl=0\n",
    "ck=0\n",
    "jy=0\n",
    "\n",
    "# 김씨와 이씨는 각각 몇명인가요?\n",
    "for name in names:\n",
    "    if name[0]=='이':\n",
    "        cl=cl+1\n",
    "    elif name[0]=='김':\n",
    "        ck=ck+1\n",
    "    else:continue\n",
    "\n",
    "# '이재영'이란 이름은 몇 번 반복되나요?\n",
    "for name in names:\n",
    "    if name=='이재영':\n",
    "        jy=jy+1\n",
    "\n",
    "\n",
    "print('이씨는', cl, '명')\n",
    "print('김씨는', ck, '명')\n",
    "print('이재영은', jy, '번 반복된다.')\n"
   ]
  },
  {
   "cell_type": "code",
   "execution_count": 37,
   "metadata": {},
   "outputs": [
    {
     "name": "stdout",
     "output_type": "stream",
     "text": [
      "['이유덕', '이재영', '권종표', '박민호', '강상희', '김지완', '최승혁', '이성연', '박영서', '전경헌', '송정환', '김재성']\n"
     ]
    }
   ],
   "source": [
    "# 중복을 제거한 이름을 출력하세요.\n",
    "\n",
    "names='이유덕,이재영,권종표,이재영,박민호,강상희,이재영,김지완,최승혁,이성연,박영서,박민호,전경헌,송정환,김재성,이유덕,전경헌'\n",
    "\n",
    "names=names.split(',')\n",
    "\n",
    "nlst=list()\n",
    "for name in names:\n",
    "    if name in nlst:\n",
    "        continue\n",
    "    nlst.append(name)\n",
    "    \n",
    "print(nlst)"
   ]
  },
  {
   "cell_type": "code",
   "execution_count": 38,
   "metadata": {},
   "outputs": [
    {
     "name": "stdout",
     "output_type": "stream",
     "text": [
      "['강상희', '권종표', '김재성', '김지완', '박민호', '박영서', '송정환', '이성연', '이유덕', '이재영', '전경헌', '최승혁']\n"
     ]
    }
   ],
   "source": [
    "# 중복을 제거한 이름을 오름차순으로 정렬하여 출력하세요.   \n",
    "nlst.sort()\n",
    "print(nlst)"
   ]
  }
 ],
 "metadata": {
  "kernelspec": {
   "display_name": "Python 3",
   "language": "python",
   "name": "python3"
  },
  "language_info": {
   "codemirror_mode": {
    "name": "ipython",
    "version": 3
   },
   "file_extension": ".py",
   "mimetype": "text/x-python",
   "name": "python",
   "nbconvert_exporter": "python",
   "pygments_lexer": "ipython3",
   "version": "3.7.3"
  }
 },
 "nbformat": 4,
 "nbformat_minor": 2
}
