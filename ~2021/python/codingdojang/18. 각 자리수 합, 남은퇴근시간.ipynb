{
 "cells": [
  {
   "cell_type": "markdown",
   "metadata": {},
   "source": [
    "# 코딩도장\n",
    "## 각 자릿수의 합을 구할 수 있나요?\n",
    "초보자 프로그래머 홍길동은 사용자가 입력한 양의정수(범위는 int)각 자리수를 더해 출력하는 프로그램을 만들고 싶어한다. ex) 5923의 결과는 5+9+2+3인 19이다 ex) 200의 결과는 2+0+0인 2이다 ex) 6719283의 결과는 6+7+1+9+2+8+3인 36이다."
   ]
  },
  {
   "cell_type": "code",
   "execution_count": 5,
   "metadata": {},
   "outputs": [
    {
     "name": "stdout",
     "output_type": "stream",
     "text": [
      "19\n",
      "2\n",
      "36\n"
     ]
    }
   ],
   "source": [
    "def sumnum (a):\n",
    "    sa=str(a)\n",
    "    c=0\n",
    "    for i in sa:\n",
    "        c=c+int(i)\n",
    "    print(c)\n",
    "    \n",
    "sumnum(5923)\n",
    "sumnum(200)\n",
    "sumnum(6719283)"
   ]
  },
  {
   "cell_type": "code",
   "execution_count": 8,
   "metadata": {},
   "outputs": [
    {
     "name": "stdout",
     "output_type": "stream",
     "text": [
      "19\n",
      "2\n",
      "36\n"
     ]
    }
   ],
   "source": [
    "def sumnum (a):\n",
    "    sa=str(a)\n",
    "    print(sum(int(i) for i in sa))\n",
    "    \n",
    "sumnum(5923)\n",
    "sumnum(200)\n",
    "sumnum(6719283)"
   ]
  },
  {
   "cell_type": "markdown",
   "metadata": {},
   "source": [
    "## 남은 퇴근시간 계산기\n",
    "\n",
    "현우는 성인이되어 회사에입사했다.\n",
    "\n",
    "하지만 들어간기업이 하필 할일없는 중소기업이라\n",
    "\n",
    "퇴근시간까지 놀다가 퇴근시간에 퇴근하는것이 일상화가되어버렸다..\n",
    "\n",
    "현우는 심심한지라 좀더효율적으로놀기위해\n",
    "\n",
    "현재부터 퇴근시간까지 남은시간을 알려주는 계산기를 만들어\n",
    "\n",
    "계산적으로놀고싶었다 우리가현우를 도와주자!!\n",
    "\n",
    "(참고로 현우의퇴근시간은 17시30분이다)\n",
    "\n",
    "input: 현재시간\n",
    "\n",
    "output: 남은시간 : hh:mm:ss\n",
    "\n",
    "or\n",
    "\n",
    "남은시간 : s\n",
    "\n",
    "심화버젼 : 이쁘게꾸며보자!\n",
    "\n"
   ]
  },
  {
   "cell_type": "code",
   "execution_count": 8,
   "metadata": {},
   "outputs": [
    {
     "name": "stdout",
     "output_type": "stream",
     "text": [
      "시:분:초 로 입력해주세요14:44:23\n",
      "['14', '44', '23']\n",
      "남은 시간은 2 시간 45 분 37 초\n"
     ]
    }
   ],
   "source": [
    "now=input(\"시:분:초 로 입력해주세요\")\n",
    "\n",
    "lst=now.split(':')\n",
    "print(lst)\n",
    "nlst=[]\n",
    "for i in lst:\n",
    "    si=int(i)\n",
    "    nlst.append(si)\n",
    "    \n",
    "time=(17-nlst[0])*3600+(30-nlst[1])*60-nlst[2]\n",
    "if time<=0:\n",
    "    print('퇴근하세요')\n",
    "else:\n",
    "    hh=time//3600\n",
    "    mm=(time-hh*3600)//60\n",
    "    ss=time-hh*3600-mm*60\n",
    "    print('남은 시간은', hh,'시간',mm,'분',ss,'초')"
   ]
  }
 ],
 "metadata": {
  "kernelspec": {
   "display_name": "Python 3",
   "language": "python",
   "name": "python3"
  },
  "language_info": {
   "codemirror_mode": {
    "name": "ipython",
    "version": 3
   },
   "file_extension": ".py",
   "mimetype": "text/x-python",
   "name": "python",
   "nbconvert_exporter": "python",
   "pygments_lexer": "ipython3",
   "version": "3.7.3"
  }
 },
 "nbformat": 4,
 "nbformat_minor": 2
}
