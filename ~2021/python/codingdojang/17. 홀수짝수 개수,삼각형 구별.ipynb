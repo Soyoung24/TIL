{
 "cells": [
  {
   "cell_type": "markdown",
   "metadata": {},
   "source": [
    "# 코딩도장\n",
    "## 홀수와 짝수의 개수 구하기\n",
    "\n",
    "홀수와 짝수의 개수를 구하는 프로그램을 만들어라.\n",
    "\n",
    "[3, 4, 5, 6, 7]   \n",
    "= 홀수 3개, 짝수 2개   \n",
    "[12, 16, 22, 24, 29]   \n",
    "= 홀수 1개, 짝수 4개    \n",
    "[41, 43, 45, 47, 49]   \n",
    "= 홀수 5개, 짝수 0개   \n",
    "\n",
    "홀수 : 2로 나누어 떨어지지 않는 정수   \n",
    "짝수 : 2로 나누어 떨어지는 정수   "
   ]
  },
  {
   "cell_type": "code",
   "execution_count": 5,
   "metadata": {},
   "outputs": [
    {
     "name": "stdout",
     "output_type": "stream",
     "text": [
      "숫자를 입력하세요1,2,3,4,5\n",
      "['1', '2', '3', '4', '5']\n",
      "홀수는 3 개, 짝수는 2 개\n"
     ]
    }
   ],
   "source": [
    "num=input('숫자를 입력하세요').split(',')\n",
    "print(num)\n",
    "co=0\n",
    "ce=0\n",
    "for i in num:\n",
    "    a=int(i)\n",
    "    if a%2==0:\n",
    "        ce=ce+1\n",
    "    else:\n",
    "        co=co+1\n",
    "print('홀수는',co,'개,', '짝수는',ce,'개')"
   ]
  },
  {
   "cell_type": "markdown",
   "metadata": {},
   "source": [
    "## 삼각형 구별하기\n",
    "3개의 각으로 삼각형의 예각, 직각, 둔각을 구별하는 프로그램을 만들어라.\n",
    "\n",
    "[60, 60, 60] = 예각삼각형   \n",
    "[30, 60, 90] = 직각삼각형   \n",
    "[20, 40, 120] = 둔각삼각형   \n",
    "[0, 90, 90] = 삼각형이 아니다   \n",
    "[60, 70, 80] = 삼각형이 아니다    \n",
    "[40, 40, 50, 50] = 삼각형이 아니다   \n",
    "\n",
    "예각삼각형 : 3개의 각이 모두 예각인 삼각형   \n",
    "직각삼각형 : 1개의 각이 직각인 삼각형   \n",
    "둔각삼각형 : 1개의 각이 둔각인 삼각형   \n",
    "① 각이 3개가 아닐 경우 삼각형이 아니다.   \n",
    "② 3개의 각의 합이 180°가 아닐 경우 삼각형이 아니다.    "
   ]
  },
  {
   "cell_type": "code",
   "execution_count": 19,
   "metadata": {},
   "outputs": [
    {
     "name": "stdout",
     "output_type": "stream",
     "text": [
      "[60, 60, 60] = 예각삼각형\n",
      "[30, 60, 90] = 직각삼각형\n",
      "[20, 40, 120] = 둔각삼각형\n",
      "[0, 90, 90] = 삼각형이 아니다.\n",
      "[60, 70, 80] = 삼각형이 아니다.\n",
      "[40, 40, 50, 50] = 삼각형이 아니다.\n"
     ]
    }
   ],
   "source": [
    "def triangle(lst):\n",
    "    if len(lst)!=3:\n",
    "        print(lst,'= 삼각형이 아니다.')\n",
    "    elif sum(lst)!=180:\n",
    "        print(lst,'= 삼각형이 아니다.')\n",
    "    elif 0 in lst:\n",
    "        print(lst, '= 삼각형이 아니다.')\n",
    "    elif max(lst)>90:\n",
    "        print(lst, '= 둔각삼각형')\n",
    "    elif max(lst)==90:\n",
    "        print(lst, '= 직각삼각형')\n",
    "    else:\n",
    "        print(lst, '= 예각삼각형')\n",
    "        \n",
    "        \n",
    "triangle([60,60,60])      \n",
    "triangle([30, 60, 90])        \n",
    "triangle([20, 40, 120])        \n",
    "triangle([0,90,90])        \n",
    "triangle([60,70,80])\n",
    "triangle([40,40,50,50])"
   ]
  }
 ],
 "metadata": {
  "kernelspec": {
   "display_name": "Python 3",
   "language": "python",
   "name": "python3"
  },
  "language_info": {
   "codemirror_mode": {
    "name": "ipython",
    "version": 3
   },
   "file_extension": ".py",
   "mimetype": "text/x-python",
   "name": "python",
   "nbconvert_exporter": "python",
   "pygments_lexer": "ipython3",
   "version": "3.7.3"
  }
 },
 "nbformat": 4,
 "nbformat_minor": 2
}
