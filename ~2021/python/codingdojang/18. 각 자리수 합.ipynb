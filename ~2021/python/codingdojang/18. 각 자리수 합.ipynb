{
 "cells": [
  {
   "cell_type": "markdown",
   "metadata": {},
   "source": [
    "# 코딩도장\n",
    "## 각 자릿수의 합을 구할 수 있나요?\n",
    "초보자 프로그래머 홍길동은 사용자가 입력한 양의정수(범위는 int)각 자리수를 더해 출력하는 프로그램을 만들고 싶어한다. ex) 5923의 결과는 5+9+2+3인 19이다 ex) 200의 결과는 2+0+0인 2이다 ex) 6719283의 결과는 6+7+1+9+2+8+3인 36이다."
   ]
  },
  {
   "cell_type": "code",
   "execution_count": 5,
   "metadata": {},
   "outputs": [
    {
     "name": "stdout",
     "output_type": "stream",
     "text": [
      "19\n",
      "2\n",
      "36\n"
     ]
    }
   ],
   "source": [
    "def sumnum (a):\n",
    "    sa=str(a)\n",
    "    c=0\n",
    "    for i in sa:\n",
    "        c=c+int(i)\n",
    "    print(c)\n",
    "    \n",
    "sumnum(5923)\n",
    "sumnum(200)\n",
    "sumnum(6719283)"
   ]
  },
  {
   "cell_type": "code",
   "execution_count": 8,
   "metadata": {},
   "outputs": [
    {
     "name": "stdout",
     "output_type": "stream",
     "text": [
      "19\n",
      "2\n",
      "36\n"
     ]
    }
   ],
   "source": [
    "def sumnum (a):\n",
    "    sa=str(a)\n",
    "    print(sum(int(i) for i in sa))\n",
    "    \n",
    "sumnum(5923)\n",
    "sumnum(200)\n",
    "sumnum(6719283)"
   ]
  },
  {
   "cell_type": "markdown",
   "metadata": {},
   "source": [
    "## MVP를 찾아라\n",
    "\n",
    "#### 게임 개발\n",
    "\n",
    "당신이 참여했던 RPG게임이 대박이 나서 당신과 당신의 회사는 새로운 게임을 개발하기로 했다.\n",
    "\n",
    "여러 날의 회의 끝에 새로운 게임의 장르는 AOS(MOBA )로 현재 자신들의 RPG게임의 IP를 사용하기로 했다.\n",
    "\n",
    "그렇게 몇 날 며칠을 토론을 하며 게임의 틀이 잡혀졌고 각고의 노력 끝에 게임을 출시했다.\n",
    "\n",
    "반응은 좋았으나 많은 사람들이 게임에 MVP시스템이 있었으면 좋겠다고 게임 고객센터에 요청을 했다.\n",
    "\n",
    "빠져나가기 쉬운 유저들을 붙잡아두기 위해선 유저들의 요청을 하루빨리 시행해야 했고\n",
    "\n",
    "그 결과 실력이 가장 좋은 당신이 프로그래밍을 맡게되었다.\n",
    "\n",
    "최대한 빠른 시일 내에 MVP를 출력하는 프로그램을 작성하시오.\n",
    "\n",
    "-------\n",
    "#### 조건\n",
    "\n",
    "한 게임의 유저는 총 열명으로 두팀으로 나뉜다. (A1,A2...A5 와 B1,B2...B5로 구성된다.)\n",
    "\n",
    "총 10줄에 걸쳐 각 유저들의 K/D/A를 입력받고 그에 따른 점수가 가장 높은 유저를 출력한다.\n",
    "\n",
    "점수는 (K * 2 + A )/ (D+1) 을 기준으로 한다.\n",
    "\n",
    "만약 같은 팀인데 점수가 똑같다면 점수가 똑같은 사람중에 어느 누구를 출력해도 상관이 없다.\n",
    "\n",
    "--------\n",
    "\n",
    "#### 1차 업데이트\n",
    "\n",
    "이 게임도 성공을 하고 운영을 하던 도중 또 MVP시스템을 수정해달라는 글이 여럿 올라왔었다.\n",
    "\n",
    "바로 연속으로 상대를 처치한 게임에서 자기가 MVP가 되지 않았다며 이에 반발을 했다.\n",
    "\n",
    "그리고 자신의 팀이 이겼고 상대와 내가 점수가 똑같은데 왜 상대가 MVP냐는 글도 여럿 있었다.\n",
    "\n",
    "그 글들을 보고 난 당신은 또 다시 MVP시스템을 업그레이드 하게 되었다.\n",
    "\n",
    "-----------\n",
    "\n",
    "#### 업데이트 항목 : \n",
    "연속으로 상대를 처치함에 따라 점수를 더하고 승리한 팀에게 모두 1점을 더하시오.\n",
    "\n",
    "펜타킬 : P : 4\n",
    "\n",
    "쿼드라킬 : Q : 3\n",
    "\n",
    "트리플킬 : T : 2\n",
    "\n",
    "더블킬 : D : 1\n",
    "\n",
    "없음 : N : 0\n",
    "\n",
    "------\n",
    "\n",
    "입력\n",
    "\n",
    "3/0/4 D  \n",
    "2/5/6 N    \n",
    "12/4/2 P   \n",
    "1/2/8 N   \n",
    "2/2/8 N   \n",
    "5/5/2 T   \n",
    "1/5/2 N   \n",
    "1/3/1 N   \n",
    "2/4/5 N   \n",
    "4/3/5 Q   \n",
    "\n",
    "출력\n",
    "\n",
    "A3\n",
    "\n",
    "\n",
    "오류가 있는 데이터는 존재하지 않는다. 즉, 데이터로는 더블킬인데 킬은 2킬보다 적은 경우는 주어지지 않는다.\n",
    "\n",
    "데이터는 순서대로 주어지며 언제나 위쪽에 있는 데이터 5줄이 승자다."
   ]
  },
  {
   "cell_type": "code",
   "execution_count": 15,
   "metadata": {},
   "outputs": [
    {
     "name": "stdout",
     "output_type": "stream",
     "text": [
      "['3/0/4 D', '2/5/6 N', '12/4/2 P', '1/2/8 N', '2/2/8 N', '5/5/2 T', '1/5/2 N', '1/3/1 N', '2/4/5 N', '4/3/5 Q']\n"
     ]
    },
    {
     "ename": "TypeError",
     "evalue": "list indices must be integers or slices, not str",
     "output_type": "error",
     "traceback": [
      "\u001b[1;31m---------------------------------------------------------------------------\u001b[0m",
      "\u001b[1;31mTypeError\u001b[0m                                 Traceback (most recent call last)",
      "\u001b[1;32m<ipython-input-15-63d3d1bb4b42>\u001b[0m in \u001b[0;36m<module>\u001b[1;34m\u001b[0m\n\u001b[0;32m      7\u001b[0m \u001b[1;33m\u001b[0m\u001b[0m\n\u001b[0;32m      8\u001b[0m \u001b[1;32mfor\u001b[0m \u001b[0mi\u001b[0m \u001b[1;32min\u001b[0m \u001b[0mlst\u001b[0m\u001b[1;33m:\u001b[0m\u001b[1;33m\u001b[0m\u001b[1;33m\u001b[0m\u001b[0m\n\u001b[1;32m----> 9\u001b[1;33m     \u001b[0msi\u001b[0m\u001b[1;33m[\u001b[0m\u001b[0mi\u001b[0m\u001b[1;33m]\u001b[0m\u001b[1;33m=\u001b[0m\u001b[0mi\u001b[0m\u001b[1;33m.\u001b[0m\u001b[0msplit\u001b[0m\u001b[1;33m(\u001b[0m\u001b[1;34m'/'\u001b[0m \u001b[1;32mor\u001b[0m \u001b[1;34m' '\u001b[0m\u001b[1;33m)\u001b[0m\u001b[1;33m\u001b[0m\u001b[1;33m\u001b[0m\u001b[0m\n\u001b[0m\u001b[0;32m     10\u001b[0m     \u001b[0mprint\u001b[0m\u001b[1;33m(\u001b[0m\u001b[0msi\u001b[0m\u001b[1;33m)\u001b[0m\u001b[1;33m\u001b[0m\u001b[1;33m\u001b[0m\u001b[0m\n",
      "\u001b[1;31mTypeError\u001b[0m: list indices must be integers or slices, not str"
     ]
    }
   ],
   "source": [
    "score=open('./result.txt')\n",
    "lst=[]\n",
    "for i in score:\n",
    "    i=i.rstrip()\n",
    "    lst.append(i)\n",
    "print(lst)\n",
    "\n",
    "for i in lst:\n",
    "    si=i.split('/' or ' ')\n",
    "    "
   ]
  }
 ],
 "metadata": {
  "kernelspec": {
   "display_name": "Python 3",
   "language": "python",
   "name": "python3"
  },
  "language_info": {
   "codemirror_mode": {
    "name": "ipython",
    "version": 3
   },
   "file_extension": ".py",
   "mimetype": "text/x-python",
   "name": "python",
   "nbconvert_exporter": "python",
   "pygments_lexer": "ipython3",
   "version": "3.7.3"
  }
 },
 "nbformat": 4,
 "nbformat_minor": 2
}
