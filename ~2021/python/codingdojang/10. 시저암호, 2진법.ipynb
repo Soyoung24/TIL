{
 "cells": [
  {
   "cell_type": "markdown",
   "metadata": {},
   "source": [
    "# 코딩도장  \n",
    "## 시저 암호 풀기\n",
    "\n",
    "시저 암호는, 고대 로마의 황제 줄리어스 시저가 만들어 낸 암호인데, 예를 들어 알파벳 A를 입력했을 때, 그 알파벳의 n개 뒤에 오는(여기서는 예를 들 때 3으로 지정하였다)알파벳이 출력되는 것이다. 예를 들어 바꾸려는 단어가 'CAT\"고, n을 5로 지정하였을 때 \"HFY\"가 되는 것이다.\n",
    "\n",
    "어떠한 암호를 만들 문장과 n을 입력했을 때 암호를 만들어 출력하는 프로그램을 작성해라."
   ]
  },
  {
   "cell_type": "code",
   "execution_count": 49,
   "metadata": {},
   "outputs": [
    {
     "name": "stdout",
     "output_type": "stream",
     "text": [
      "ABCDEFGHIJKLMNOPQRSTUVWXYZ\n",
      "abcdefghijklmnopqrstuvwxyz\n"
     ]
    },
    {
     "data": {
      "text/plain": [
       "2"
      ]
     },
     "execution_count": 49,
     "metadata": {},
     "output_type": "execute_result"
    }
   ],
   "source": [
    "# A~Z까지 출력\n",
    "print(string.ascii_uppercase)\n",
    "print(string.ascii_lowercase)\n",
    "\n",
    "# index 함수\n",
    "a = [1,2,3]\n",
    "a.index(3)"
   ]
  },
  {
   "cell_type": "code",
   "execution_count": 44,
   "metadata": {},
   "outputs": [
    {
     "name": "stdout",
     "output_type": "stream",
     "text": [
      "CAT\n",
      "5\n",
      "HFY\n"
     ]
    }
   ],
   "source": [
    "import string\n",
    "x=list(input())\n",
    "n=int(input())\n",
    "alp_u=list(string.ascii_uppercase)\n",
    "alp_l=list(string.ascii_lowercase)\n",
    "lst=list()\n",
    "for i in x:\n",
    "    if i in alp_u:\n",
    "        ind=(alp_u.index(i)+n)%26\n",
    "        lst.append(alp_u[ind])\n",
    "    elif i in alp_l:\n",
    "        ind=(alp_l.index(i)+n)%26\n",
    "        lst.append(alp_l[ind])\n",
    "    else:\n",
    "        lst.append(i)\n",
    "print(''.join(lst))"
   ]
  },
  {
   "cell_type": "code",
   "execution_count": 46,
   "metadata": {},
   "outputs": [
    {
     "name": "stdout",
     "output_type": "stream",
     "text": [
      "Lipps Asvph!\n"
     ]
    }
   ],
   "source": [
    "def caesar_cipher(x,n):\n",
    "    alp_u=list(string.ascii_uppercase)\n",
    "    alp_l=list(string.ascii_lowercase)\n",
    "    lst=list()\n",
    "    for i in x:\n",
    "        if i in alp_u:\n",
    "            ind=(alp_u.index(i)+n)%26\n",
    "            lst.append(alp_u[ind])\n",
    "        elif i in alp_l:\n",
    "            ind=(alp_l.index(i)+n)%26\n",
    "            lst.append(alp_l[ind])\n",
    "        else:\n",
    "            lst.append(i)\n",
    "    print(''.join(lst))\n",
    "\n",
    "caesar_cipher('Hello World!',4)"
   ]
  },
  {
   "cell_type": "markdown",
   "metadata": {},
   "source": [
    "# 2진법으로 자연수 나타내기\n",
    "2진법이란, 어떤 자연수를 0과 1로만 나타내는 것이다. 예를 들어 73은 64(2^6)+8(2^3)+1(2^0)이기 때문에 1001001으로 표현한다. 어떤 숫자를 입력받았을 때 그 숫자를 2진법으로 출력하는 프로그램을 작성하시오."
   ]
  },
  {
   "cell_type": "code",
   "execution_count": 65,
   "metadata": {},
   "outputs": [
    {
     "name": "stdout",
     "output_type": "stream",
     "text": [
      "73\n",
      "1001001\n"
     ]
    }
   ],
   "source": [
    "x=int(input())\n",
    "lst=[]\n",
    "\n",
    "while x:\n",
    "    lst.append(x%2)\n",
    "    x=int(x/2)\n",
    "    \n",
    "lst.reverse()\n",
    "lst=[str(x) for x in lst]\n",
    "print(''.join(lst))"
   ]
  }
 ],
 "metadata": {
  "kernelspec": {
   "display_name": "Python 3",
   "language": "python",
   "name": "python3"
  },
  "language_info": {
   "codemirror_mode": {
    "name": "ipython",
    "version": 3
   },
   "file_extension": ".py",
   "mimetype": "text/x-python",
   "name": "python",
   "nbconvert_exporter": "python",
   "pygments_lexer": "ipython3",
   "version": "3.7.3"
  }
 },
 "nbformat": 4,
 "nbformat_minor": 2
}
