{
 "cells": [
  {
   "cell_type": "markdown",
   "metadata": {},
   "source": [
    "# 코딩도장  \n",
    "## 완전 수 구하기\n",
    "자기 자신을 제외한 모든 양의 약수들의 합이 자기 자신이 되는 자연수를 완전수라고 한다. 예를 들면, 6과 28은 완전수이다. 6=1+2+3 // 1,2,3은 각각 6의 약수 28=1+2+4+7+14 // 1,2,4,7,14는 각각 28의 약수\n",
    "\n",
    "입력으로 자연수 N을 받고, 출력으로 N 이하의 모든 완전수를 출력하는 코드를 작성하라."
   ]
  },
  {
   "cell_type": "code",
   "execution_count": 12,
   "metadata": {},
   "outputs": [
    {
     "name": "stdout",
     "output_type": "stream",
     "text": [
      "[1, 2, 3]\n",
      "6 은 완전수이다.\n",
      "[1]\n",
      "2 은 완전수가 아니다.\n",
      "[1, 2, 4, 7, 14]\n",
      "28 은 완전수이다.\n"
     ]
    }
   ],
   "source": [
    "import numpy as np\n",
    "def compnum(n):\n",
    "    lst=list()\n",
    "    for i in range(1,n+1):\n",
    "        if n%i==0 and i!=n:\n",
    "            lst.append(i)\n",
    "    print(lst)\n",
    "    if n==np.sum(lst):\n",
    "        print(n,'은 완전수이다.')\n",
    "    else:\n",
    "        print(n, '은 완전수가 아니다.')\n",
    "\n",
    "compnum(6)\n",
    "compnum(2)\n",
    "compnum(28)"
   ]
  },
  {
   "cell_type": "markdown",
   "metadata": {},
   "source": [
    "## Special Pythagorean triplet\n",
    "세 자연수 a, b, c 가 피타고라스 정리 a^2 + b^2 = c^2 를 만족하면 피타고라스 수라고 부릅니다 (여기서 a < b < c ). 예를 들면 3^2 + 4^2 = 9 + 16 = 25 = 5^2 이므로 3, 4, 5는 피타고라스 수입니다.\n",
    "\n",
    "a + b + c = 1000 인 피타고라스 수 a, b, c는 한 가지 뿐입니다. 이 때, a × b × c 는 얼마입니까?"
   ]
  },
  {
   "cell_type": "code",
   "execution_count": 3,
   "metadata": {},
   "outputs": [
    {
     "name": "stdout",
     "output_type": "stream",
     "text": [
      "31875000\n",
      "200 375 425\n"
     ]
    }
   ],
   "source": [
    "for a in range(1,500):\n",
    "    for b in range(a,500):\n",
    "        for c in range(b,500):\n",
    "            if a*a+b*b==c*c:\n",
    "                if a+b+c==1000:\n",
    "                    print(a*b*c)\n",
    "                    print(a,b,c)"
   ]
  }
 ],
 "metadata": {
  "kernelspec": {
   "display_name": "Python 3",
   "language": "python",
   "name": "python3"
  },
  "language_info": {
   "codemirror_mode": {
    "name": "ipython",
    "version": 3
   },
   "file_extension": ".py",
   "mimetype": "text/x-python",
   "name": "python",
   "nbconvert_exporter": "python",
   "pygments_lexer": "ipython3",
   "version": "3.7.3"
  }
 },
 "nbformat": 4,
 "nbformat_minor": 2 
}
