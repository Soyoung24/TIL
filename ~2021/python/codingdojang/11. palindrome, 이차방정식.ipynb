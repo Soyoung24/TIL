{
 "cells": [
  {
   "cell_type": "markdown",
   "metadata": {},
   "source": [
    "# 코딩도장\n",
    "## palindrome\n",
    "\n",
    "앞에서부터 읽을 때나 뒤에서부터 읽을 때나 모양이 같은 수를 대칭수(palindrome)라고 부릅니다. 두 자리 수를 곱해 만들 수 있는 대칭수 중 가장 큰 수는 9009 (= 91 × 99) 입니다. 세 자리 수를 곱해 만들 수 있는 가장 큰 대칭수는 얼마입니까?"
   ]
  },
  {
   "cell_type": "code",
   "execution_count": 15,
   "metadata": {},
   "outputs": [
    {
     "name": "stdout",
     "output_type": "stream",
     "text": [
      "9009\n"
     ]
    }
   ],
   "source": [
    "lst=list()\n",
    "for i in range(10,100):\n",
    "    for j in range(10,100):\n",
    "        num=i*j\n",
    "        strnum=str(num)\n",
    "        if strnum[0]==strnum[-1] and strnum[1]==strnum[-2]:\n",
    "            lst.append(int(strnum))\n",
    "\n",
    "print(max(lst))"
   ]
  },
  {
   "cell_type": "code",
   "execution_count": 17,
   "metadata": {},
   "outputs": [
    {
     "name": "stdout",
     "output_type": "stream",
     "text": [
      "99000099\n"
     ]
    }
   ],
   "source": [
    "lst=list()\n",
    "for i in range(100,10000):\n",
    "    for j in range(100,10000):\n",
    "        num=i*j\n",
    "        strnum=str(num)\n",
    "        if strnum[0]==strnum[-1] and strnum[1]==strnum[-2] and strnum[2]==strnum[-3] and strnum[3]==strnum[-4]:\n",
    "            lst.append(int(strnum))\n",
    "\n",
    "print(max(lst))"
   ]
  },
  {
   "cell_type": "markdown",
   "metadata": {},
   "source": [
    "## 이차방정식\n",
    "A씨는 학교숙제로 이차방정식 문제를 풀어야 한다. 하지만 시간이 얼마 없다. 이 A씨를 도와주기 위한 이차방정식 풀이 프로그램을 작성해라.(단, 일차방정식은 ax^2 + bx + c = 0의 꼴에서 a, b와 c를 입력받아 해를 구하고 해를 구하기 위해 근의 공식을 사용해야 한다. 또, 해는 정수로 반올림한 값을 구하고 해가 없거나 여러개인 경우도 모두 구해야 한다.)"
   ]
  },
  {
   "cell_type": "code",
   "execution_count": 34,
   "metadata": {},
   "outputs": [
    {
     "name": "stdout",
     "output_type": "stream",
     "text": [
      "x의 해는 없다.\n"
     ]
    }
   ],
   "source": [
    "import numpy as np\n",
    "\n",
    "def function_2(a,b,c):\n",
    "    D=b**2-4*a*c\n",
    "    if D>0:\n",
    "        x1=(-b+np.sqrt((b**2)-4*a*c))/2*a\n",
    "        x2=(-b-np.sqrt((b**2)-4*a*c))/2*a\n",
    "        print('x의 해는', round(x1), round(x2))\n",
    "    elif D==0:\n",
    "        print('x의 해는 무수히 많다.')\n",
    "    else:\n",
    "        print('x의 해는 없다.')\n",
    "        \n",
    "function_2(2,3,2)"
   ]
  }
 ],
 "metadata": {
  "kernelspec": {
   "display_name": "Python 3",
   "language": "python",
   "name": "python3"
  },
  "language_info": {
   "codemirror_mode": {
    "name": "ipython",
    "version": 3
   },
   "file_extension": ".py",
   "mimetype": "text/x-python",
   "name": "python",
   "nbconvert_exporter": "python",
   "pygments_lexer": "ipython3",
   "version": "3.7.3"
  }
 },
 "nbformat": 4,
 "nbformat_minor": 2
}
