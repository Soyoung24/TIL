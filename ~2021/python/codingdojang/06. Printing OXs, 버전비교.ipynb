{
 "cells": [
  {
   "cell_type": "markdown",
   "metadata": {},
   "source": [
    "# 코딩도장\n",
    "## Printing OXs\n",
    "\n",
    "앞의 문제들 중 비슷한 알고리즘이 있던 것 같지만, 같은 건 없다고 생각해서 올립니다. 문제를 푸는데 많은 approach가 있을 듯 싶습니다. 이 문제의 핵심은 비트 연산을 얼마나 잘 이해하고 있냐이기 때문에 비트 연산으로 풀어주세요.\n",
    "\n",
    "input은 int n을 입력 받아 첫번째 row는 (n-1)의 O와 X, 두번째 row는 (n-2)의 O와 XX, 세번째 row는 (n-3)의 0와 XXX... n번째 row는 n의 X을 출력하시오.\n",
    "\n",
    "입력 예시: 6\n",
    "\n",
    "출력 예시:\n",
    "\n",
    "OOOOOX\n",
    "\n",
    "OOOOXX\n",
    "\n",
    "OOOXXX\n",
    "\n",
    "OOXXXX\n",
    "\n",
    "OXXXXX\n",
    "\n",
    "XXXXXX\n",
    "\n"
   ]
  },
  {
   "cell_type": "code",
   "execution_count": 7,
   "metadata": {},
   "outputs": [
    {
     "name": "stdout",
     "output_type": "stream",
     "text": [
      "숫자를 입력하세요: 6\n",
      "OOOOOX\n",
      "OOOOXX\n",
      "OOOXXX\n",
      "OOXXXX\n",
      "OXXXXX\n",
      "XXXXXX\n"
     ]
    }
   ],
   "source": [
    "n=int(input('숫자를 입력하세요: '))\n",
    "\n",
    "\n",
    "for i in range(1,n+1):\n",
    "    print('O'*(n-i)+'X'*i)"
   ]
  },
  {
   "cell_type": "markdown",
   "metadata": {},
   "source": [
    "## 버전비교\n",
    "\n",
    "A씨는 두 개의 버전을 비교하는 프로그램을 작성해야 한다.\n",
    "\n",
    "버전은 다음처럼 \".\" 으로 구분된 문자열이다.\n",
    "\n",
    "버전 예) 1.0.0, 1.0.23, 1.1\n",
    "\n",
    "두 개의 버전을 비교하는 프로그램을 작성하시오.\n",
    "\n",
    "다음은 버전 비교의 예이다.\n",
    "\n",
    "0.0.2 > 0.0.1   \n",
    "1.0.10 > 1.0.3   \n",
    "1.2.0 > 1.1.99   \n",
    "1.1 > 1.0.1   "
   ]
  },
  {
   "cell_type": "code",
   "execution_count": 16,
   "metadata": {},
   "outputs": [
    {
     "name": "stdout",
     "output_type": "stream",
     "text": [
      "0.0.2 > 0.0.1\n",
      "1.0.3 > 1.0.10\n",
      "1.2.0 > 1.1.99\n",
      "1.1 > 1.0.1\n"
     ]
    }
   ],
   "source": [
    "def vercomp(ver_1,ver_2):\n",
    "    if ver_1>ver_2:\n",
    "        print(ver_1,'>',ver_2)\n",
    "    elif ver_2>ver_1:\n",
    "        print(ver_2, '>', ver_1)\n",
    "    else:\n",
    "        print(ver_1,'=', ver_2)\n",
    "        \n",
    "vercomp('0.0.2','0.0.1')\n",
    "vercomp('1.0.10','1.0.3')\n",
    "vercomp('1.2.0','1.1.99')\n",
    "vercomp('1.1','1.0.1')\n",
    "\n"
   ]
  },
  {
   "cell_type": "code",
   "execution_count": 19,
   "metadata": {},
   "outputs": [
    {
     "name": "stdout",
     "output_type": "stream",
     "text": [
      "버전1: 1.1\n",
      "버전2: 1.0.1\n",
      "1.1 > 1.0.1\n"
     ]
    }
   ],
   "source": [
    "ver_1=input('버전1: ')\n",
    "ver_2=input('버전2: ')\n",
    "\n",
    "if ver_1>ver_2:\n",
    "    print(ver_1,'>',ver_2)\n",
    "elif ver_2>ver_1:\n",
    "    print(ver_2, '>', ver_1)\n",
    "else:\n",
    "    print(ver_1,'=', ver_2)"
   ]
  }
 ],
 "metadata": {
  "kernelspec": {
   "display_name": "Python 3",
   "language": "python",
   "name": "python3"
  },
  "language_info": {
   "codemirror_mode": {
    "name": "ipython",
    "version": 3
   },
   "file_extension": ".py",
   "mimetype": "text/x-python",
   "name": "python",
   "nbconvert_exporter": "python",
   "pygments_lexer": "ipython3",
   "version": "3.7.3"
  }
 },
 "nbformat": 4,
 "nbformat_minor": 2
}
