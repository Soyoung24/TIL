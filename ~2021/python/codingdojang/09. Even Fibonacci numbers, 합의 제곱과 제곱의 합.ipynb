{
 "cells": [
  {
   "cell_type": "markdown",
   "metadata": {},
   "source": [
    "# 코딩도장\n",
    "## Even Fibonacci numbers\n",
    "\n",
    "피보나치 수열의 각 항은 바로 앞의 항 두 개를 더한 것이 됩니다. 1과 2로 시작하는 경우 이 수열은 아래와 같습니다.\n",
    "\n",
    "1, 2, 3, 5, 8, 13, 21, 34, 55, 89, ...\n",
    "\n",
    "짝수이면서 4백만 이하인 모든 항을 더하면 얼마가 됩니까?\n",
    "\n"
   ]
  },
  {
   "cell_type": "code",
   "execution_count": 11,
   "metadata": {},
   "outputs": [
    {
     "name": "stdout",
     "output_type": "stream",
     "text": [
      "[8, 34, 144, 610, 2584, 10946, 46368, 196418, 832040, 3524578, 2]\n",
      "4613732\n"
     ]
    }
   ],
   "source": [
    "n=4000000\n",
    "plst=[1,2]\n",
    "elst=list()\n",
    "while True:\n",
    "    p=plst[-1]+plst[-2]\n",
    "    if p<n:\n",
    "        plst.append(p)\n",
    "        if p%2==0:\n",
    "            elst.append(p)\n",
    "        else:\n",
    "            pass\n",
    "    else:\n",
    "        break\n",
    "elst.append(2)\n",
    "print(elst)\n",
    "c=0\n",
    "for i in elst:\n",
    "    c=c+i\n",
    "print(c)"
   ]
  },
  {
   "cell_type": "code",
   "execution_count": 17,
   "metadata": {},
   "outputs": [
    {
     "name": "stdout",
     "output_type": "stream",
     "text": [
      "400만보다 작은 짝수의 합:  4613732\n"
     ]
    }
   ],
   "source": [
    "# 코딩도장에 올라온 답\n",
    "\n",
    "fib=[1,2]\n",
    "\n",
    "while fib[-1]<4000000:\n",
    "    fib.append(fib[-1]+fib[-2])\n",
    "\n",
    "evenfib=[x for x in fib if x%2==0]\n",
    "print('400만보다 작은 짝수의 합: ', sum(evenfib))"
   ]
  },
  {
   "cell_type": "markdown",
   "metadata": {},
   "source": [
    "## 100까지의 자연수의 합의 제곱과 제곱의 합의 차이\n",
    "\n",
    "1부터 10까지 자연수를 각각 제곱해 더하면 다음과 같습니다 (제곱의 합). 1^2 + 2^2 + ... + 10^2 = 385 1부터 10을 먼저 더한 다음에 그 결과를 제곱하면 다음과 같습니다 (합의 제곱). (1 + 2 + ... + 10)^2 = 55^2 = 3025 따라서 1부터 10까지 자연수에 대해 \"합의 제곱\"과 \"제곱의 합\" 의 차이는 3025 - 385 = 2640 이 됩니다. 그러면 1부터 100까지 자연수에 대해 \"합의 제곱\"과 \"제곱의 합\"의 차이는 얼마입니까?"
   ]
  },
  {
   "cell_type": "code",
   "execution_count": 23,
   "metadata": {},
   "outputs": [
    {
     "name": "stdout",
     "output_type": "stream",
     "text": [
      "합의 제곱: 3025\n",
      "제곱의 합: 385\n",
      "차이: 2640\n"
     ]
    }
   ],
   "source": [
    "ssq=0\n",
    "sqs=0\n",
    "s=0\n",
    "for i in range(1,11):\n",
    "    ssq=ssq+i**2\n",
    "    s=s+i\n",
    "    sqs=s**2\n",
    "print('합의 제곱:' , sqs)\n",
    "print('제곱의 합:' , ssq)\n",
    "print('차이:', sqs-ssq)"
   ]
  }
 ],
 "metadata": {
  "kernelspec": {
   "display_name": "Python 3",
   "language": "python",
   "name": "python3"
  },
  "language_info": {
   "codemirror_mode": {
    "name": "ipython",
    "version": 3
   },
   "file_extension": ".py",
   "mimetype": "text/x-python",
   "name": "python",
   "nbconvert_exporter": "python",
   "pygments_lexer": "ipython3",
   "version": "3.7.3"
  }
 },
 "nbformat": 4,
 "nbformat_minor": 2
}
