{
 "cells": [
  {
   "cell_type": "markdown",
   "metadata": {},
   "source": [
    "# 코딩도장\n",
    "\n",
    "## 3이 나타나는 시간을 전부 합하면?\n",
    "디지털 시계에 하루동안(00:00~23:59) 3이 표시되는 시간을 초로 환산하면 총 몇 초(second) 일까요?\n",
    "\n",
    "디지털 시계는 하루동안 다음과 같이 시:분(00:00~23:59)으로 표시됩니다.\n",
    "\n",
    "00:00 (60초간 표시됨)  \n",
    "00:01   \n",
    "00:02     \n",
    "...   \n",
    "23:59   "
   ]
  },
  {
   "cell_type": "code",
   "execution_count": 29,
   "metadata": {},
   "outputs": [
    {
     "name": "stdout",
     "output_type": "stream",
     "text": [
      "29700\n"
     ]
    }
   ],
   "source": [
    "hours=list(range(0,24))\n",
    "minutes=list(range(0,60))\n",
    "\n",
    "ch=0\n",
    "cm=0\n",
    "for h in hours:\n",
    "    sh=str(h)\n",
    "    if '3' in sh:\n",
    "        ch=ch+(60*60)\n",
    "    if '3' not in sh:\n",
    "        for m in minutes:\n",
    "            sm=str(m)\n",
    "            if '3' in sm:\n",
    "                cm=cm+60\n",
    "print(ch+cm)"
   ]
  },
  {
   "cell_type": "markdown",
   "metadata": {},
   "source": [
    "## 메모리공간을 동적으로 사용하여 데이터 관리하기\n",
    "\n",
    "\n",
    "### 프로그램 실행 순서   \n",
    "\n",
    "1. 입력할 정수의 개수를 사용자로부터 입력 받는다.   \n",
    "2. 입력받은 정수의 개수만큼 정수를 입력받는다.   \n",
    "3. 입력받은 정수의 합과 평균 값을 출력한다.   \n",
    "4. 할당된 메모리공간을 비운다.   \n",
    "\n",
    "### 요구사항\n",
    "\n",
    "1. 메모리공간은 사용자의 입력 수의 따라 변동된다.   \n",
    "2. 사용한 공간은 마지막에 비워야 한다.   \n",
    "3. 배열을 사용하면 안된다.   "
   ]
  },
  {
   "cell_type": "code",
   "execution_count": 37,
   "metadata": {},
   "outputs": [
    {
     "name": "stdout",
     "output_type": "stream",
     "text": [
      "입력할 정수의 개수:2\n",
      "정수입력: 2\n",
      "정수입력: 2\n",
      "합: 4 평균: 2.0\n"
     ]
    }
   ],
   "source": [
    "num=input('입력할 정수의 개수:')\n",
    "inum=int(num)\n",
    "\n",
    "s=0\n",
    "\n",
    "for i in range(0,inum):\n",
    "    nn=int(input('정수입력: '))\n",
    "    s=s+nn\n",
    "print('합:',s,'평균:',s/inum)\n",
    "    \n",
    "del num, s,i    \n",
    "    "
   ]
  }
 ],
 "metadata": {
  "kernelspec": {
   "display_name": "Python 3",
   "language": "python",
   "name": "python3"
  },
  "language_info": {
   "codemirror_mode": {
    "name": "ipython",
    "version": 3
   },
   "file_extension": ".py",
   "mimetype": "text/x-python",
   "name": "python",
   "nbconvert_exporter": "python",
   "pygments_lexer": "ipython3",
   "version": "3.7.3"
  }
 },
 "nbformat": 4,
 "nbformat_minor": 2
}
