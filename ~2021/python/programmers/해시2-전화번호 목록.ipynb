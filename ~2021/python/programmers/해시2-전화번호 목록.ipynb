{
 "cells": [
  {
   "cell_type": "markdown",
   "metadata": {},
   "source": [
    "## 전화번호 목록"
   ]
  },
  {
   "cell_type": "markdown",
   "metadata": {},
   "source": [
    "문제 설명    \n",
    "\n",
    "전화번호부에 적힌 전화번호 중, 한 번호가 다른 번호의 접두어인 경우가 있는지 확인하려 합니다.   \n",
    "전화번호가 다음과 같을 경우, 구조대 전화번호는 영석이의 전화번호의 접두사입니다.\n",
    "\n",
    "    구조대 : 119 \n",
    "    박준영 : 97 674 223    \n",
    "    지영석 : 11 9552 4421    \n",
    "    \n",
    "전화번호부에 적힌 전화번호를 담은 배열 phone_book 이 solution 함수의 매개변수로 주어질 때, 어떤 번호가 다른 번호의 접두어인 경우가 있으면 false를 그렇지 않으면 true를 return 하도록 solution 함수를 작성해주세요.\n",
    "\n",
    "제한 사항  \n",
    "phone_book의 길이는 1 이상 1,000,000 이하입니다.  \n",
    "각 전화번호의 길이는 1 이상 20 이하입니다.  \n",
    "\n",
    "입출력 예제  \n",
    "\n",
    "|phone_book|\treturn|\n",
    "|-|-|\n",
    "|[\"119\", \"97674223\", \"1195524421\"]|\tfalse|\n",
    "|[\"123\",\"456\",\"789\"]\t|true|\n",
    "|[\"12\",\"123\",\"1235\",\"567\",\"88\"]|\tfalse|\n",
    "\n",
    "입출력 예 설명  \n",
    "입출력 예 #1  \n",
    "앞에서 설명한 예와 같습니다.  \n",
    "\n",
    "입출력 예 #2  \n",
    "한 번호가 다른 번호의 접두사인 경우가 없으므로, 답은 true입니다.  \n",
    "\n",
    "입출력 예 #3  \n",
    "첫 번째 전화번호, “12”가 두 번째 전화번호 “123”의 접두사입니다. 따라서 답은 false입니다."
   ]
  },
  {
   "cell_type": "markdown",
   "metadata": {},
   "source": [
    "### 풀이"
   ]
  },
  {
   "cell_type": "markdown",
   "metadata": {},
   "source": [
    "결국 다른 사람 코드르 보고 따라하였다..   \n",
    "1. 먼저 딕셔너리에 phone_book을 넣어준다. (value 값은 뭐라도 상관 없는 것 같다.)   \n",
    "2. phone_book(list)에 있는 전화번호들을 for문에 돌려준다.   \n",
    "3. temp=\"\"라는 값을 통해 dic에 있는 key 값과 비교할 것이다.  \n",
    "4. phone_book 안에 있는 각각의 전화번호를 또 for문에 돌린다.   \n",
    "5. 각 전화번호의 숫자 하나를 temp에 넣는다.  \n",
    "6. 만약에 temp가 dic의 key로 있고 temp가 number와 같지 않다면 answer은 False로 뽑는다. 만약 tmep가 number와 같다면 다음 전화번호로 넘어간다.   \n",
    "\n",
    "print(temp), print(answer)을 통해 코드가 돌아가는 과정을 볼 수 있었다."
   ]
  },
  {
   "cell_type": "code",
   "execution_count": 19,
   "metadata": {},
   "outputs": [],
   "source": [
    "phone_book=['119','97674223', '1195524421']"
   ]
  },
  {
   "cell_type": "code",
   "execution_count": 30,
   "metadata": {},
   "outputs": [
    {
     "name": "stdout",
     "output_type": "stream",
     "text": [
      "1\n",
      "11\n",
      "119\n",
      "9\n",
      "97\n",
      "976\n",
      "9767\n",
      "97674\n",
      "976742\n",
      "9767422\n",
      "97674223\n",
      "1\n",
      "11\n",
      "119\n",
      "False\n",
      "1195\n",
      "11955\n",
      "119552\n",
      "1195524\n",
      "11955244\n",
      "119552442\n",
      "1195524421\n"
     ]
    }
   ],
   "source": [
    "dic={}\n",
    "for i in phone_book:\n",
    "    dic[i]=len(i)\n",
    "for number in phone_book:\n",
    "    temp=\"\"\n",
    "    for num in number:\n",
    "        temp+=num\n",
    "        print(temp)\n",
    "        if temp in dic and temp != number:\n",
    "            answer=False    \n",
    "            print(answer)"
   ]
  },
  {
   "cell_type": "code",
   "execution_count": 31,
   "metadata": {},
   "outputs": [],
   "source": [
    "def solution(phone_book):\n",
    "    answer = True\n",
    "    dic={}\n",
    "    for i in phone_book:\n",
    "        dic[i]=len(i)\n",
    "    for number in phone_book:\n",
    "        temp=\"\"\n",
    "        for num in number:\n",
    "            temp+=num\n",
    "            if temp in dic and temp != number:\n",
    "                answer=False    \n",
    "    return answer"
   ]
  },
  {
   "cell_type": "markdown",
   "metadata": {},
   "source": [
    "## 많은 사람들의 풀이\n",
    "\n",
    "startswith는 인자값에 있는 문자열이 string에 있으면 true, 없으면 false를 반환한다."
   ]
  },
  {
   "cell_type": "code",
   "execution_count": 33,
   "metadata": {},
   "outputs": [
    {
     "name": "stdout",
     "output_type": "stream",
     "text": [
      "119 97674223\n",
      "97674223 1195524421\n"
     ]
    }
   ],
   "source": [
    "for p1, p2 in zip(phone_book, phone_book[1:]):\n",
    "    print(p1,p2)"
   ]
  },
  {
   "cell_type": "code",
   "execution_count": 32,
   "metadata": {},
   "outputs": [],
   "source": [
    "def solution(phoneBook):\n",
    "    phoneBook = sorted(phoneBook)\n",
    "\n",
    "    for p1, p2 in zip(phoneBook, phoneBook[1:]):\n",
    "        if p2.startswith(p1):\n",
    "            return False\n",
    "    return True"
   ]
  }
 ],
 "metadata": {
  "kernelspec": {
   "display_name": "Python 3",
   "language": "python",
   "name": "python3"
  },
  "language_info": {
   "codemirror_mode": {
    "name": "ipython",
    "version": 3
   },
   "file_extension": ".py",
   "mimetype": "text/x-python",
   "name": "python",
   "nbconvert_exporter": "python",
   "pygments_lexer": "ipython3",
   "version": "3.7.7"
  }
 },
 "nbformat": 4,
 "nbformat_minor": 4
}
