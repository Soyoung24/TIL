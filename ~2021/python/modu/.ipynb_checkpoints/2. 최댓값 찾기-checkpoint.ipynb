{
 "cells": [
  {
   "cell_type": "markdown",
   "metadata": {},
   "source": [
    "# 문제 2 최댓값 찾기\n",
    "주어진 숫자 n개 중 가장 큰 숫자를 찾는 알고리즘 만들기"
   ]
  },
  {
   "cell_type": "code",
   "execution_count": 16,
   "metadata": {},
   "outputs": [],
   "source": [
    "# 내가 만든 알고리즘\n",
    "\n",
    "def max_n(list_n):\n",
    "    max_list=[]\n",
    "    a=len(list_n)\n",
    "    for i in range(a):\n",
    "        if len(max_list)==0:\n",
    "            max_list.append(list_n[i])\n",
    "        elif max_list[0]<list_n[i]:\n",
    "            max_list.clear()\n",
    "            max_list.append(list_n[i])\n",
    "        else:\n",
    "            pass\n",
    "    return(max_list[0])\n",
    "    "
   ]
  },
  {
   "cell_type": "code",
   "execution_count": 18,
   "metadata": {},
   "outputs": [
    {
     "data": {
      "text/plain": [
       "92"
      ]
     },
     "execution_count": 18,
     "metadata": {},
     "output_type": "execute_result"
    }
   ],
   "source": [
    "max_n([17,92,18,33,58,7,33,42])"
   ]
  },
  {
   "cell_type": "code",
   "execution_count": 26,
   "metadata": {},
   "outputs": [],
   "source": [
    "# 책\n",
    "\n",
    "def find_max(a):\n",
    "    n=len(a)\n",
    "    max_v=a[0]             # 리스트의 첫번째 값을 최댓값으로 기억\n",
    "    for i in range(1,n):\n",
    "        if a[i] > max_v:   # 이번 값이 현재까지 기억된 최댓값보다 크면\n",
    "            max_v=a[i]     # 최댓값을 변경\n",
    "    return max_v"
   ]
  },
  {
   "cell_type": "code",
   "execution_count": 34,
   "metadata": {},
   "outputs": [
    {
     "name": "stdout",
     "output_type": "stream",
     "text": [
      "92\n"
     ]
    }
   ],
   "source": [
    "v=[17,92,18,33,58,7,33,42]\n",
    "print(find_max(v))"
   ]
  },
  {
   "cell_type": "markdown",
   "metadata": {},
   "source": [
    "### 응용문제\n",
    "리스트에 숫자가 n개 있을 때 가장 큰 값이 있는 위치 번호를 돌려주는 알고리즘을 만들어라"
   ]
  },
  {
   "cell_type": "code",
   "execution_count": 30,
   "metadata": {},
   "outputs": [],
   "source": [
    "#내가 짠거\n",
    "def find_index(a):\n",
    "    n=len(a)\n",
    "    max_v=a[0]\n",
    "    for i in range(1,n):\n",
    "        if a[i]>max_v:\n",
    "            max_v=a[i]\n",
    "    for j in range(0,n):\n",
    "        if a[j]==max_v:\n",
    "            print(j)"
   ]
  },
  {
   "cell_type": "code",
   "execution_count": 35,
   "metadata": {},
   "outputs": [
    {
     "name": "stdout",
     "output_type": "stream",
     "text": [
      "1\n"
     ]
    }
   ],
   "source": [
    "find_index(v)"
   ]
  },
  {
   "cell_type": "code",
   "execution_count": 36,
   "metadata": {},
   "outputs": [],
   "source": [
    "# 책\n",
    "def find_max_idx(a):\n",
    "    n=len(a)\n",
    "    max_idx=0\n",
    "    for i in range(1,n):\n",
    "        if a[i]>a[max_idx]:\n",
    "            max_idx=i\n",
    "    return max_idx"
   ]
  },
  {
   "cell_type": "code",
   "execution_count": 37,
   "metadata": {},
   "outputs": [
    {
     "name": "stdout",
     "output_type": "stream",
     "text": [
      "1\n"
     ]
    }
   ],
   "source": [
    "find_index(v)"
   ]
  },
  {
   "cell_type": "markdown",
   "metadata": {},
   "source": [
    "### 연습문제 2-1 \n",
    "숫자 n개를 리스트로 받아 최솟값을 구하는 프로그램을 만들어보세요."
   ]
  },
  {
   "cell_type": "code",
   "execution_count": 38,
   "metadata": {},
   "outputs": [],
   "source": [
    "def find_min(a):\n",
    "    n=len(a)\n",
    "    min_v=a[0]\n",
    "    for i in range(1,n):\n",
    "        if a[i]<min_v:\n",
    "            min_v=a[i]\n",
    "    return min_v"
   ]
  },
  {
   "cell_type": "code",
   "execution_count": 39,
   "metadata": {},
   "outputs": [
    {
     "data": {
      "text/plain": [
       "7"
      ]
     },
     "execution_count": 39,
     "metadata": {},
     "output_type": "execute_result"
    }
   ],
   "source": [
    "find_min(v)"
   ]
  }
 ],
 "metadata": {
  "kernelspec": {
   "display_name": "Python 3",
   "language": "python",
   "name": "python3"
  },
  "language_info": {
   "codemirror_mode": {
    "name": "ipython",
    "version": 3
   },
   "file_extension": ".py",
   "mimetype": "text/x-python",
   "name": "python",
   "nbconvert_exporter": "python",
   "pygments_lexer": "ipython3",
   "version": "3.7.7"
  }
 },
 "nbformat": 4,
 "nbformat_minor": 4
}
