{
 "cells": [
  {
   "cell_type": "markdown",
   "metadata": {},
   "source": [
    "# 문제 9\n",
    "리스트 안의 자료를 작은 수부터 큰 수 순서로 배열하는 정렬 알고리즘을 만들어 보세요.   \n",
    "문제 8과 같으나 삽입 정렬(Insertion sort)이라는 조금 다른 방법으로 문제를 풀겠다.  \n",
    "문제 풀기전에 줄 서기부터 시작  \n"
   ]
  },
  {
   "cell_type": "code",
   "execution_count": 2,
   "metadata": {},
   "outputs": [],
   "source": [
    "# 리스트 r에서 v가 들어가야 할 위치를 돌려주는 함수\n",
    "def find_ins_idx(r,v):\n",
    "    # 이미 정렬된 리스트 r의 자료를 앞에서부터 차례로 확인하여 \n",
    "    for i in range(0,len(r)):\n",
    "        if v<r[i]:\n",
    "            return i   # v보다 i번 위치에 있는 값이 더 크면 v가 그 값 바로 앞에 놓여야 정렬 순서가 유지됨  \n",
    "    return len(r)   # 적절한 위치 못찾으면 v가 r의 모든 값보다 크다는 뜻이므로 맨 뒤에 삽입\n",
    "\n",
    "def ins_sort(a):\n",
    "    result=[]\n",
    "    while a:   #a에 값이 있을 동안\n",
    "        value=a.pop(0)   #남은 자료 중에 맨 앞의 값을 뽑는다.\n",
    "        ins_idx=find_ins_idx(result, value)   # 그 값이 result의 어떤 위치에 들어가면 좋을지? 위의 함수 이용\n",
    "        result.insert(ins_idx, value)   # 찾은 위치에 값 삽입(이후 값은 한칸씩 밀려남)\n",
    "    return result"
   ]
  },
  {
   "cell_type": "code",
   "execution_count": 3,
   "metadata": {},
   "outputs": [
    {
     "data": {
      "text/plain": [
       "[1, 2, 3, 4, 5]"
      ]
     },
     "execution_count": 3,
     "metadata": {},
     "output_type": "execute_result"
    }
   ],
   "source": [
    "d=[2,4,1,3,5]\n",
    "ins_sort(d)"
   ]
  },
  {
   "cell_type": "code",
   "execution_count": 5,
   "metadata": {},
   "outputs": [
    {
     "data": {
      "text/plain": [
       "1"
      ]
     },
     "execution_count": 5,
     "metadata": {},
     "output_type": "execute_result"
    }
   ],
   "source": [
    "d=[1,2,3]\n",
    "value=d.pop(0)\n",
    "value"
   ]
  },
  {
   "cell_type": "code",
   "execution_count": 54,
   "metadata": {},
   "outputs": [],
   "source": [
    "def ins_sort(a):\n",
    "    n=len(a)\n",
    "    for i in range(1,n):\n",
    "        key=a[i]  # i번 위치의 값을 key에 저장\n",
    "        j=i-1     # j를 i 바로 왼쪽 위치로 저장\n",
    "        while j>=0 and a[j]>key:    # 리스트의 j번 위치에 있는 값과 key를 비교해 key가 삽입될 적절한 위치를 찾음\n",
    "            a[j+1]=a[j]    # 삽입할 공간이 생기도록 값을 오른쪽으로 한 칸 이동\n",
    "            j-=1\n",
    "        a[j+1]=key  # 찾은 삽입 위치에 key를 저장"
   ]
  },
  {
   "cell_type": "code",
   "execution_count": 55,
   "metadata": {},
   "outputs": [
    {
     "name": "stdout",
     "output_type": "stream",
     "text": [
      "[1, 2, 3, 4, 5]\n"
     ]
    }
   ],
   "source": [
    "d=[2,4,1,3,5]\n",
    "ins_sort(d)\n",
    "print(d)"
   ]
  },
  {
   "cell_type": "code",
   "execution_count": 52,
   "metadata": {},
   "outputs": [],
   "source": [
    "def ins_sort(a):\n",
    "    n=len(a)\n",
    "    for i in range(1,n):\n",
    "        key=a[i]  # i번 위치의 값을 key에 저장\n",
    "        j=i-1     # j를 i 바로 왼쪽 위치로 저장\n",
    "        while j>=0 and a[j]<key:    # 리스트의 j번 위치에 있는 값과 key를 비교해 key가 삽입될 적절한 위치를 찾음\n",
    "            a[j+1]=a[j]    # 삽입할 공간이 생기도록 값을 오른쪽으로 한 칸 이동\n",
    "            j-=1\n",
    "        a[j+1]=key  # 찾은 삽입 위치에 key를 저장"
   ]
  },
  {
   "cell_type": "code",
   "execution_count": 53,
   "metadata": {},
   "outputs": [
    {
     "name": "stdout",
     "output_type": "stream",
     "text": [
      "[5, 4, 3, 2, 1]\n"
     ]
    }
   ],
   "source": [
    "d=[2,4,1,3,5]\n",
    "ins_sort(d)\n",
    "print(d)"
   ]
  }
 ],
 "metadata": {
  "kernelspec": {
   "display_name": "Python 3",
   "language": "python",
   "name": "python3"
  },
  "language_info": {
   "codemirror_mode": {
    "name": "ipython",
    "version": 3
   },
   "file_extension": ".py",
   "mimetype": "text/x-python",
   "name": "python",
   "nbconvert_exporter": "python",
   "pygments_lexer": "ipython3",
   "version": "3.7.7"
  }
 },
 "nbformat": 4,
 "nbformat_minor": 4
}
