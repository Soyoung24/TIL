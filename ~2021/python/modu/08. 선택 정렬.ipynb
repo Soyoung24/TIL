{
 "cells": [
  {
   "cell_type": "markdown",
   "metadata": {},
   "source": [
    "# 문제 8\n",
    "주어진 리스트 안의 자료를 작은 수부터 큰 수 순서대로 배열하는 정렬 알고리즘을 만들어보세요."
   ]
  },
  {
   "cell_type": "code",
   "execution_count": 81,
   "metadata": {},
   "outputs": [],
   "source": [
    "# 나\n",
    "\n",
    "def find_min(a):\n",
    "    n=len(a)\n",
    "    min_v=a[0]\n",
    "    for i in range(1,n):\n",
    "        if a[i]<min_v:\n",
    "            min_v=a[i]\n",
    "    return min_v\n",
    "\n",
    "def sort_min_to_max(lst):\n",
    "    sort=[]\n",
    "    while True:\n",
    "        if len(lst)>0:\n",
    "            aa=find_min(lst)\n",
    "            sort.append(aa)\n",
    "            del lst[lst.index(aa)]\n",
    "        else:\n",
    "            break\n",
    "            \n",
    "    return sort"
   ]
  },
  {
   "cell_type": "code",
   "execution_count": 82,
   "metadata": {},
   "outputs": [],
   "source": [
    "v=[17,92,18,33,58,7,33,42]\n"
   ]
  },
  {
   "cell_type": "code",
   "execution_count": 83,
   "metadata": {},
   "outputs": [
    {
     "data": {
      "text/plain": [
       "[7, 17, 18, 33, 33, 42, 58, 92]"
      ]
     },
     "execution_count": 83,
     "metadata": {},
     "output_type": "execute_result"
    }
   ],
   "source": [
    "sort_min_to_max(v)"
   ]
  },
  {
   "cell_type": "markdown",
   "metadata": {},
   "source": [
    "### 쉽게 설명한 선택 정렬 알고리즘"
   ]
  },
  {
   "cell_type": "code",
   "execution_count": 101,
   "metadata": {},
   "outputs": [],
   "source": [
    "#책\n",
    "\n",
    "# min 인덱스를 찾는 함수\n",
    "def find_min_idx(a):\n",
    "    n=len(a)\n",
    "    min_idx=0\n",
    "    for i in range(1,n):\n",
    "        if a[i] < a[min_idx]:\n",
    "            min_idx=i\n",
    "    return min_idx\n",
    "\n",
    "def sel_sort(a):\n",
    "    result=[]\n",
    "    while a: # 주어진 리스트에 값이 남아 있는 동안 계속\n",
    "        min_idx=find_min_idx(a) # min 인덱스를 찾는 함수를 사용\n",
    "        value=a.pop(min_idx)   #찾은 최솟값을 빼내어 value에 저장\n",
    "        result.append(value)\n",
    "    return result"
   ]
  },
  {
   "cell_type": "code",
   "execution_count": 102,
   "metadata": {},
   "outputs": [
    {
     "name": "stdout",
     "output_type": "stream",
     "text": [
      "[1, 2, 3, 4, 5]\n"
     ]
    }
   ],
   "source": [
    "d=[2,4,5,1,3]\n",
    "print(sel_sort(d))"
   ]
  },
  {
   "cell_type": "markdown",
   "metadata": {},
   "source": [
    "### 일반적인 선택 정렬 알고리즘\n",
    "\n",
    "입력으로 주어진 리스트 a 안에서 직접 자료의 위치를 바꾸면서 정렬시키는 프로그램"
   ]
  },
  {
   "cell_type": "code",
   "execution_count": 122,
   "metadata": {},
   "outputs": [
    {
     "name": "stdout",
     "output_type": "stream",
     "text": [
      "[1, 2, 3, 4, 5]\n"
     ]
    }
   ],
   "source": [
    "def sel_sort(a):\n",
    "    n=len(a)\n",
    "    for i in range(0,n-1):    #0부터 n-2번까지 반복\n",
    "        # i번 위치부터 끝까지 자료 값 중 최솟값의 위치를 찾음\n",
    "        min_idx=i\n",
    "        for j in range(i+1,n):\n",
    "            if a[j]<a[min_idx]:\n",
    "                min_idx=j\n",
    "        a[i], a[min_idx]= a[min_idx], a[i]   # 찾은 최솟값을 i번 위치로\n",
    "d=[2,4,3,5,1]\n",
    "sel_sort(d)\n",
    "print(d)"
   ]
  },
  {
   "cell_type": "markdown",
   "metadata": {},
   "source": [
    "## 연습문제 8-2\n",
    "내림차순 정렬로 바꾸려면?"
   ]
  },
  {
   "cell_type": "code",
   "execution_count": 123,
   "metadata": {},
   "outputs": [],
   "source": [
    "def sel_sort(a):\n",
    "    n=len(a)\n",
    "    for i in range(0,n-1):    #0부터 n-2번까지 반복\n",
    "        # i번 위치부터 끝까지 자료 값 중 최솟값의 위치를 찾음\n",
    "        max_idx=i\n",
    "        for j in range(i+1,n):\n",
    "            if a[j]>a[max_idx]:\n",
    "                max_idx=j\n",
    "        a[i], a[max_idx]= a[max_idx], a[i]   # 찾은 최솟값을 i번 위치로\n"
   ]
  },
  {
   "cell_type": "code",
   "execution_count": 124,
   "metadata": {},
   "outputs": [
    {
     "name": "stdout",
     "output_type": "stream",
     "text": [
      "[5, 4, 3, 2, 1]\n"
     ]
    }
   ],
   "source": [
    "d=[2,4,3,5,1]\n",
    "sel_sort(d)\n",
    "print(d)"
   ]
  }
 ],
 "metadata": {
  "kernelspec": {
   "display_name": "Python 3",
   "language": "python",
   "name": "python3"
  },
  "language_info": {
   "codemirror_mode": {
    "name": "ipython",
    "version": 3
   },
   "file_extension": ".py",
   "mimetype": "text/x-python",
   "name": "python",
   "nbconvert_exporter": "python",
   "pygments_lexer": "ipython3",
   "version": "3.7.7"
  }
 },
 "nbformat": 4,
 "nbformat_minor": 4
}
