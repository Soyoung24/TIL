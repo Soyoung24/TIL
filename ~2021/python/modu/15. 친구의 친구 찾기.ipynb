{
 "cells": [
  {
   "cell_type": "markdown",
   "metadata": {},
   "source": [
    "# 문제 15\n",
    "친구 관계를 이용하여 어떤 한 사람이 직접 또는 간접으로 아는 모든 친구를 출력하는 알고리즘을 만들어 보세요.   "
   ]
  },
  {
   "cell_type": "markdown",
   "metadata": {},
   "source": [
    "### 파이썬으로 그래프 표현하기\n"
   ]
  },
  {
   "cell_type": "code",
   "execution_count": 2,
   "metadata": {},
   "outputs": [],
   "source": [
    "fr_info={\n",
    "    'Summer':['John','Justin','Mike'],\n",
    "    'John':['Summer', 'Justin'],\n",
    "    'Justin':['John', 'Summer','Mike','May'],\n",
    "    'Mike':['Summer', 'Justin'],\n",
    "    'May':['Justin','Kim'],\n",
    "    'Kim':['May'],\n",
    "    'Tom':['Jerry'],\n",
    "    'Jerry':['Tom']\n",
    "}"
   ]
  },
  {
   "cell_type": "markdown",
   "metadata": {},
   "source": [
    "주어진 친구 관계 그래프에서 Tom의 모든 친구를 출력하는 것은 매우 간단하다.   \n",
    "일단 Tom 자신을 출력한다. fr_info 딕셔너리의 키 Tom의 값에 Jerry가 있으므로 Jerry를 출력한다.   \n",
    "다시 Jerry의 친구를 찾아보니 Tom 한명 뿐이다. Tom은 이미 자기 자신을 출력했으니 알고리즘을 종료한다.   \n",
    "\n",
    "1. 앞으로 처리할 사람을 저장할 큐(qu)로 만든다.  \n",
    "2. 이미 큐에 추가한 사람을 저장할 집합(done)을 만든다.  \n",
    "3. 검색의 출발점이 될 사람을 큐(qu)와 집합(done)에 추가한다.  \n",
    "4. 큐에 사람이 남아있다면 큐에서 처리할 사람을 꺼낸다.  \n",
    "5. 꺼낸 사람을 출력한다.  \n",
    "6. 꺼낸 사람의 친구들 중 아직 큐(qu)에 추가된 적이 없는 사람을 골라 큐(qu)와 집합(done)에 추가한다.   \n",
    "7. 큐(qu)에 처리할 사람이 남아있다면 4번 과정부터 다시 반복한다. "
   ]
  },
  {
   "cell_type": "code",
   "execution_count": 8,
   "metadata": {},
   "outputs": [],
   "source": [
    "def friend(fr, start):\n",
    "    qu=[]\n",
    "    done=set()\n",
    "    \n",
    "    qu.append(start)\n",
    "    done.add(start)\n",
    "    \n",
    "    while qu:\n",
    "        p=qu.pop(0)\n",
    "        print(p)\n",
    "        for x in fr[p]:\n",
    "            if x not in done:\n",
    "                qu.append(x)\n",
    "                done.add(x)"
   ]
  },
  {
   "cell_type": "code",
   "execution_count": 9,
   "metadata": {},
   "outputs": [
    {
     "name": "stdout",
     "output_type": "stream",
     "text": [
      "Summer\n",
      "John\n",
      "Justin\n",
      "Mike\n",
      "May\n",
      "Kim\n"
     ]
    }
   ],
   "source": [
    "friend(fr_info, 'Summer')"
   ]
  },
  {
   "cell_type": "code",
   "execution_count": 5,
   "metadata": {},
   "outputs": [
    {
     "name": "stdout",
     "output_type": "stream",
     "text": [
      "Tom\n",
      "Jerry\n"
     ]
    }
   ],
   "source": [
    "friend(fr_info,\"Tom\")"
   ]
  },
  {
   "cell_type": "markdown",
   "metadata": {},
   "source": [
    "### 친밀도 계산 알고리즘\n",
    "A와 B가 친구이고 B와 C가 친구라고 가정해봅시다. (A-B-C)   \n",
    "A를 기준으로 B의 친밀도는 1, B를 기준으로 C의 친밀도는 1, A-C:2   \n",
    "\n",
    "\n",
    "어떤 사람의 친구들을 큐에 넣을 때 친밀도를 1씩 증가시키면 된다.  "
   ]
  },
  {
   "cell_type": "code",
   "execution_count": 12,
   "metadata": {},
   "outputs": [],
   "source": [
    "def friend(fr, start):\n",
    "    qu=[]\n",
    "    done=set()\n",
    "    \n",
    "    qu.append((start,0))\n",
    "    done.add(start)\n",
    "    \n",
    "    while qu:\n",
    "        (p,d)=qu.pop(0)\n",
    "        print(p,d)\n",
    "        for x in fr[p]:\n",
    "            if x not in done:\n",
    "                qu.append((x,d+1))\n",
    "                done.add(x)"
   ]
  },
  {
   "cell_type": "code",
   "execution_count": 13,
   "metadata": {},
   "outputs": [
    {
     "name": "stdout",
     "output_type": "stream",
     "text": [
      "Summer 0\n",
      "John 1\n",
      "Justin 1\n",
      "Mike 1\n",
      "May 2\n",
      "Kim 3\n"
     ]
    }
   ],
   "source": [
    "friend(fr_info, 'Summer')"
   ]
  },
  {
   "cell_type": "code",
   "execution_count": 14,
   "metadata": {},
   "outputs": [
    {
     "name": "stdout",
     "output_type": "stream",
     "text": [
      "Tom 0\n",
      "Jerry 1\n"
     ]
    }
   ],
   "source": [
    "friend(fr_info,\"Tom\")"
   ]
  },
  {
   "cell_type": "code",
   "execution_count": 20,
   "metadata": {},
   "outputs": [],
   "source": [
    "## 연습문제  \n",
    "def graph(g,start):\n",
    "    qu=[]\n",
    "    done=set()\n",
    "    \n",
    "    qu.append(start)\n",
    "    done.add(start)\n",
    "    \n",
    "    while qu:\n",
    "        p=qu.pop(0)\n",
    "        print(p)\n",
    "        for x in g[p]:\n",
    "            if x not in done:\n",
    "                qu.append(x)\n",
    "                done.add(x)"
   ]
  },
  {
   "cell_type": "code",
   "execution_count": 16,
   "metadata": {},
   "outputs": [],
   "source": [
    "g={\n",
    "    1:[2,3],\n",
    "    2:[1,4,5],\n",
    "    3: [1],\n",
    "    4:[2],\n",
    "    5:[2]\n",
    "}"
   ]
  },
  {
   "cell_type": "code",
   "execution_count": 21,
   "metadata": {},
   "outputs": [
    {
     "name": "stdout",
     "output_type": "stream",
     "text": [
      "1\n",
      "2\n",
      "3\n",
      "4\n",
      "5\n"
     ]
    }
   ],
   "source": [
    "graph(g,1)"
   ]
  }
 ],
 "metadata": {
  "kernelspec": {
   "display_name": "Python 3",
   "language": "python",
   "name": "python3"
  },
  "language_info": {
   "codemirror_mode": {
    "name": "ipython",
    "version": 3
   },
   "file_extension": ".py",
   "mimetype": "text/x-python",
   "name": "python",
   "nbconvert_exporter": "python",
   "pygments_lexer": "ipython3",
   "version": "3.7.7"
  }
 },
 "nbformat": 4,
 "nbformat_minor": 4
}
