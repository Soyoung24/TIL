{
 "cells": [
  {
   "cell_type": "markdown",
   "metadata": {},
   "source": [
    "# 문제 14\n",
    "n명의 사람 이름 중에 같은 이름을 찾아 집합으로 만들어 돌려주는 알고리즘을 만들어 보세요.\n",
    "\n",
    "딕셔너리라는 자료 구조를 이용해서 문제 풀기"
   ]
  },
  {
   "cell_type": "code",
   "execution_count": 10,
   "metadata": {},
   "outputs": [
    {
     "data": {
      "text/plain": [
       "13"
      ]
     },
     "execution_count": 10,
     "metadata": {},
     "output_type": "execute_result"
    }
   ],
   "source": [
    "## 딕셔너리 설명\n",
    "\n",
    "d={\"Justin\":13, \"John\":10, \"Mike\":9}\n",
    "d[\"Justin\"]"
   ]
  },
  {
   "cell_type": "code",
   "execution_count": 3,
   "metadata": {},
   "outputs": [
    {
     "data": {
      "text/plain": [
       "10"
      ]
     },
     "execution_count": 3,
     "metadata": {},
     "output_type": "execute_result"
    }
   ],
   "source": [
    "d[\"John\"]"
   ]
  },
  {
   "cell_type": "code",
   "execution_count": 5,
   "metadata": {},
   "outputs": [
    {
     "ename": "KeyError",
     "evalue": "'Summer'",
     "output_type": "error",
     "traceback": [
      "\u001b[0;31m---------------------------------------------------------------------------\u001b[0m",
      "\u001b[0;31mKeyError\u001b[0m                                  Traceback (most recent call last)",
      "\u001b[0;32m<ipython-input-5-30579b92f7c2>\u001b[0m in \u001b[0;36m<module>\u001b[0;34m\u001b[0m\n\u001b[0;32m----> 1\u001b[0;31m \u001b[0md\u001b[0m\u001b[0;34m[\u001b[0m\u001b[0;34m\"Summer\"\u001b[0m\u001b[0;34m]\u001b[0m\u001b[0;34m\u001b[0m\u001b[0;34m\u001b[0m\u001b[0m\n\u001b[0m",
      "\u001b[0;31mKeyError\u001b[0m: 'Summer'"
     ]
    }
   ],
   "source": [
    "d[\"Summer\"]"
   ]
  },
  {
   "cell_type": "code",
   "execution_count": 6,
   "metadata": {},
   "outputs": [],
   "source": [
    "d[\"Summer\"]=1"
   ]
  },
  {
   "cell_type": "code",
   "execution_count": 7,
   "metadata": {},
   "outputs": [
    {
     "data": {
      "text/plain": [
       "1"
      ]
     },
     "execution_count": 7,
     "metadata": {},
     "output_type": "execute_result"
    }
   ],
   "source": [
    "d[\"Summer\"]"
   ]
  },
  {
   "cell_type": "code",
   "execution_count": 8,
   "metadata": {},
   "outputs": [
    {
     "data": {
      "text/plain": [
       "{'Justin': 13, 'John': 10, 'Mike': 9, 'Summer': 1}"
      ]
     },
     "execution_count": 8,
     "metadata": {},
     "output_type": "execute_result"
    }
   ],
   "source": [
    "d"
   ]
  },
  {
   "cell_type": "code",
   "execution_count": 9,
   "metadata": {},
   "outputs": [],
   "source": [
    "# 빈 딕셔너리 만들기\n",
    "\n",
    "d={}\n",
    "# 또는\n",
    "d=dict()"
   ]
  },
  {
   "cell_type": "code",
   "execution_count": 12,
   "metadata": {},
   "outputs": [
    {
     "data": {
      "text/plain": [
       "True"
      ]
     },
     "execution_count": 12,
     "metadata": {},
     "output_type": "execute_result"
    }
   ],
   "source": [
    "\"John\" in d "
   ]
  },
  {
   "cell_type": "markdown",
   "metadata": {},
   "source": [
    "딕셔너리=   {\"이름1\": 이름 1이 등장한 횟수,\n",
    "    \"이름2\": 이름 2이 등장한 횟수,\n",
    "    \"이름3\": 이름 3이 등장한 횟수}\n",
    "\n",
    "[\"Tom\", \"Jerry\", \"Tom\"]이라고 하면   \n",
    "name_dict={\"Tom\":2, \"Jerry\":1} 이런식으로 바꿔주기   "
   ]
  },
  {
   "cell_type": "code",
   "execution_count": 17,
   "metadata": {},
   "outputs": [],
   "source": [
    "def same_name(a):\n",
    "    name_dict={}\n",
    "    for i in a:\n",
    "        if i not in name_dict:\n",
    "            name_dict[i]=1\n",
    "        else:\n",
    "            name_dict[i]+=1\n",
    "    return name_dict"
   ]
  },
  {
   "cell_type": "code",
   "execution_count": 18,
   "metadata": {},
   "outputs": [
    {
     "data": {
      "text/plain": [
       "{'Tom': 2, 'Jerry': 1}"
      ]
     },
     "execution_count": 18,
     "metadata": {},
     "output_type": "execute_result"
    }
   ],
   "source": [
    "name_info=[\"Tom\", \"Jerry\", \"Tom\"]\n",
    "same_name(name_info)"
   ]
  },
  {
   "cell_type": "code",
   "execution_count": 21,
   "metadata": {},
   "outputs": [],
   "source": [
    "# 책\n",
    "\n",
    "def same_name(a):\n",
    "    name_dict={}\n",
    "    for i in a:\n",
    "        if i not in name_dict:\n",
    "            name_dict[i]=1\n",
    "        else:\n",
    "            name_dict[i]+=1\n",
    "    result=[]\n",
    "    for name in name_dict:\n",
    "        if name_dict[name]>=2:\n",
    "            result.append(name)\n",
    "    return result"
   ]
  },
  {
   "cell_type": "code",
   "execution_count": 22,
   "metadata": {},
   "outputs": [
    {
     "data": {
      "text/plain": [
       "['Tom']"
      ]
     },
     "execution_count": 22,
     "metadata": {},
     "output_type": "execute_result"
    }
   ],
   "source": [
    "name_info=[\"Tom\", \"Jerry\", \"Tom\"]\n",
    "same_name(name_info)"
   ]
  },
  {
   "cell_type": "markdown",
   "metadata": {},
   "source": [
    "## 연습문제 14-1  \n",
    "학생 번호로 학생 이름을 찾는 문제를 딕셔너리를 이용해 풀어주세요.   \n",
    "학생 번호와 이름이 주어져 있을 때, 학생 번호를 입력하면 학생 이름을 돌려주고, 학생 번호가 없으면 물음표를 돌려줘야한다."
   ]
  },
  {
   "cell_type": "code",
   "execution_count": 31,
   "metadata": {},
   "outputs": [],
   "source": [
    "def find_name(a, x):\n",
    "    for i in a:\n",
    "        if i==x:\n",
    "            return a[i]\n",
    "        else:\n",
    "            return \"?\""
   ]
  },
  {
   "cell_type": "code",
   "execution_count": 32,
   "metadata": {},
   "outputs": [
    {
     "data": {
      "text/plain": [
       "'Justin'"
      ]
     },
     "execution_count": 32,
     "metadata": {},
     "output_type": "execute_result"
    }
   ],
   "source": [
    "a={39:\"Justin\", 14: \"John\", 67:\"Mike\", 105: \"Summer\"}\n",
    "find_name(a,39)"
   ]
  },
  {
   "cell_type": "code",
   "execution_count": 33,
   "metadata": {},
   "outputs": [],
   "source": [
    "#책 \n",
    "\n",
    "def get_name(s_info, find_no):\n",
    "    if find_no in s_info:\n",
    "        return s_info[find_no]\n",
    "    else:\n",
    "        return \"?\""
   ]
  },
  {
   "cell_type": "code",
   "execution_count": 34,
   "metadata": {},
   "outputs": [
    {
     "data": {
      "text/plain": [
       "'Justin'"
      ]
     },
     "execution_count": 34,
     "metadata": {},
     "output_type": "execute_result"
    }
   ],
   "source": [
    "a={39:\"Justin\", 14: \"John\", 67:\"Mike\", 105: \"Summer\"}\n",
    "get_name(a, 39)"
   ]
  }
 ],
 "metadata": {
  "kernelspec": {
   "display_name": "Python 3",
   "language": "python",
   "name": "python3"
  },
  "language_info": {
   "codemirror_mode": {
    "name": "ipython",
    "version": 3
   },
   "file_extension": ".py",
   "mimetype": "text/x-python",
   "name": "python",
   "nbconvert_exporter": "python",
   "pygments_lexer": "ipython3",
   "version": "3.7.7"
  }
 },
 "nbformat": 4,
 "nbformat_minor": 4
}
