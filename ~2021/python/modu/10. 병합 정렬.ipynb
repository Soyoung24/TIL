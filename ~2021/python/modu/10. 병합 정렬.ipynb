{
 "cells": [
  {
   "cell_type": "markdown",
   "metadata": {},
   "source": [
    "# 문제 10\n",
    "리스트 안의 자료를 작은 수부터 큰 수 순서로 배열하는 정렬 알고리즘을 만들어 보세요."
   ]
  },
  {
   "cell_type": "markdown",
   "metadata": {},
   "source": [
    "### 쉽게 설명한 병합 정렬 알고리즘"
   ]
  },
  {
   "cell_type": "code",
   "execution_count": 5,
   "metadata": {},
   "outputs": [],
   "source": [
    "def merge_sort(a):\n",
    "    n=len(a)\n",
    "    # 종료조건: 정렬할 리스트의 자료 개수가 한 개 이하이면 정렬할 필요 없음\n",
    "    if n<=1:\n",
    "        return a\n",
    "    # 그룹을 나누어 각각 병합 정렬을 호출하는 과정\n",
    "    mid=n//2\n",
    "    g1=merge_sort(a[:mid]) # 재귀호출로 첫번째 그룹 정렬\n",
    "    g2=merge_sort(a[mid:]) # 재귀호출로 두번째 그룹 정렬\n",
    "    # 두 그룹을 하나로 병합\n",
    "    result=[]  # 두 그룹을 합쳐 만들 최종 결과\n",
    "    while g1 and g2:  # 두 그룹에 모든 자료가 남아있을 동안 반복\n",
    "        if g1[0]<g2[0]: # 두 그룹의 맨 앞 자료 값을 비교\n",
    "            # g1값이 더 작으면 그 값을 빼서 결과로 추가\n",
    "            result.append(g1.pop(0))\n",
    "        else:\n",
    "            result.append(g2.pop(0))\n",
    "    # 둘중에 하나만 비워진 경우 밑에꺼 진행\n",
    "    # g1과 g2 중 이미 빈 것은 while을 바로 지나감\n",
    "    while g1:\n",
    "        result.append(g1.pop(0))   # g1이 남아있으면 g1에 남아있는거 하나씩 빼서 결과로 추가\n",
    "    while g2:\n",
    "        result.append(g2.pop(0))\n",
    "    return result"
   ]
  },
  {
   "cell_type": "code",
   "execution_count": 6,
   "metadata": {},
   "outputs": [
    {
     "data": {
      "text/plain": [
       "[1, 2, 3, 4, 5, 6, 7, 8, 9, 10]"
      ]
     },
     "execution_count": 6,
     "metadata": {},
     "output_type": "execute_result"
    }
   ],
   "source": [
    "d=[6,8,3,9,10,1,2,4,7,5]\n",
    "merge_sort(d)"
   ]
  },
  {
   "cell_type": "markdown",
   "metadata": {},
   "source": [
    "### 일반적인 병합 정렬 알고리즘\n",
    "return 값이 없고 입력 리스트 안의 자료 순서를 직접 바꾼다는 차이가 있다."
   ]
  },
  {
   "cell_type": "code",
   "execution_count": 7,
   "metadata": {},
   "outputs": [],
   "source": [
    "def merge_sort(a):\n",
    "    n=len(a)\n",
    "    if n<=1:\n",
    "        return\n",
    "    mid=n//2\n",
    "    g1=a[:mid]\n",
    "    g2=a[mid:]\n",
    "    merge_sort(g1) # 재귀호출로 첫 번째 그룹 정렬\n",
    "    merge_sort(g2) # 재귀호출로 두 번째 그룹 정렬\n",
    "    # 두 그룹을 하나로 병합\n",
    "    i1=0\n",
    "    i2=0\n",
    "    ia=0\n",
    "    while i1<len(g1) and i2<len(g2):\n",
    "        if g1[i1]<g2[i2]:\n",
    "            a[ia]=g1[i1]\n",
    "            i1+=1\n",
    "            ia+=1\n",
    "        else:\n",
    "            a[ia]=g2[i2]\n",
    "            i2+=1\n",
    "            ia+=1\n",
    "    # 아직 남아있는 자료들 결과에 추가\n",
    "    while i1<len(g1):\n",
    "        a[ia]=g1[i1]\n",
    "        i1+=1\n",
    "        ia+=1\n",
    "    while i2<len(g2):\n",
    "        a[ia]=g2[i2]\n",
    "        i2+=1\n",
    "        ia+=1\n",
    "        "
   ]
  },
  {
   "cell_type": "code",
   "execution_count": 8,
   "metadata": {},
   "outputs": [
    {
     "name": "stdout",
     "output_type": "stream",
     "text": [
      "[1, 2, 3, 4, 5, 6, 7, 8, 9, 10]\n"
     ]
    }
   ],
   "source": [
    "d=d=[6,8,3,9,10,1,2,4,7,5]\n",
    "merge_sort(d)\n",
    "print(d)"
   ]
  },
  {
   "cell_type": "markdown",
   "metadata": {},
   "source": [
    "### 큰 수에서 작은 수 순서"
   ]
  },
  {
   "cell_type": "code",
   "execution_count": 20,
   "metadata": {},
   "outputs": [],
   "source": [
    "def merge_sort(a):\n",
    "    n=len(a)\n",
    "    if n<=1:\n",
    "        return\n",
    "    mid=n//2\n",
    "    g1=a[:mid]\n",
    "    g2=a[mid:]\n",
    "    merge_sort(g1) # 재귀호출로 첫 번째 그룹 정렬\n",
    "    merge_sort(g2) # 재귀호출로 두 번째 그룹 정렬\n",
    "    # 두 그룹을 하나로 병합\n",
    "    i1=0\n",
    "    i2=0\n",
    "    ia=0\n",
    "    while i1<len(g1) and i2<len(g2):\n",
    "        if g1[i1]>g2[i2]:\n",
    "            a[ia]=g1[i1]\n",
    "            i1+=1\n",
    "            ia+=1\n",
    "        else:\n",
    "            a[ia]=g2[i2]\n",
    "            i2+=1\n",
    "            ia+=1\n",
    "    # 아직 남아있는 자료들 결과에 추가\n",
    "    while i1<len(g1):\n",
    "        a[ia]=g1[i1]\n",
    "        i1+=1\n",
    "        ia+=1\n",
    "    while i2<len(g2):\n",
    "        a[ia]=g2[i2]\n",
    "        i2+=1\n",
    "        ia+=1\n",
    "        "
   ]
  },
  {
   "cell_type": "code",
   "execution_count": 21,
   "metadata": {},
   "outputs": [
    {
     "name": "stdout",
     "output_type": "stream",
     "text": [
      "[10, 9, 8, 7, 6, 5, 4, 3, 2, 1]\n"
     ]
    }
   ],
   "source": [
    "d=[6,8,3,9,10,1,2,4,7,5]\n",
    "merge_sort(d)\n",
    "print(d)"
   ]
  }
 ],
 "metadata": {
  "kernelspec": {
   "display_name": "Python 3",
   "language": "python",
   "name": "python3"
  },
  "language_info": {
   "codemirror_mode": {
    "name": "ipython",
    "version": 3
   },
   "file_extension": ".py",
   "mimetype": "text/x-python",
   "name": "python",
   "nbconvert_exporter": "python",
   "pygments_lexer": "ipython3",
   "version": "3.7.4"
  }
 },
 "nbformat": 4,
 "nbformat_minor": 2
}
