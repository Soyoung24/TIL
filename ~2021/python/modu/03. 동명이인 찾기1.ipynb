{
 "cells": [
  {
   "cell_type": "markdown",
   "metadata": {},
   "source": [
    "# 문제3 동명이인 찾기1\n",
    "n명의 사람 이름 중에서 같은 이름을 찾아 집합으로 만들어 돌려주는 알고리즘을 만들어보세요."
   ]
  },
  {
   "cell_type": "markdown",
   "metadata": {},
   "source": [
    "### 집합(set) 사용법"
   ]
  },
  {
   "cell_type": "code",
   "execution_count": 1,
   "metadata": {},
   "outputs": [
    {
     "data": {
      "text/plain": [
       "{1, 2}"
      ]
     },
     "execution_count": 1,
     "metadata": {},
     "output_type": "execute_result"
    }
   ],
   "source": [
    "s=set()\n",
    "s.add(1)\n",
    "s.add(2)\n",
    "s.add(2) # 이미 2가 집합에 있으므로 중복해서 들어가지않는다.\n",
    "s"
   ]
  },
  {
   "cell_type": "code",
   "execution_count": 13,
   "metadata": {},
   "outputs": [],
   "source": [
    "# 내가 푼 것\n",
    "\n",
    "def make_name_set(l):\n",
    "    same=[]\n",
    "    nlst=[]\n",
    "    for i in l:\n",
    "        if i in nlst:\n",
    "            same.append(i)\n",
    "        else:\n",
    "            nlst.append(i)\n",
    "        name_set=set(same)\n",
    "    return name_set"
   ]
  },
  {
   "cell_type": "code",
   "execution_count": 19,
   "metadata": {},
   "outputs": [],
   "source": [
    "name_list=['Tom', \"Jerry\", \"Mike\", \"Tom\"]"
   ]
  },
  {
   "cell_type": "code",
   "execution_count": 20,
   "metadata": {},
   "outputs": [
    {
     "data": {
      "text/plain": [
       "{'Tom'}"
      ]
     },
     "execution_count": 20,
     "metadata": {},
     "output_type": "execute_result"
    }
   ],
   "source": [
    "make_name_set(name_list)"
   ]
  },
  {
   "cell_type": "code",
   "execution_count": 23,
   "metadata": {},
   "outputs": [],
   "source": [
    "# 책\n",
    "\n",
    "def find_same_name(a):\n",
    "    n=len(a)\n",
    "    result=set()\n",
    "    for i in range(0, n-1):        # 0부터 n-2까지 반복\n",
    "        for j in range(i+1, n):     # i+1부터 n-1까지 반복\n",
    "            if a[i]==a[j]:          # 이름이 같으면\n",
    "                result.add(a[i])    # 찾은 이름을 result에 추가\n",
    "    return result"
   ]
  },
  {
   "cell_type": "code",
   "execution_count": 24,
   "metadata": {},
   "outputs": [
    {
     "data": {
      "text/plain": [
       "{'Tom'}"
      ]
     },
     "execution_count": 24,
     "metadata": {},
     "output_type": "execute_result"
    }
   ],
   "source": [
    "find_same_name(name_list)"
   ]
  },
  {
   "cell_type": "markdown",
   "metadata": {},
   "source": [
    "#### 중첩된 반복문\n",
    "첫 번째 반복문 for i in range(0,n-1): 은 i를 0부터 n-2까지 반복한다는 뜻이다. 리스트의 마지막 값에 해당하는 a[n-1]은 이미 앞에서 다른 자료와 한번씩 다 비교했으므로 제외해도 된다.   \n",
    "두번째 반복문 for j in range(i+1, n): 은 비교 기준으로 정해진 i번째 위치에 1을 더한 위치의 값부터 끝까지 비교하는 것"
   ]
  },
  {
   "cell_type": "markdown",
   "metadata": {},
   "source": [
    "## 연습문제\n",
    "n명 중 두 명을 뽑아 짝을 짓는다고 할 때 짝을 지을 수 있는 모든 조합을 출력하는 알고리즘을 만들어 보세요."
   ]
  },
  {
   "cell_type": "code",
   "execution_count": 26,
   "metadata": {},
   "outputs": [],
   "source": [
    "def find_c(a):\n",
    "    n=len(a)\n",
    "    result=set()\n",
    "    for i in range(0,n-1):\n",
    "        for j in range(i+1,n):\n",
    "            result.add(a[i]+'-'+a[j])\n",
    "    return result"
   ]
  },
  {
   "cell_type": "code",
   "execution_count": 27,
   "metadata": {},
   "outputs": [
    {
     "data": {
      "text/plain": [
       "{'Jerry-Mike', 'Tom-Jerry', 'Tom-Mike'}"
      ]
     },
     "execution_count": 27,
     "metadata": {},
     "output_type": "execute_result"
    }
   ],
   "source": [
    "name_list=['Tom', \"Jerry\", \"Mike\"]\n",
    "find_c(name_list)"
   ]
  },
  {
   "cell_type": "code",
   "execution_count": 28,
   "metadata": {},
   "outputs": [],
   "source": [
    "# 책\n",
    "def print_pairs(a):\n",
    "    n = len(a)  # 리스트의 자료 개수를 n에 저장\n",
    "    for i in range(0, n - 1):      # 0부터 n-2까지 반복\n",
    "        for j in range(i + 1, n):  # i+1부터 n-1까지 반복\n",
    "            print(a[i], \"-\", a[j])"
   ]
  }
 ],
 "metadata": {
  "kernelspec": {
   "display_name": "Python 3",
   "language": "python",
   "name": "python3"
  },
  "language_info": {
   "codemirror_mode": {
    "name": "ipython",
    "version": 3
   },
   "file_extension": ".py",
   "mimetype": "text/x-python",
   "name": "python",
   "nbconvert_exporter": "python",
   "pygments_lexer": "ipython3",
   "version": "3.7.6"
  }
 },
 "nbformat": 4,
 "nbformat_minor": 4
}
