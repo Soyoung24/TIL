{
 "cells": [
  {
   "cell_type": "markdown",
   "metadata": {},
   "source": [
    "# 문제 12\n",
    "자료가 크기 순서대로 정렬된 리스트에서 특정한 값이 있는지 찾아 그 위치를 돌려주는 알고리즘을 만들어 보세요.   \n",
    "리스트에 찾는 값이 없으면 -1을 돌려줍니다."
   ]
  },
  {
   "cell_type": "code",
   "execution_count": 1,
   "metadata": {},
   "outputs": [],
   "source": [
    "lst=[1,2,3,4,5,6,7,8,9,11,32,45,67,68]"
   ]
  },
  {
   "cell_type": "code",
   "execution_count": 7,
   "metadata": {},
   "outputs": [],
   "source": [
    "def search_list(a,x):\n",
    "    flst=-1\n",
    "    n=len(a)\n",
    "    for i in range(0,n):\n",
    "        if x==a[i]:\n",
    "            flst=i\n",
    "    return flst"
   ]
  },
  {
   "cell_type": "code",
   "execution_count": 9,
   "metadata": {},
   "outputs": [
    {
     "name": "stdout",
     "output_type": "stream",
     "text": [
      "-1\n"
     ]
    }
   ],
   "source": [
    "print(search_list(lst, 345))"
   ]
  },
  {
   "cell_type": "code",
   "execution_count": 29,
   "metadata": {},
   "outputs": [],
   "source": [
    "# 책에 있는 알고리즘대로 내가 해보기\n",
    "\n",
    "def search_list_order(a,x):\n",
    "    flst=-1\n",
    "    m=len(a)//2\n",
    "    g1=a[:m]\n",
    "    g2=a[m:]\n",
    "    n1=len(g1)\n",
    "    n2=len(g2)\n",
    "    if x<=m:\n",
    "        for i in range(0,n1):\n",
    "            if x==g1[i]:\n",
    "                flst=i\n",
    "    else:\n",
    "        for j in range(0,n2):\n",
    "            if x==g2[j]:\n",
    "                flst=n1+j\n",
    "    return flst"
   ]
  },
  {
   "cell_type": "code",
   "execution_count": 36,
   "metadata": {},
   "outputs": [
    {
     "name": "stdout",
     "output_type": "stream",
     "text": [
      "2\n",
      "10\n",
      "-1\n",
      "6\n"
     ]
    }
   ],
   "source": [
    "print(search_list_order(lst, 3))\n",
    "print(search_list_order(lst, 32))\n",
    "print(search_list_order(lst, 33))\n",
    "print(search_list_order(lst, 7))"
   ]
  },
  {
   "cell_type": "code",
   "execution_count": 37,
   "metadata": {},
   "outputs": [],
   "source": [
    "# 책에 있는 방법\n",
    "\n",
    "def binary_search(a,x):\n",
    "    start=0\n",
    "    end=len(a)-1\n",
    "    \n",
    "    while start<=end:\n",
    "        mid=(start+end)//2\n",
    "        if x==a[mid]:\n",
    "            return mid\n",
    "        elif x>a[mid]:\n",
    "            start=mid+1\n",
    "        else:\n",
    "            end=mid-1\n",
    "    return -1"
   ]
  },
  {
   "cell_type": "code",
   "execution_count": 39,
   "metadata": {},
   "outputs": [
    {
     "name": "stdout",
     "output_type": "stream",
     "text": [
      "2\n",
      "10\n",
      "-1\n",
      "6\n"
     ]
    }
   ],
   "source": [
    "print(binary_search(lst,3))\n",
    "print(binary_search(lst,32))\n",
    "print(binary_search(lst,33))\n",
    "print(binary_search(lst,7))"
   ]
  }
 ],
 "metadata": {
  "kernelspec": {
   "display_name": "Python 3",
   "language": "python",
   "name": "python3"
  },
  "language_info": {
   "codemirror_mode": {
    "name": "ipython",
    "version": 3
   },
   "file_extension": ".py",
   "mimetype": "text/x-python",
   "name": "python",
   "nbconvert_exporter": "python",
   "pygments_lexer": "ipython3",
   "version": "3.7.9"
  }
 },
 "nbformat": 4,
 "nbformat_minor": 4
}
