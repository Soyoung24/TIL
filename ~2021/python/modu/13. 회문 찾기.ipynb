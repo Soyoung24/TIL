{
 "cells": [
  {
   "cell_type": "markdown",
   "metadata": {},
   "source": [
    "# 문제 13\n",
    "문자열이 회문인지 아닌지 판단하여 회문이면 True, 아니면 False를 결과로 알려주는 알고리즘을 만들어 보세요.   \n",
    "회문: 순서대로 읽어도 거꾸로 읽어도 그 내용이 같은 낱말이나 문장을 뜻한다.   \n",
    "ex) 역삼역, 기러기, 일요일, mom. wow, noon   \n",
    "공백, 문장, 기호 무시  \n",
    "\n",
    "**큐와 스택을 먼저 알아보자**"
   ]
  },
  {
   "cell_type": "markdown",
   "metadata": {},
   "source": [
    "### 큐(queue)  \n",
    "줄서기  \n",
    "택시를 타기위해 줄을 서는 과정과 비슷  \n",
    "새로 택시 정류장에 도착한 사람은 맨 뒤로 가서 줄을 서고 택시가 도착하면 그 줄의 맨 앞에 선 사람이 줄을 빠져나가 택시를 탄다.   \n",
    "(First in First out)   \n",
    "큐에 자료를 한 개 집어넣는 동작을 인큐(enqueue), 큐 안에 있는 자료를 한 개 꺼내는 동작을 디큐(dequeue)라고 표현한다.   \n",
    "\n",
    "### 스택(stack)  \n",
    "접시쌓기   \n",
    "설거지할때 맨 위에 있는 접시를 먼저 꺼낸다. 가장 마지막에 들어간 자료를 가장 먼저 꺼내는 것을 의미한다.  \n",
    "(Last in First Out)  \n",
    "스택에 자료를 하나 집어넣는 동작을 푸시(push), 스택 안에 있는 자료를 하나 꺼내는 동작을 팝(pop)이라고 표현한다.  \n",
    "\n",
    "\n",
    "### 리스트로 큐와 스택 사용하기  \n",
    "큐와 스택은 자료를 일렬로 보관하는 특징이 있다.  \n",
    "\n",
    "큐    \n",
    "\n",
    "`qu=[]\n",
    "qu.append(x)\n",
    "qu.pop(0)`   \n",
    "\n",
    "스택  \n",
    "\n",
    "`st=[]\n",
    "st.append(x)\n",
    "st.pop()`"
   ]
  },
  {
   "cell_type": "markdown",
   "metadata": {},
   "source": [
    "### 회문 찾기 알고리즘  \n",
    "\n",
    "큐에서 꺼낸 문자들이 스택에서 꺼낸 문자들(역순)과 모두 같다면 그 문장은 회문이다.  "
   ]
  },
  {
   "cell_type": "code",
   "execution_count": 17,
   "metadata": {},
   "outputs": [],
   "source": [
    "def palindrome(a):\n",
    "    qu=[]\n",
    "    st=[]\n",
    "    for i in a:\n",
    "        if i.isalpha():\n",
    "            qu.append(i.lower())\n",
    "            st.append(i.lower())\n",
    "    while qu: #qu에 문자가 남아있는동안 반복  \n",
    "        if qu.pop(0)!=st.pop():\n",
    "            return False\n",
    "    return True"
   ]
  },
  {
   "cell_type": "code",
   "execution_count": 19,
   "metadata": {},
   "outputs": [
    {
     "name": "stdout",
     "output_type": "stream",
     "text": [
      "True\n",
      "True\n",
      "True\n",
      "False\n"
     ]
    }
   ],
   "source": [
    "print(palindrome('다시 합창# 합시다'))\n",
    "print(palindrome('wow'))\n",
    "print(palindrome(\"Madam, I'm Adam.\"))\n",
    "print(palindrome(\"Madam, I am Adam.\"))"
   ]
  },
  {
   "cell_type": "markdown",
   "metadata": {},
   "source": [
    "### 큐와 스택 이용하지 않고 회문 찾기 "
   ]
  },
  {
   "cell_type": "code",
   "execution_count": 20,
   "metadata": {},
   "outputs": [],
   "source": [
    "def palidrome(a):\n",
    "    i=0\n",
    "    j=len(a)-1\n",
    "    while i<j:   #중간까지만 검사하면 됨\n",
    "        # i위치에 있는 문자가 알파벳 문자가 아님녀 뒤로 이동\n",
    "        if a[i].isalpha()==False:\n",
    "            i+=1\n",
    "        # j 위치에 있는 문자가 알파벳 문자가 아니면 앞으로 이동 \n",
    "        elif a[j].isalpha()==False:\n",
    "            j-=1\n",
    "        #i와 j 위치에 둘 다 알파벳 문자가 있으면 두 문자를 비교하고 다르면 회문이 아님\n",
    "        elif a[i].lower()!=a[j].lower():\n",
    "            return False\n",
    "        # i와 j 위치에 두 문자를 비교하고 같으면 다음 비교 대상으로 넘어감\n",
    "        else:\n",
    "            i+=1\n",
    "            i-=1\n",
    "    return"
   ]
  },
  {
   "cell_type": "code",
   "execution_count": 21,
   "metadata": {},
   "outputs": [
    {
     "name": "stdout",
     "output_type": "stream",
     "text": [
      "True\n",
      "True\n",
      "True\n",
      "False\n"
     ]
    }
   ],
   "source": [
    "print(palindrome('다시 합창# 합시다'))\n",
    "print(palindrome('wow'))\n",
    "print(palindrome(\"Madam, I'm Adam.\"))\n",
    "print(palindrome(\"Madam, I am Adam.\"))"
   ]
  }
 ],
 "metadata": {
  "kernelspec": {
   "display_name": "Python 3",
   "language": "python",
   "name": "python3"
  },
  "language_info": {
   "codemirror_mode": {
    "name": "ipython",
    "version": 3
   },
   "file_extension": ".py",
   "mimetype": "text/x-python",
   "name": "python",
   "nbconvert_exporter": "python",
   "pygments_lexer": "ipython3",
   "version": "3.7.7"
  }
 },
 "nbformat": 4,
 "nbformat_minor": 4
}
