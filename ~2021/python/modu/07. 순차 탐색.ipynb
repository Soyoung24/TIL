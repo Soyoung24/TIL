{
 "cells": [
  {
   "cell_type": "markdown",
   "metadata": {},
   "source": [
    "# 문제7\n",
    "주어진 리스트에 특정한 값이 있는지 찾아 그 위치를 돌려주는 알고리즘을 만들어보세요.   \n",
    "리스트에 찾는 값이 없다면 -1을 돌려줍니다."
   ]
  },
  {
   "cell_type": "code",
   "execution_count": 1,
   "metadata": {},
   "outputs": [],
   "source": [
    "# 주어진 리스트\n",
    "lst=[17,92,18,33,58,5,33,42]"
   ]
  },
  {
   "cell_type": "code",
   "execution_count": 19,
   "metadata": {},
   "outputs": [],
   "source": [
    "#나\n",
    "\n",
    "def find_loc(lst,d):\n",
    "    a=0\n",
    "    for i,j in enumerate(lst):\n",
    "        if j==d:\n",
    "            a=i\n",
    "        if d not in lst:\n",
    "            a=-1\n",
    "    return(a)"
   ]
  },
  {
   "cell_type": "code",
   "execution_count": 20,
   "metadata": {},
   "outputs": [
    {
     "name": "stdout",
     "output_type": "stream",
     "text": [
      "2\n",
      "6\n",
      "-1\n"
     ]
    }
   ],
   "source": [
    "print(find_loc(lst,18))\n",
    "print(find_loc(lst,33))\n",
    "print(find_loc(lst,900))"
   ]
  },
  {
   "cell_type": "code",
   "execution_count": 1,
   "metadata": {},
   "outputs": [],
   "source": [
    "# 책\n",
    "def search_list(a,x):\n",
    "    n=len(a)\n",
    "    for i in range(0,n):\n",
    "        if x==a[i]:\n",
    "            return i \n",
    "    return -1"
   ]
  },
  {
   "cell_type": "code",
   "execution_count": 2,
   "metadata": {},
   "outputs": [],
   "source": [
    "lst=[17,92,18,33,58,5,33,42]"
   ]
  },
  {
   "cell_type": "code",
   "execution_count": 4,
   "metadata": {},
   "outputs": [
    {
     "name": "stdout",
     "output_type": "stream",
     "text": [
      "2\n",
      "3\n",
      "-1\n"
     ]
    }
   ],
   "source": [
    "print(search_list(lst,18))\n",
    "print(search_list(lst,33))\n",
    "print(search_list(lst,900))"
   ]
  },
  {
   "cell_type": "markdown",
   "metadata": {},
   "source": [
    "## 연습문제 7-1\n",
    "\n",
    "리스트에 찾는값이 여러 개가 있는 경우. 찾는 값이 나오는 모든 위치를 리스트로 돌려주는 탐색 알고리즘 만들어보세요.  찾는 값이 리스트에 없다면 빈 리스트인 []를 돌려준다."
   ]
  },
  {
   "cell_type": "code",
   "execution_count": 8,
   "metadata": {},
   "outputs": [],
   "source": [
    "def search_list(a,x):\n",
    "    flst=[]\n",
    "    n=len(a)\n",
    "    for i in range(0,n):\n",
    "        if x==a[i]:\n",
    "            flst.append(i)\n",
    "    return flst"
   ]
  },
  {
   "cell_type": "code",
   "execution_count": 9,
   "metadata": {},
   "outputs": [],
   "source": [
    "lst=[17,92,18,33,33,58,5,33,42]"
   ]
  },
  {
   "cell_type": "code",
   "execution_count": 12,
   "metadata": {},
   "outputs": [
    {
     "name": "stdout",
     "output_type": "stream",
     "text": [
      "[]\n",
      "[3, 4, 7]\n"
     ]
    }
   ],
   "source": [
    "print(search_list(lst,1))\n",
    "print(search_list(lst,33))"
   ]
  },
  {
   "cell_type": "markdown",
   "metadata": {},
   "source": [
    "## 연습문제 7-2\n",
    "\n",
    "다음과 같이 학생 번호와 이름이 리스트로 주어졌을 때 학생 번호를 입력하면 학생 번호에 해당하는 이름을 순차 탐색으로 찾아 돌려주는 함수를 만들어보기. 해당하는 학생 번호가 없으면 물음표(?)를 돌려준다. 참고로 학생번호가 39번이면 \"justin\", 14번이면 \"john\"을 돌려준다\n",
    "\n",
    "stu_no=[39, 14, 67, 105]   \n",
    "stu_name=[\"Justin\", \"John\", \"Mike\", \"Summer\"]"
   ]
  },
  {
   "cell_type": "code",
   "execution_count": 13,
   "metadata": {},
   "outputs": [],
   "source": [
    "stu_no=[39, 14, 67, 105]\n",
    "stu_name=[\"Justin\", \"John\", \"Mike\", \"Summer\"]"
   ]
  },
  {
   "cell_type": "code",
   "execution_count": 18,
   "metadata": {},
   "outputs": [],
   "source": [
    "def search_name(a,b,x):\n",
    "    n=len(a)\n",
    "    for i in range(0,n):\n",
    "        if x==a[i]:\n",
    "            return b[i]\n",
    "    return '?'"
   ]
  },
  {
   "cell_type": "code",
   "execution_count": 20,
   "metadata": {},
   "outputs": [
    {
     "name": "stdout",
     "output_type": "stream",
     "text": [
      "Justin\n",
      "John\n",
      "?\n"
     ]
    }
   ],
   "source": [
    "print(search_name(stu_no,stu_name,39))\n",
    "print(search_name(stu_no,stu_name,14))\n",
    "print(search_name(stu_no,stu_name,50))\n"
   ]
  }
 ],
 "metadata": {
  "kernelspec": {
   "display_name": "Python 3",
   "language": "python",
   "name": "python3"
  },
  "language_info": {
   "codemirror_mode": {
    "name": "ipython",
    "version": 3
   },
   "file_extension": ".py",
   "mimetype": "text/x-python",
   "name": "python",
   "nbconvert_exporter": "python",
   "pygments_lexer": "ipython3",
   "version": "3.7.9"
  }
 },
 "nbformat": 4,
 "nbformat_minor": 4
}
