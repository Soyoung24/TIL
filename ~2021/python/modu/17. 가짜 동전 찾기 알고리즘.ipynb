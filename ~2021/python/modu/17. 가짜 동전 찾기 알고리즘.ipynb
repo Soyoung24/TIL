{
 "cells": [
  {
   "cell_type": "markdown",
   "metadata": {},
   "source": [
    "# 문제 17\n",
    "겉보기에는 똑같은 동전이 n개가 있다. 이 중에서 한 개는 싸고 가벼운 재료로 만들어진 '가짜 동전'이다. 좌우 무게를 비교할 수 있는 양팔 저울을 이용해서 다른 동전보다 가벼운 가짜 동전을 찾아내는 알고리즘을 만들어라"
   ]
  },
  {
   "cell_type": "markdown",
   "metadata": {},
   "source": [
    "### 방법1 하나씩 비교하기   \n",
    "0번 동전을 저울의 왼쪽에 올려놓고 오른편에는 1번동전부터 차례로 바꿔가며 저울질해보면 가짜동전 찾을 수 있다."
   ]
  },
  {
   "cell_type": "code",
   "execution_count": 1,
   "metadata": {},
   "outputs": [
    {
     "name": "stdout",
     "output_type": "stream",
     "text": [
      "29\n"
     ]
    }
   ],
   "source": [
    "# a에서 b까지 놓인 동전과\n",
    "# c에서 d까지 놓인 동전의 무게를 비교\n",
    "# a에서 b까지에 가짜 동전이 있으면 -1\n",
    "# c에서 d까지에 가짜 동전이 있으면 1\n",
    "# 가짜 동전이 없으면 0\n",
    "\n",
    "def weight(a,b,c,d):\n",
    "    fake=29 # 가짜 동전의 위치 이 값을 맞춰야함\n",
    "    if a<=fake and fake<=b:\n",
    "        return -1\n",
    "    if c<=fake and fake<=d:\n",
    "        return 1\n",
    "    return 0\n",
    "\n",
    "#weight 함수를 이용하여 left에서 right까지 놓인 가짜 동전의 위치 알아내기\n",
    "def find_fakecoin(left, right):\n",
    "    for i in range(left+1, right+1): # left+1부터 right까지 반복\n",
    "        result=weight(left, left, i, i)\n",
    "        if result==-1: # left 동전이 가벼움(left 동전이 가짜)\n",
    "            return left\n",
    "        elif result==1:  # i 동전이 가벼움\n",
    "            return i\n",
    "    return -1\n",
    "\n",
    "n=100\n",
    "print(find_fakecoin(0,n-1))\n",
    "        "
   ]
  },
  {
   "cell_type": "markdown",
   "metadata": {},
   "source": [
    "### 방법2 반씩 그룹으로 나누어 비교하기"
   ]
  },
  {
   "cell_type": "code",
   "execution_count": 2,
   "metadata": {},
   "outputs": [],
   "source": [
    "def find_fakecoin(left, right):\n",
    "    # 종료조건: 가짜 동전이 있을 범위 안에 동전이 한개뿐이면 그 동전이 가짜 동전\n",
    "    if left==right:\n",
    "        return left\n",
    "    # 동전을 두 그룹으로 나누고, 동전 수가 홀수면 두 그룹으로 나누고 한 개가 남음\n",
    "    half=(right-left+1)//2\n",
    "    g1_left=left\n",
    "    g1_right=left+half-1\n",
    "    g2_left=left+half\n",
    "    g2_right=g2_left+half-1\n",
    "    \n",
    "    result=weight(g1_left, g1_right, g2_left, g2_right)\n",
    "    if result==-1:\n",
    "        # 그룹 1 범위를 재귀호출로 다시 조사\n",
    "        return find_fakecoin(g1_left, g1_right)\n",
    "    elif result==1:\n",
    "        return find_fakecoin(g2_left, g2_right)\n",
    "    else:\n",
    "        return right    "
   ]
  },
  {
   "cell_type": "code",
   "execution_count": 3,
   "metadata": {},
   "outputs": [
    {
     "name": "stdout",
     "output_type": "stream",
     "text": [
      "29\n"
     ]
    }
   ],
   "source": [
    "n=100\n",
    "print(find_fakecoin(0,n-1))"
   ]
  }
 ],
 "metadata": {
  "kernelspec": {
   "display_name": "Python 3",
   "language": "python",
   "name": "python3"
  },
  "language_info": {
   "codemirror_mode": {
    "name": "ipython",
    "version": 3
   },
   "file_extension": ".py",
   "mimetype": "text/x-python",
   "name": "python",
   "nbconvert_exporter": "python",
   "pygments_lexer": "ipython3",
   "version": "3.7.7"
  }
 },
 "nbformat": 4,
 "nbformat_minor": 4
}
