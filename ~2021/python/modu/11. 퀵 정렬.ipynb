{
 "cells": [
  {
   "cell_type": "markdown",
   "metadata": {},
   "source": [
    "# 문제 11 \n",
    "리스트 안의 자료를 작은 수부터 큰 수 순서로 배열하는 정렬 알고리즘을 만들어 보세요.   \n",
    "퀵정렬(Quicksort)는 '그룹을 둘로 나눠 재귀 호출'하는 방식은 병합 정렬과 같지만, 그룹을 나눌 때 미리 기준과 비교해서 나눈다는 점이 다르다.  \n",
    "먼저 기준과 비교해서 그룹을 나눈 다음 각각 재귀호출하여 합치는 방식"
   ]
  },
  {
   "cell_type": "code",
   "execution_count": 4,
   "metadata": {},
   "outputs": [],
   "source": [
    "def quick_sort(a):\n",
    "    n=len(a)\n",
    "    if n<=1:\n",
    "        return a\n",
    "    pivot=a[-1] # 기준\n",
    "    g1=[]\n",
    "    g2=[]\n",
    "    for i in range(0, n-1):\n",
    "        if a[i]<pivot:\n",
    "            g1.append(a[i])\n",
    "        else:\n",
    "            g2.append(a[i])\n",
    "    return quick_sort(g1)+[pivot]+quick_sort(g2)"
   ]
  },
  {
   "cell_type": "code",
   "execution_count": 10,
   "metadata": {},
   "outputs": [],
   "source": [
    "d=[6,1,7,2,10,3,8,4,9,5]"
   ]
  },
  {
   "cell_type": "code",
   "execution_count": 11,
   "metadata": {},
   "outputs": [
    {
     "name": "stdout",
     "output_type": "stream",
     "text": [
      "[1, 2, 3, 4, 5, 6, 7, 8, 9, 10]\n"
     ]
    }
   ],
   "source": [
    "print(quick_sort(d))"
   ]
  },
  {
   "cell_type": "markdown",
   "metadata": {},
   "source": [
    "### 일반적인 퀵 정렬 알고리즘"
   ]
  },
  {
   "cell_type": "code",
   "execution_count": 12,
   "metadata": {},
   "outputs": [],
   "source": [
    "def quick_sort_sub(a, start, end):\n",
    "    # 종료 조건: 정렬 대상이 한개이하이면 정렬할 필요가 없음\n",
    "    if end-start <=0:\n",
    "        return\n",
    "    #기준값을 정하고 기준 값에 맞춰 리스트 안에서 각 자료의 위치를 맞춤\n",
    "    #[기준 값보다 작은 값들, 기준 값보다 큰 값들]\n",
    "    pivot=a[end]  # 편의상 리스트의 마지막값을 기준으로 정함\n",
    "    i=start\n",
    "    for j in range(start, end):\n",
    "        if a[j]<=pivot:\n",
    "            a[i], a[j]=a[j], a[i]\n",
    "            i+=1\n",
    "    a[i], a[end]=a[end], a[i]\n",
    "    quick_sort_sub(a, start, i-1)\n",
    "    quick_sort_sub(a, i+1, end)\n",
    "    \n",
    "def quick_sort(a):\n",
    "    quick_sort_sub(a,0,len(a)-1)"
   ]
  },
  {
   "cell_type": "code",
   "execution_count": 14,
   "metadata": {},
   "outputs": [
    {
     "name": "stdout",
     "output_type": "stream",
     "text": [
      "[1, 2, 3, 4, 5, 6, 7, 8, 9, 10]\n"
     ]
    }
   ],
   "source": [
    "d=[6,1,7,2,10,3,8,4,9,5]\n",
    "quick_sort(d)\n",
    "print(d)"
   ]
  }
 ],
 "metadata": {
  "kernelspec": {
   "display_name": "Python 3",
   "language": "python",
   "name": "python3"
  },
  "language_info": {
   "codemirror_mode": {
    "name": "ipython",
    "version": 3
   },
   "file_extension": ".py",
   "mimetype": "text/x-python",
   "name": "python",
   "nbconvert_exporter": "python",
   "pygments_lexer": "ipython3",
   "version": "3.7.7"
  }
 },
 "nbformat": 4,
 "nbformat_minor": 4
}
