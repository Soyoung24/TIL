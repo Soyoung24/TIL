{
 "cells": [
  {
   "cell_type": "markdown",
   "metadata": {},
   "source": [
    "# 문제 6\n",
    "원반이 n개인 하노이의 탑을 옮기기 위한 원반 이동 순서를 출력하는 알고리즘을 만들어보라  "
   ]
  },
  {
   "cell_type": "markdown",
   "metadata": {},
   "source": [
    "1. 원반이 한 개이면 그냥 옮기기만 하면 끝 (종료조건)  \n",
    "2. 원반이 n개 일때   \n",
    "    1. 1번 기둥에 있는 n개 원반 중 n-1개를 2번 기둥으로 옮긴다. (3번기둥을 보조기둥으로 사용)  \n",
    "    2. 1번 기둥에 남아 있는 가장 큰 원반을 3번 기둥으로 옮긴다.   \n",
    "    3. 2번 기둥에 있는 n-1개의 기둥을 3번 기둥으로 옮긴다. (1번기둥을 보조기둥으로 사용)"
   ]
  },
  {
   "cell_type": "code",
   "execution_count": 1,
   "metadata": {},
   "outputs": [],
   "source": [
    "# 옮길 원반이 현재 있는 출발점 기둥 from_pos\n",
    "# 원반을 옮길 도착점 기둥 to_pos\n",
    "# 옮기는 과정에서 사용할 보조기둥 aux_pos\n",
    "\n",
    "\n",
    "def hanoi(n,from_pos, to_pos, aux_pos):\n",
    "    if n==1:\n",
    "        print(from_pos, '->', to_pos)\n",
    "        return\n",
    "    hanoi(n-1, from_pos, aux_pos, to_pos)\n",
    "    print(from_pos, '->', to_pos)\n",
    "    hanoi(n-1, aux_pos, from_pos, to_pos)"
   ]
  },
  {
   "cell_type": "code",
   "execution_count": 3,
   "metadata": {},
   "outputs": [
    {
     "name": "stdout",
     "output_type": "stream",
     "text": [
      "1 -> 3\n",
      "1 -> 2\n",
      "3 -> 1\n",
      "1 -> 3\n",
      "2 -> 3\n",
      "2 -> 1\n",
      "3 -> 2\n",
      "1 -> 2\n",
      "3 -> 1\n",
      "3 -> 2\n",
      "1 -> 3\n",
      "3 -> 1\n",
      "2 -> 1\n",
      "2 -> 3\n",
      "1 -> 2\n",
      "1 -> 3\n",
      "2 -> 3\n",
      "2 -> 1\n",
      "3 -> 2\n",
      "2 -> 3\n",
      "1 -> 3\n",
      "1 -> 2\n",
      "3 -> 1\n",
      "2 -> 1\n",
      "3 -> 2\n",
      "3 -> 1\n",
      "2 -> 3\n",
      "3 -> 2\n",
      "1 -> 2\n",
      "1 -> 3\n",
      "2 -> 1\n"
     ]
    }
   ],
   "source": [
    "hanoi(5, 1, 3, 2)"
   ]
  }
 ],
 "metadata": {
  "kernelspec": {
   "display_name": "Python 3",
   "language": "python",
   "name": "python3"
  },
  "language_info": {
   "codemirror_mode": {
    "name": "ipython",
    "version": 3
   },
   "file_extension": ".py",
   "mimetype": "text/x-python",
   "name": "python",
   "nbconvert_exporter": "python",
   "pygments_lexer": "ipython3",
   "version": "3.7.6"
  }
 },
 "nbformat": 4,
 "nbformat_minor": 4
}
