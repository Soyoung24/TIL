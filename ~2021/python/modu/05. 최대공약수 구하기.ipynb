{
 "cells": [
  {
   "cell_type": "markdown",
   "metadata": {},
   "source": [
    "# 문제 5\n",
    "두 자연수 a와 b의 최대공약수를 구하는 알고리즘 만들기\n",
    "\n",
    "\n",
    "1. 두 수 중 더 작은 값을 i에 저장한다.   \n",
    "2. i가 두 수의 공통된 약수인지 확인한다. (두 수를 각각 i로 나눠서 나머지가 0이면 된다.)    \n",
    "3. 공통된 약수이면 이 값을 결과값으로 돌려주고 종료한다.   \n",
    "4. 공통된 약수가 아니라면 i를 1만큼 감소시키고 2번으로 돌아가 i로 나눠서 나머지가 0인지 확인한다. 이 과정을 계속 반복한다."
   ]
  },
  {
   "cell_type": "code",
   "execution_count": 6,
   "metadata": {},
   "outputs": [],
   "source": [
    "def find_gcd(a,b):\n",
    "    i=min(a,b)\n",
    "    while True:\n",
    "        if a%i==0 and b%i==0:\n",
    "            return i\n",
    "        i=i-1"
   ]
  },
  {
   "cell_type": "code",
   "execution_count": 7,
   "metadata": {},
   "outputs": [
    {
     "name": "stdout",
     "output_type": "stream",
     "text": [
      "1\n",
      "2\n"
     ]
    }
   ],
   "source": [
    "print(find_gcd(1,4))\n",
    "print(find_gcd(6,4))"
   ]
  },
  {
   "cell_type": "markdown",
   "metadata": {},
   "source": [
    "### 유클리드 알고리즘  \n",
    "유클리드는 최대공약수에 어떠한 성질이 있다는 것을 발견하였다.   \n",
    "1. a와 b의 최대공약수는 b와 a를 b로 나눈 나머지의 최대공약수와 같다.  \n",
    "2. 어떤 수와 0의 최대공약수는 자기자신이다.  \n",
    "\n",
    "\n",
    "**재귀호출로 이 문제를 풀 수 있다.**"
   ]
  },
  {
   "cell_type": "code",
   "execution_count": 10,
   "metadata": {},
   "outputs": [],
   "source": [
    "def gcd(a,b):\n",
    "    if b==0:\n",
    "        return a\n",
    "    return gcd(b,a%b)"
   ]
  },
  {
   "cell_type": "code",
   "execution_count": 11,
   "metadata": {},
   "outputs": [
    {
     "name": "stdout",
     "output_type": "stream",
     "text": [
      "1\n",
      "2\n"
     ]
    }
   ],
   "source": [
    "print(gcd(1,4))\n",
    "print(gcd(6,4))"
   ]
  },
  {
   "cell_type": "markdown",
   "metadata": {},
   "source": [
    "## 연습문제 5-1\n",
    "\n",
    "0부터 1까지 시작해서 바로 앞의 두 수를 더한 값을 다음 값으로 추가하는 방식으로 만든 수열을 피보나치 수열이라고 한다.  \n",
    "즉, 0+1=1, 1+1=2, 1+2=3, 2+3=5     \n",
    "0,1,1,2,3,5,8,13,21,34,55,.....   \n",
    "\n",
    "피보나치 수열이 파이썬의 리스트처럼 0번부터 시작한다고 할때 n번째 피보나치 수를 구하는 알고리즘을 재귀호출을 이용하여 구현해 보세요.   \n",
    "(힌트: 7번값=5번값+6번값)"
   ]
  },
  {
   "cell_type": "code",
   "execution_count": 27,
   "metadata": {},
   "outputs": [],
   "source": [
    "def fibo(n):\n",
    "    if n<=1:\n",
    "        return n\n",
    "    return fibo(n-1)+fibo(n-2)"
   ]
  },
  {
   "cell_type": "code",
   "execution_count": 29,
   "metadata": {},
   "outputs": [
    {
     "data": {
      "text/plain": [
       "8"
      ]
     },
     "execution_count": 29,
     "metadata": {},
     "output_type": "execute_result"
    }
   ],
   "source": [
    "fibo(6)"
   ]
  }
 ],
 "metadata": {
  "kernelspec": {
   "display_name": "Python 3",
   "language": "python",
   "name": "python3"
  },
  "language_info": {
   "codemirror_mode": {
    "name": "ipython",
    "version": 3
   },
   "file_extension": ".py",
   "mimetype": "text/x-python",
   "name": "python",
   "nbconvert_exporter": "python",
   "pygments_lexer": "ipython3",
   "version": "3.7.6"
  }
 },
 "nbformat": 4,
 "nbformat_minor": 4
}
