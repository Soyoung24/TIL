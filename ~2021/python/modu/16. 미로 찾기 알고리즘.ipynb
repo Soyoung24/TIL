{
 "cells": [
  {
   "cell_type": "markdown",
   "metadata": {},
   "source": [
    "# 문제 16\n",
    "미로 형태의 출발점과 도착점이 주어졌을때 출발점에서 도착점까지 가기 위한 최단 경로를 찾는 알고리즘을 만들어보세요.  \n",
    "\n",
    "이 미로 형태를 먼저 딕셔너리로 바꿔야한다."
   ]
  },
  {
   "cell_type": "code",
   "execution_count": 2,
   "metadata": {},
   "outputs": [],
   "source": [
    "maze = {\n",
    "    'a': ['e'],\n",
    "    'b': ['c', 'f'],\n",
    "    'c': ['b', 'd'],\n",
    "    'd': ['c'],\n",
    "    'e': ['a', 'i'],\n",
    "    'f': ['b', 'g', 'j'],\n",
    "    'g': ['f', 'h'],\n",
    "    'h': ['g', 'l'],\n",
    "    'i': ['e', 'm'],\n",
    "    'j': ['f', 'k', 'n'],\n",
    "    'k': ['j', 'o'],\n",
    "    'l': ['h', 'p'],\n",
    "    'm': ['i', 'n'],\n",
    "    'n': ['m', 'j'],\n",
    "    'o': ['k'],\n",
    "    'p': ['l']\n",
    "}"
   ]
  },
  {
   "cell_type": "markdown",
   "metadata": {},
   "source": [
    "### 그래프 탐색\n"
   ]
  },
  {
   "cell_type": "code",
   "execution_count": 5,
   "metadata": {},
   "outputs": [],
   "source": [
    "def solve_maze(g, start, end):\n",
    "    qu=[]\n",
    "    done=set()\n",
    "    \n",
    "    qu.append(start)\n",
    "    done.add(start)\n",
    "    \n",
    "    while qu:\n",
    "        p=qu.pop(0) # 큐에서 처리 대상을 꺼냄\n",
    "        v=p[-1]     # 큐에 저장된 이동 경로의 마지막 문자가 현재 처리해야할 꼭짓점\n",
    "        if v==end:\n",
    "            return p\n",
    "        for x in g[v]:\n",
    "            if x not in done:\n",
    "                qu.append(p+x) # 이동 경로에 새 꼭짓점으로 추가하여 큐에 저장\n",
    "                done.add(x)\n",
    "                \n",
    "    return \"?\"  # 탐색을 마칠때까지 도착점이 나오지 않으면 나갈 수 없는 미로"
   ]
  },
  {
   "cell_type": "code",
   "execution_count": 6,
   "metadata": {},
   "outputs": [
    {
     "name": "stdout",
     "output_type": "stream",
     "text": [
      "aeimnjfghlp\n"
     ]
    }
   ],
   "source": [
    "print(solve_maze(maze, 'a','p'))"
   ]
  }
 ],
 "metadata": {
  "kernelspec": {
   "display_name": "Python 3",
   "language": "python",
   "name": "python3"
  },
  "language_info": {
   "codemirror_mode": {
    "name": "ipython",
    "version": 3
   },
   "file_extension": ".py",
   "mimetype": "text/x-python",
   "name": "python",
   "nbconvert_exporter": "python",
   "pygments_lexer": "ipython3",
   "version": "3.7.7"
  }
 },
 "nbformat": 4,
 "nbformat_minor": 4
}
